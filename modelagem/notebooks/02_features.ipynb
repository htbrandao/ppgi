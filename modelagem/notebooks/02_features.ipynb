{
 "cells": [
  {
   "cell_type": "markdown",
   "id": "6a4cd1b7",
   "metadata": {},
   "source": [
    "# # Features"
   ]
  },
  {
   "cell_type": "code",
   "execution_count": null,
   "id": "beb6c843",
   "metadata": {},
   "outputs": [],
   "source": [
    "import librosa\n",
    "import librosa.display\n",
    "\n",
    "import numpy as np\n",
    "import pandas as pd\n",
    "import seaborn as sns\n",
    "import IPython.display as ipd\n",
    "import matplotlib.pyplot as plt\n",
    "\n",
    "from random import choice\n",
    "\n",
    "%matplotlib inline"
   ]
  },
  {
   "cell_type": "code",
   "execution_count": null,
   "id": "03d35b66",
   "metadata": {},
   "outputs": [],
   "source": [
    "DIR_DATAFRAMES = '/media/hbrandao/STORAGE_HDD_1TB/PPGI/BRAVO-DATAFRAMES/DATAFRAMES'"
   ]
  },
  {
   "cell_type": "code",
   "execution_count": null,
   "id": "ee3f96cf",
   "metadata": {},
   "outputs": [],
   "source": [
    "!ls -lah $DIR_DATAFRAMES"
   ]
  },
  {
   "cell_type": "markdown",
   "id": "67345d9e",
   "metadata": {},
   "source": [
    "## MFCC\n",
    "___\n",
    "\n",
    "Vamos explorar $64$, $128$ e $256$ MFCCs"
   ]
  },
  {
   "cell_type": "code",
   "execution_count": null,
   "id": "66d8242f",
   "metadata": {},
   "outputs": [],
   "source": [
    "SAMPLING_RATE = 44100\n",
    "NUM_MFCCS = (64, 128, 256)"
   ]
  },
  {
   "cell_type": "code",
   "execution_count": null,
   "id": "dc71bbb1",
   "metadata": {},
   "outputs": [],
   "source": [
    "Xsinal = np.load(f'{DIR_DATAFRAMES}/Xsinal.npy', allow_pickle=True)\n",
    "Xsinal_pad = np.load(f'{DIR_DATAFRAMES}/Xsinal_0padded.npy')\n",
    "Xsinal_stretch = np.load(f'{DIR_DATAFRAMES}/Xsinal_stretch_0padded.npy')\n",
    "Xsinal_tile = np.load(f'{DIR_DATAFRAMES}/Xsinal_tile_0padded.npy')"
   ]
  },
  {
   "cell_type": "code",
   "execution_count": null,
   "id": "0f46c2ac",
   "metadata": {},
   "outputs": [],
   "source": [
    "Xsinal.shape, Xsinal_pad.shape, Xsinal_stretch.shape, Xsinal_tile.shape"
   ]
  },
  {
   "cell_type": "markdown",
   "id": "d96bf183",
   "metadata": {},
   "source": [
    "## \\# -------------------- Mean"
   ]
  },
  {
   "cell_type": "code",
   "execution_count": null,
   "id": "b871f8c2",
   "metadata": {},
   "outputs": [],
   "source": [
    "Xsinal_64mfcc = None\n",
    "Xsinal_128mfcc = None\n",
    "Xsinal_256mfcc = None"
   ]
  },
  {
   "cell_type": "code",
   "execution_count": null,
   "id": "18e2a4dd",
   "metadata": {},
   "outputs": [],
   "source": [
    "Xsinal_pad_64mfcc = None\n",
    "Xsinal_pad_128mfcc = None\n",
    "Xsinal_pad_256mfcc = None"
   ]
  },
  {
   "cell_type": "code",
   "execution_count": null,
   "id": "5ea7a393",
   "metadata": {},
   "outputs": [],
   "source": [
    "Xsinal_stretch_64mfcc = None\n",
    "Xsinal_stretch_128mfcc = None\n",
    "Xsinal_stretch_256mfcc = None"
   ]
  },
  {
   "cell_type": "code",
   "execution_count": null,
   "id": "be73e958",
   "metadata": {},
   "outputs": [],
   "source": [
    "Xsinal_tile_64mfcc = None\n",
    "Xsinal_tile_128mfcc = None\n",
    "Xsinal_tile_256mfcc = None"
   ]
  },
  {
   "cell_type": "code",
   "execution_count": null,
   "id": "e4a83235",
   "metadata": {},
   "outputs": [],
   "source": []
  },
  {
   "cell_type": "code",
   "execution_count": null,
   "id": "6fd394f3",
   "metadata": {},
   "outputs": [],
   "source": []
  },
  {
   "cell_type": "code",
   "execution_count": null,
   "id": "23fa4ec7",
   "metadata": {},
   "outputs": [],
   "source": [
    "# [\n",
    "#     librosa.feature.mfcc(y=librosa.load(path=_, sr=SAMPLING_RATE)[0],\n",
    "#                          sr=SAMPLING_RATE,\n",
    "#                          n_mfcc=64)\n",
    "#     for _ in Xfusao['path']\n",
    "# ]"
   ]
  },
  {
   "cell_type": "code",
   "execution_count": null,
   "id": "43cdc3c1",
   "metadata": {},
   "outputs": [],
   "source": [
    "# plt.figure(figsize=(10,4))\n",
    "\n",
    "# idx = 777\n",
    "\n",
    "# plt.subplot(2,2,1)\n",
    "# _ = Xfusao_mfcc[idx]\n",
    "# plt.imshow(_)\n",
    "# plt.title(f'mfcc -> {_.shape}')\n",
    "\n",
    "# plt.subplot(1,2,2)\n",
    "# _ = Xfusao_mfcc[idx].T\n",
    "# plt.imshow(_)\n",
    "# plt.title(f'mfcc transposto -> {_.shape}')\n",
    "\n",
    "# plt.show()"
   ]
  },
  {
   "cell_type": "code",
   "execution_count": null,
   "id": "1869ed2b",
   "metadata": {},
   "outputs": [],
   "source": [
    "# Xfusao_mfcc_mean = [np.mean(_.T, axis=0) for _ in Xfusao_mfcc]  # tomando mfcc.T"
   ]
  },
  {
   "cell_type": "code",
   "execution_count": null,
   "id": "30fa6985",
   "metadata": {},
   "outputs": [],
   "source": [
    "# a = Xfusao['arquivo'].iloc[777]\n",
    "\n",
    "# plt.plot(Xfusao_mfcc_mean[777])\n",
    "\n",
    "# plt.title(f'features de {a}')\n",
    "# plt.xlabel('np.mean')\n",
    "# plt.ylabel('valor')\n",
    "# plt.grid()\n",
    "# plt.show()"
   ]
  },
  {
   "cell_type": "code",
   "execution_count": null,
   "id": "c6085851",
   "metadata": {},
   "outputs": [],
   "source": [
    "# Xfusao_mfcc_mean = pd.DataFrame(data=Xfusao_mfcc_mean)\n",
    "# Xfusao_mfcc_mean.shape"
   ]
  },
  {
   "cell_type": "code",
   "execution_count": null,
   "id": "31c307b6",
   "metadata": {},
   "outputs": [],
   "source": [
    "# Xfusao_mfcc_mean.head()"
   ]
  },
  {
   "cell_type": "code",
   "execution_count": null,
   "id": "a9b81909",
   "metadata": {},
   "outputs": [],
   "source": []
  },
  {
   "cell_type": "code",
   "execution_count": null,
   "id": "077d873d",
   "metadata": {},
   "outputs": [],
   "source": []
  },
  {
   "cell_type": "code",
   "execution_count": null,
   "id": "89efbafb",
   "metadata": {},
   "outputs": [],
   "source": []
  },
  {
   "cell_type": "code",
   "execution_count": null,
   "id": "b3e43b77",
   "metadata": {},
   "outputs": [],
   "source": []
  },
  {
   "cell_type": "code",
   "execution_count": null,
   "id": "24eb3ca4",
   "metadata": {},
   "outputs": [],
   "source": []
  }
 ],
 "metadata": {
  "kernelspec": {
   "display_name": "Python 3 (ipykernel)",
   "language": "python",
   "name": "python3"
  },
  "language_info": {
   "codemirror_mode": {
    "name": "ipython",
    "version": 3
   },
   "file_extension": ".py",
   "mimetype": "text/x-python",
   "name": "python",
   "nbconvert_exporter": "python",
   "pygments_lexer": "ipython3",
   "version": "3.8.10"
  }
 },
 "nbformat": 4,
 "nbformat_minor": 5
}
