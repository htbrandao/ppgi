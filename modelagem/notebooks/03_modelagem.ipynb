{
 "cells": [
  {
   "cell_type": "markdown",
   "id": "1260bf99",
   "metadata": {},
   "source": [
    "# # Modelagem"
   ]
  },
  {
   "cell_type": "code",
   "execution_count": 1,
   "id": "afd0e573",
   "metadata": {},
   "outputs": [],
   "source": [
    "import keras as K\n",
    "import numpy as np\n",
    "import pandas as pd\n",
    "import seaborn as sns\n",
    "import tensorflow as tf\n",
    "import matplotlib.pyplot as plt\n",
    "\n",
    "from keras import layers\n",
    "from sklearn.model_selection import train_test_split\n",
    "\n",
    "%matplotlib inline"
   ]
  },
  {
   "cell_type": "code",
   "execution_count": 2,
   "id": "ec728180",
   "metadata": {},
   "outputs": [
    {
     "name": "stdout",
     "output_type": "stream",
     "text": [
      "GPU:0\n"
     ]
    },
    {
     "name": "stderr",
     "output_type": "stream",
     "text": [
      "2023-03-16 20:05:31.427472: I tensorflow/stream_executor/cuda/cuda_gpu_executor.cc:937] successful NUMA node read from SysFS had negative value (-1), but there must be at least one NUMA node, so returning NUMA node zero\n",
      "2023-03-16 20:05:31.445517: I tensorflow/stream_executor/cuda/cuda_gpu_executor.cc:937] successful NUMA node read from SysFS had negative value (-1), but there must be at least one NUMA node, so returning NUMA node zero\n",
      "2023-03-16 20:05:31.445676: I tensorflow/stream_executor/cuda/cuda_gpu_executor.cc:937] successful NUMA node read from SysFS had negative value (-1), but there must be at least one NUMA node, so returning NUMA node zero\n"
     ]
    }
   ],
   "source": [
    "PHYS_DEVICE_NAME = tf.config.list_physical_devices('GPU')[0].name[-5:]\n",
    "if PHYS_DEVICE_NAME:\n",
    "    print(PHYS_DEVICE_NAME)\n",
    "else:\n",
    "    raise Exception('GPU não encontrada')"
   ]
  },
  {
   "cell_type": "markdown",
   "id": "a0ea4cb6",
   "metadata": {},
   "source": [
    "## Dados"
   ]
  },
  {
   "cell_type": "code",
   "execution_count": 3,
   "id": "6bfdef71",
   "metadata": {},
   "outputs": [
    {
     "name": "stdout",
     "output_type": "stream",
     "text": [
      "Xfusao.csv  Xmfcc.csv\r\n"
     ]
    }
   ],
   "source": [
    "!ls DATAFRAMES/"
   ]
  },
  {
   "cell_type": "markdown",
   "id": "8e8ea7c2",
   "metadata": {},
   "source": [
    "Iremos organizar os conjuntos a serem utilizados, onde:\n",
    "\n",
    "- $X$ é formado pelos dados de entrada, que representam os arquivos de áudio;\n",
    "- $Y$ é formado pelas emoções;\n",
    "- $Z$ é formado pelas intensidades"
   ]
  },
  {
   "cell_type": "code",
   "execution_count": 4,
   "id": "8d52b751",
   "metadata": {},
   "outputs": [
    {
     "data": {
      "text/plain": [
       "(1364, 120)"
      ]
     },
     "execution_count": 4,
     "metadata": {},
     "output_type": "execute_result"
    }
   ],
   "source": [
    "X = pd.read_csv('DATAFRAMES/Xmfcc.csv', sep=';')\n",
    "X.shape"
   ]
  },
  {
   "cell_type": "code",
   "execution_count": 5,
   "id": "c2d78d3b",
   "metadata": {},
   "outputs": [
    {
     "data": {
      "text/html": [
       "<div>\n",
       "<style scoped>\n",
       "    .dataframe tbody tr th:only-of-type {\n",
       "        vertical-align: middle;\n",
       "    }\n",
       "\n",
       "    .dataframe tbody tr th {\n",
       "        vertical-align: top;\n",
       "    }\n",
       "\n",
       "    .dataframe thead th {\n",
       "        text-align: right;\n",
       "    }\n",
       "</style>\n",
       "<table border=\"1\" class=\"dataframe\">\n",
       "  <thead>\n",
       "    <tr style=\"text-align: right;\">\n",
       "      <th></th>\n",
       "      <th>0</th>\n",
       "      <th>1</th>\n",
       "      <th>2</th>\n",
       "      <th>3</th>\n",
       "      <th>4</th>\n",
       "      <th>5</th>\n",
       "      <th>6</th>\n",
       "      <th>7</th>\n",
       "      <th>8</th>\n",
       "      <th>9</th>\n",
       "      <th>...</th>\n",
       "      <th>110</th>\n",
       "      <th>111</th>\n",
       "      <th>112</th>\n",
       "      <th>113</th>\n",
       "      <th>114</th>\n",
       "      <th>115</th>\n",
       "      <th>116</th>\n",
       "      <th>117</th>\n",
       "      <th>118</th>\n",
       "      <th>119</th>\n",
       "    </tr>\n",
       "  </thead>\n",
       "  <tbody>\n",
       "    <tr>\n",
       "      <th>0</th>\n",
       "      <td>-264.792786</td>\n",
       "      <td>125.539139</td>\n",
       "      <td>-62.624714</td>\n",
       "      <td>28.315695</td>\n",
       "      <td>1.279387</td>\n",
       "      <td>-8.616631</td>\n",
       "      <td>-4.265706</td>\n",
       "      <td>12.050941</td>\n",
       "      <td>-27.621435</td>\n",
       "      <td>-7.861643</td>\n",
       "      <td>...</td>\n",
       "      <td>-1.748398</td>\n",
       "      <td>-0.898110</td>\n",
       "      <td>-0.119338</td>\n",
       "      <td>0.555444</td>\n",
       "      <td>0.690031</td>\n",
       "      <td>0.893465</td>\n",
       "      <td>0.846773</td>\n",
       "      <td>0.283752</td>\n",
       "      <td>-0.185898</td>\n",
       "      <td>-0.130898</td>\n",
       "    </tr>\n",
       "    <tr>\n",
       "      <th>1</th>\n",
       "      <td>-272.888550</td>\n",
       "      <td>121.097145</td>\n",
       "      <td>-41.149326</td>\n",
       "      <td>36.463421</td>\n",
       "      <td>7.565406</td>\n",
       "      <td>-16.098637</td>\n",
       "      <td>-6.408170</td>\n",
       "      <td>3.941464</td>\n",
       "      <td>-18.141294</td>\n",
       "      <td>-10.447558</td>\n",
       "      <td>...</td>\n",
       "      <td>-1.295892</td>\n",
       "      <td>-0.857775</td>\n",
       "      <td>-0.163954</td>\n",
       "      <td>0.522544</td>\n",
       "      <td>0.864576</td>\n",
       "      <td>0.903463</td>\n",
       "      <td>0.971885</td>\n",
       "      <td>0.158906</td>\n",
       "      <td>0.127875</td>\n",
       "      <td>0.256920</td>\n",
       "    </tr>\n",
       "    <tr>\n",
       "      <th>2</th>\n",
       "      <td>-252.119629</td>\n",
       "      <td>140.533325</td>\n",
       "      <td>-48.734734</td>\n",
       "      <td>25.311930</td>\n",
       "      <td>11.052135</td>\n",
       "      <td>-15.032625</td>\n",
       "      <td>-15.175117</td>\n",
       "      <td>-0.740196</td>\n",
       "      <td>-12.050269</td>\n",
       "      <td>-6.450643</td>\n",
       "      <td>...</td>\n",
       "      <td>-1.269958</td>\n",
       "      <td>-0.506434</td>\n",
       "      <td>0.136597</td>\n",
       "      <td>0.658416</td>\n",
       "      <td>1.204028</td>\n",
       "      <td>1.187821</td>\n",
       "      <td>1.145636</td>\n",
       "      <td>0.580611</td>\n",
       "      <td>0.591504</td>\n",
       "      <td>0.303071</td>\n",
       "    </tr>\n",
       "    <tr>\n",
       "      <th>3</th>\n",
       "      <td>-301.812012</td>\n",
       "      <td>115.630440</td>\n",
       "      <td>-44.689743</td>\n",
       "      <td>40.499535</td>\n",
       "      <td>12.119360</td>\n",
       "      <td>-9.788790</td>\n",
       "      <td>-14.219805</td>\n",
       "      <td>6.883999</td>\n",
       "      <td>-16.215971</td>\n",
       "      <td>-5.742364</td>\n",
       "      <td>...</td>\n",
       "      <td>-1.433162</td>\n",
       "      <td>-0.537758</td>\n",
       "      <td>-0.466619</td>\n",
       "      <td>0.289152</td>\n",
       "      <td>0.665391</td>\n",
       "      <td>0.794946</td>\n",
       "      <td>0.723460</td>\n",
       "      <td>1.131353</td>\n",
       "      <td>0.772526</td>\n",
       "      <td>-0.120861</td>\n",
       "    </tr>\n",
       "    <tr>\n",
       "      <th>4</th>\n",
       "      <td>-256.258118</td>\n",
       "      <td>118.041618</td>\n",
       "      <td>-61.199539</td>\n",
       "      <td>42.643768</td>\n",
       "      <td>14.546075</td>\n",
       "      <td>-13.713741</td>\n",
       "      <td>-13.657145</td>\n",
       "      <td>7.992791</td>\n",
       "      <td>-25.783739</td>\n",
       "      <td>-8.232481</td>\n",
       "      <td>...</td>\n",
       "      <td>-0.783558</td>\n",
       "      <td>-0.262848</td>\n",
       "      <td>-0.175987</td>\n",
       "      <td>0.290252</td>\n",
       "      <td>0.595873</td>\n",
       "      <td>1.549510</td>\n",
       "      <td>1.445828</td>\n",
       "      <td>0.597592</td>\n",
       "      <td>0.366670</td>\n",
       "      <td>0.384863</td>\n",
       "    </tr>\n",
       "  </tbody>\n",
       "</table>\n",
       "<p>5 rows × 120 columns</p>\n",
       "</div>"
      ],
      "text/plain": [
       "            0           1          2          3          4          5  \\\n",
       "0 -264.792786  125.539139 -62.624714  28.315695   1.279387  -8.616631   \n",
       "1 -272.888550  121.097145 -41.149326  36.463421   7.565406 -16.098637   \n",
       "2 -252.119629  140.533325 -48.734734  25.311930  11.052135 -15.032625   \n",
       "3 -301.812012  115.630440 -44.689743  40.499535  12.119360  -9.788790   \n",
       "4 -256.258118  118.041618 -61.199539  42.643768  14.546075 -13.713741   \n",
       "\n",
       "           6          7          8          9  ...       110       111  \\\n",
       "0  -4.265706  12.050941 -27.621435  -7.861643  ... -1.748398 -0.898110   \n",
       "1  -6.408170   3.941464 -18.141294 -10.447558  ... -1.295892 -0.857775   \n",
       "2 -15.175117  -0.740196 -12.050269  -6.450643  ... -1.269958 -0.506434   \n",
       "3 -14.219805   6.883999 -16.215971  -5.742364  ... -1.433162 -0.537758   \n",
       "4 -13.657145   7.992791 -25.783739  -8.232481  ... -0.783558 -0.262848   \n",
       "\n",
       "        112       113       114       115       116       117       118  \\\n",
       "0 -0.119338  0.555444  0.690031  0.893465  0.846773  0.283752 -0.185898   \n",
       "1 -0.163954  0.522544  0.864576  0.903463  0.971885  0.158906  0.127875   \n",
       "2  0.136597  0.658416  1.204028  1.187821  1.145636  0.580611  0.591504   \n",
       "3 -0.466619  0.289152  0.665391  0.794946  0.723460  1.131353  0.772526   \n",
       "4 -0.175987  0.290252  0.595873  1.549510  1.445828  0.597592  0.366670   \n",
       "\n",
       "        119  \n",
       "0 -0.130898  \n",
       "1  0.256920  \n",
       "2  0.303071  \n",
       "3 -0.120861  \n",
       "4  0.384863  \n",
       "\n",
       "[5 rows x 120 columns]"
      ]
     },
     "execution_count": 5,
     "metadata": {},
     "output_type": "execute_result"
    }
   ],
   "source": [
    "X.head()"
   ]
  },
  {
   "cell_type": "code",
   "execution_count": 6,
   "id": "8f5ddbf0",
   "metadata": {},
   "outputs": [
    {
     "data": {
      "text/plain": [
       "(1364, 4)"
      ]
     },
     "execution_count": 6,
     "metadata": {},
     "output_type": "execute_result"
    }
   ],
   "source": [
    "Y = pd.read_csv('DATAFRAMES/Xfusao.csv', sep=';')\n",
    "Y.drop(labels=['path', 'pessoa', 'genero', 'duracao'], axis=1, inplace=True)\n",
    "Y.shape"
   ]
  },
  {
   "cell_type": "code",
   "execution_count": 7,
   "id": "62d2556b",
   "metadata": {},
   "outputs": [
    {
     "data": {
      "text/html": [
       "<div>\n",
       "<style scoped>\n",
       "    .dataframe tbody tr th:only-of-type {\n",
       "        vertical-align: middle;\n",
       "    }\n",
       "\n",
       "    .dataframe tbody tr th {\n",
       "        vertical-align: top;\n",
       "    }\n",
       "\n",
       "    .dataframe thead th {\n",
       "        text-align: right;\n",
       "    }\n",
       "</style>\n",
       "<table border=\"1\" class=\"dataframe\">\n",
       "  <thead>\n",
       "    <tr style=\"text-align: right;\">\n",
       "      <th></th>\n",
       "      <th>dataset</th>\n",
       "      <th>arquivo</th>\n",
       "      <th>emocao</th>\n",
       "      <th>intensidade</th>\n",
       "    </tr>\n",
       "  </thead>\n",
       "  <tbody>\n",
       "    <tr>\n",
       "      <th>1359</th>\n",
       "      <td>vivae</td>\n",
       "      <td>S11_surprise_low_03.wav</td>\n",
       "      <td>surpresa</td>\n",
       "      <td>fraca</td>\n",
       "    </tr>\n",
       "    <tr>\n",
       "      <th>1360</th>\n",
       "      <td>vivae</td>\n",
       "      <td>S11_surprise_moderate_01.wav</td>\n",
       "      <td>surpresa</td>\n",
       "      <td>moderada</td>\n",
       "    </tr>\n",
       "    <tr>\n",
       "      <th>1361</th>\n",
       "      <td>vivae</td>\n",
       "      <td>S11_surprise_peak_04.wav</td>\n",
       "      <td>surpresa</td>\n",
       "      <td>pico</td>\n",
       "    </tr>\n",
       "    <tr>\n",
       "      <th>1362</th>\n",
       "      <td>vivae</td>\n",
       "      <td>S11_surprise_strong_011.wav</td>\n",
       "      <td>surpresa</td>\n",
       "      <td>forte</td>\n",
       "    </tr>\n",
       "    <tr>\n",
       "      <th>1363</th>\n",
       "      <td>vivae</td>\n",
       "      <td>S11_surprise_strong_012.wav</td>\n",
       "      <td>surpresa</td>\n",
       "      <td>forte</td>\n",
       "    </tr>\n",
       "  </tbody>\n",
       "</table>\n",
       "</div>"
      ],
      "text/plain": [
       "     dataset                       arquivo    emocao intensidade\n",
       "1359   vivae       S11_surprise_low_03.wav  surpresa       fraca\n",
       "1360   vivae  S11_surprise_moderate_01.wav  surpresa    moderada\n",
       "1361   vivae      S11_surprise_peak_04.wav  surpresa        pico\n",
       "1362   vivae   S11_surprise_strong_011.wav  surpresa       forte\n",
       "1363   vivae   S11_surprise_strong_012.wav  surpresa       forte"
      ]
     },
     "execution_count": 7,
     "metadata": {},
     "output_type": "execute_result"
    }
   ],
   "source": [
    "Y.tail()"
   ]
  },
  {
   "cell_type": "code",
   "execution_count": 8,
   "id": "e0d4efbb",
   "metadata": {},
   "outputs": [
    {
     "data": {
      "text/plain": [
       "surpresa    354\n",
       "medo        342\n",
       "raiva       341\n",
       "alegria     327\n",
       "Name: emocao, dtype: int64"
      ]
     },
     "execution_count": 8,
     "metadata": {},
     "output_type": "execute_result"
    }
   ],
   "source": [
    "Y['emocao'].value_counts()"
   ]
  },
  {
   "cell_type": "code",
   "execution_count": 9,
   "id": "761ba008",
   "metadata": {},
   "outputs": [
    {
     "data": {
      "text/plain": [
       "fraca       178\n",
       "forte       177\n",
       "pico        175\n",
       "moderada    168\n",
       "Name: intensidade, dtype: int64"
      ]
     },
     "execution_count": 9,
     "metadata": {},
     "output_type": "execute_result"
    }
   ],
   "source": [
    "Y['intensidade'].value_counts()"
   ]
  },
  {
   "cell_type": "code",
   "execution_count": 10,
   "id": "d2384647",
   "metadata": {},
   "outputs": [],
   "source": [
    "DE_PARA_EMOCAO = {\n",
    "    'alegria': np.array([1,0,0,0]),\n",
    "    'medo': np.array([0,1,0,0]),\n",
    "    'raiva': np.array([0,0,1,0]),\n",
    "    'surpresa': np.array([0,0,0,1]),\n",
    "}\n",
    "\n",
    "DE_PARA_INTENSIDADE = {\n",
    "    'fraca': np.array([1,0,0,0]),\n",
    "    'moderada': np.array([0,1,0,0]),\n",
    "    'forte': np.array([0,0,1,0]),\n",
    "    'pico': np.array([0,0,0,1]),\n",
    "}\n",
    "\n",
    "def encoding_emocao(emocao: str):\n",
    "    return DE_PARA_EMOCAO.get(emocao)\n",
    "\n",
    "def encoding_intensidade(intensidade: str):\n",
    "    return DE_PARA_INTENSIDADE.get(intensidade)"
   ]
  },
  {
   "cell_type": "code",
   "execution_count": 11,
   "id": "b4046f81",
   "metadata": {},
   "outputs": [],
   "source": [
    "Y['enc emocao'] = Y['emocao'].apply(encoding_emocao)"
   ]
  },
  {
   "cell_type": "code",
   "execution_count": 12,
   "id": "ce205370",
   "metadata": {},
   "outputs": [],
   "source": [
    "Y['enc intensidade'] = Y['intensidade'].apply(encoding_intensidade)  # que é nosso Z"
   ]
  },
  {
   "cell_type": "code",
   "execution_count": 13,
   "id": "02a1f7c6",
   "metadata": {},
   "outputs": [
    {
     "data": {
      "text/html": [
       "<div>\n",
       "<style scoped>\n",
       "    .dataframe tbody tr th:only-of-type {\n",
       "        vertical-align: middle;\n",
       "    }\n",
       "\n",
       "    .dataframe tbody tr th {\n",
       "        vertical-align: top;\n",
       "    }\n",
       "\n",
       "    .dataframe thead th {\n",
       "        text-align: right;\n",
       "    }\n",
       "</style>\n",
       "<table border=\"1\" class=\"dataframe\">\n",
       "  <thead>\n",
       "    <tr style=\"text-align: right;\">\n",
       "      <th></th>\n",
       "      <th>dataset</th>\n",
       "      <th>arquivo</th>\n",
       "      <th>emocao</th>\n",
       "      <th>intensidade</th>\n",
       "      <th>enc emocao</th>\n",
       "      <th>enc intensidade</th>\n",
       "    </tr>\n",
       "  </thead>\n",
       "  <tbody>\n",
       "    <tr>\n",
       "      <th>1359</th>\n",
       "      <td>vivae</td>\n",
       "      <td>S11_surprise_low_03.wav</td>\n",
       "      <td>surpresa</td>\n",
       "      <td>fraca</td>\n",
       "      <td>[0, 0, 0, 1]</td>\n",
       "      <td>[1, 0, 0, 0]</td>\n",
       "    </tr>\n",
       "    <tr>\n",
       "      <th>1360</th>\n",
       "      <td>vivae</td>\n",
       "      <td>S11_surprise_moderate_01.wav</td>\n",
       "      <td>surpresa</td>\n",
       "      <td>moderada</td>\n",
       "      <td>[0, 0, 0, 1]</td>\n",
       "      <td>[0, 1, 0, 0]</td>\n",
       "    </tr>\n",
       "    <tr>\n",
       "      <th>1361</th>\n",
       "      <td>vivae</td>\n",
       "      <td>S11_surprise_peak_04.wav</td>\n",
       "      <td>surpresa</td>\n",
       "      <td>pico</td>\n",
       "      <td>[0, 0, 0, 1]</td>\n",
       "      <td>[0, 0, 0, 1]</td>\n",
       "    </tr>\n",
       "    <tr>\n",
       "      <th>1362</th>\n",
       "      <td>vivae</td>\n",
       "      <td>S11_surprise_strong_011.wav</td>\n",
       "      <td>surpresa</td>\n",
       "      <td>forte</td>\n",
       "      <td>[0, 0, 0, 1]</td>\n",
       "      <td>[0, 0, 1, 0]</td>\n",
       "    </tr>\n",
       "    <tr>\n",
       "      <th>1363</th>\n",
       "      <td>vivae</td>\n",
       "      <td>S11_surprise_strong_012.wav</td>\n",
       "      <td>surpresa</td>\n",
       "      <td>forte</td>\n",
       "      <td>[0, 0, 0, 1]</td>\n",
       "      <td>[0, 0, 1, 0]</td>\n",
       "    </tr>\n",
       "  </tbody>\n",
       "</table>\n",
       "</div>"
      ],
      "text/plain": [
       "     dataset                       arquivo    emocao intensidade  \\\n",
       "1359   vivae       S11_surprise_low_03.wav  surpresa       fraca   \n",
       "1360   vivae  S11_surprise_moderate_01.wav  surpresa    moderada   \n",
       "1361   vivae      S11_surprise_peak_04.wav  surpresa        pico   \n",
       "1362   vivae   S11_surprise_strong_011.wav  surpresa       forte   \n",
       "1363   vivae   S11_surprise_strong_012.wav  surpresa       forte   \n",
       "\n",
       "        enc emocao enc intensidade  \n",
       "1359  [0, 0, 0, 1]    [1, 0, 0, 0]  \n",
       "1360  [0, 0, 0, 1]    [0, 1, 0, 0]  \n",
       "1361  [0, 0, 0, 1]    [0, 0, 0, 1]  \n",
       "1362  [0, 0, 0, 1]    [0, 0, 1, 0]  \n",
       "1363  [0, 0, 0, 1]    [0, 0, 1, 0]  "
      ]
     },
     "execution_count": 13,
     "metadata": {},
     "output_type": "execute_result"
    }
   ],
   "source": [
    "Y.tail()"
   ]
  },
  {
   "cell_type": "markdown",
   "id": "ab9fbda3",
   "metadata": {},
   "source": [
    "## Data Frame"
   ]
  },
  {
   "cell_type": "code",
   "execution_count": 14,
   "id": "95aea6d8",
   "metadata": {},
   "outputs": [
    {
     "data": {
      "text/plain": [
       "(1364, 124)"
      ]
     },
     "execution_count": 14,
     "metadata": {},
     "output_type": "execute_result"
    }
   ],
   "source": [
    "df = pd.concat(objs=[Y, X], axis=1)\n",
    "df.drop(labels=['emocao', 'intensidade'], axis=1, inplace=True)\n",
    "df.shape"
   ]
  },
  {
   "cell_type": "code",
   "execution_count": 15,
   "id": "57eae214",
   "metadata": {},
   "outputs": [],
   "source": [
    "del X, Y"
   ]
  },
  {
   "cell_type": "code",
   "execution_count": 16,
   "id": "fd2c95d8",
   "metadata": {},
   "outputs": [
    {
     "data": {
      "text/html": [
       "<div>\n",
       "<style scoped>\n",
       "    .dataframe tbody tr th:only-of-type {\n",
       "        vertical-align: middle;\n",
       "    }\n",
       "\n",
       "    .dataframe tbody tr th {\n",
       "        vertical-align: top;\n",
       "    }\n",
       "\n",
       "    .dataframe thead th {\n",
       "        text-align: right;\n",
       "    }\n",
       "</style>\n",
       "<table border=\"1\" class=\"dataframe\">\n",
       "  <thead>\n",
       "    <tr style=\"text-align: right;\">\n",
       "      <th></th>\n",
       "      <th>dataset</th>\n",
       "      <th>arquivo</th>\n",
       "      <th>enc emocao</th>\n",
       "      <th>enc intensidade</th>\n",
       "      <th>0</th>\n",
       "      <th>1</th>\n",
       "      <th>2</th>\n",
       "      <th>3</th>\n",
       "      <th>4</th>\n",
       "      <th>5</th>\n",
       "      <th>...</th>\n",
       "      <th>110</th>\n",
       "      <th>111</th>\n",
       "      <th>112</th>\n",
       "      <th>113</th>\n",
       "      <th>114</th>\n",
       "      <th>115</th>\n",
       "      <th>116</th>\n",
       "      <th>117</th>\n",
       "      <th>118</th>\n",
       "      <th>119</th>\n",
       "    </tr>\n",
       "  </thead>\n",
       "  <tbody>\n",
       "    <tr>\n",
       "      <th>0</th>\n",
       "      <td>verbo</td>\n",
       "      <td>ale-f1-l1.wav</td>\n",
       "      <td>[1, 0, 0, 0]</td>\n",
       "      <td>None</td>\n",
       "      <td>-264.792786</td>\n",
       "      <td>125.539139</td>\n",
       "      <td>-62.624714</td>\n",
       "      <td>28.315695</td>\n",
       "      <td>1.279387</td>\n",
       "      <td>-8.616631</td>\n",
       "      <td>...</td>\n",
       "      <td>-1.748398</td>\n",
       "      <td>-0.898110</td>\n",
       "      <td>-0.119338</td>\n",
       "      <td>0.555444</td>\n",
       "      <td>0.690031</td>\n",
       "      <td>0.893465</td>\n",
       "      <td>0.846773</td>\n",
       "      <td>0.283752</td>\n",
       "      <td>-0.185898</td>\n",
       "      <td>-0.130898</td>\n",
       "    </tr>\n",
       "    <tr>\n",
       "      <th>1</th>\n",
       "      <td>verbo</td>\n",
       "      <td>ale-f1-l2.wav</td>\n",
       "      <td>[1, 0, 0, 0]</td>\n",
       "      <td>None</td>\n",
       "      <td>-272.888550</td>\n",
       "      <td>121.097145</td>\n",
       "      <td>-41.149326</td>\n",
       "      <td>36.463421</td>\n",
       "      <td>7.565406</td>\n",
       "      <td>-16.098637</td>\n",
       "      <td>...</td>\n",
       "      <td>-1.295892</td>\n",
       "      <td>-0.857775</td>\n",
       "      <td>-0.163954</td>\n",
       "      <td>0.522544</td>\n",
       "      <td>0.864576</td>\n",
       "      <td>0.903463</td>\n",
       "      <td>0.971885</td>\n",
       "      <td>0.158906</td>\n",
       "      <td>0.127875</td>\n",
       "      <td>0.256920</td>\n",
       "    </tr>\n",
       "    <tr>\n",
       "      <th>2</th>\n",
       "      <td>verbo</td>\n",
       "      <td>ale-f1-l3.wav</td>\n",
       "      <td>[1, 0, 0, 0]</td>\n",
       "      <td>None</td>\n",
       "      <td>-252.119629</td>\n",
       "      <td>140.533325</td>\n",
       "      <td>-48.734734</td>\n",
       "      <td>25.311930</td>\n",
       "      <td>11.052135</td>\n",
       "      <td>-15.032625</td>\n",
       "      <td>...</td>\n",
       "      <td>-1.269958</td>\n",
       "      <td>-0.506434</td>\n",
       "      <td>0.136597</td>\n",
       "      <td>0.658416</td>\n",
       "      <td>1.204028</td>\n",
       "      <td>1.187821</td>\n",
       "      <td>1.145636</td>\n",
       "      <td>0.580611</td>\n",
       "      <td>0.591504</td>\n",
       "      <td>0.303071</td>\n",
       "    </tr>\n",
       "    <tr>\n",
       "      <th>3</th>\n",
       "      <td>verbo</td>\n",
       "      <td>ale-f1-l4.wav</td>\n",
       "      <td>[1, 0, 0, 0]</td>\n",
       "      <td>None</td>\n",
       "      <td>-301.812012</td>\n",
       "      <td>115.630440</td>\n",
       "      <td>-44.689743</td>\n",
       "      <td>40.499535</td>\n",
       "      <td>12.119360</td>\n",
       "      <td>-9.788790</td>\n",
       "      <td>...</td>\n",
       "      <td>-1.433162</td>\n",
       "      <td>-0.537758</td>\n",
       "      <td>-0.466619</td>\n",
       "      <td>0.289152</td>\n",
       "      <td>0.665391</td>\n",
       "      <td>0.794946</td>\n",
       "      <td>0.723460</td>\n",
       "      <td>1.131353</td>\n",
       "      <td>0.772526</td>\n",
       "      <td>-0.120861</td>\n",
       "    </tr>\n",
       "    <tr>\n",
       "      <th>4</th>\n",
       "      <td>verbo</td>\n",
       "      <td>ale-f1-l5.wav</td>\n",
       "      <td>[1, 0, 0, 0]</td>\n",
       "      <td>None</td>\n",
       "      <td>-256.258118</td>\n",
       "      <td>118.041618</td>\n",
       "      <td>-61.199539</td>\n",
       "      <td>42.643768</td>\n",
       "      <td>14.546075</td>\n",
       "      <td>-13.713741</td>\n",
       "      <td>...</td>\n",
       "      <td>-0.783558</td>\n",
       "      <td>-0.262848</td>\n",
       "      <td>-0.175987</td>\n",
       "      <td>0.290252</td>\n",
       "      <td>0.595873</td>\n",
       "      <td>1.549510</td>\n",
       "      <td>1.445828</td>\n",
       "      <td>0.597592</td>\n",
       "      <td>0.366670</td>\n",
       "      <td>0.384863</td>\n",
       "    </tr>\n",
       "  </tbody>\n",
       "</table>\n",
       "<p>5 rows × 124 columns</p>\n",
       "</div>"
      ],
      "text/plain": [
       "  dataset        arquivo    enc emocao enc intensidade           0  \\\n",
       "0   verbo  ale-f1-l1.wav  [1, 0, 0, 0]            None -264.792786   \n",
       "1   verbo  ale-f1-l2.wav  [1, 0, 0, 0]            None -272.888550   \n",
       "2   verbo  ale-f1-l3.wav  [1, 0, 0, 0]            None -252.119629   \n",
       "3   verbo  ale-f1-l4.wav  [1, 0, 0, 0]            None -301.812012   \n",
       "4   verbo  ale-f1-l5.wav  [1, 0, 0, 0]            None -256.258118   \n",
       "\n",
       "            1          2          3          4          5  ...       110  \\\n",
       "0  125.539139 -62.624714  28.315695   1.279387  -8.616631  ... -1.748398   \n",
       "1  121.097145 -41.149326  36.463421   7.565406 -16.098637  ... -1.295892   \n",
       "2  140.533325 -48.734734  25.311930  11.052135 -15.032625  ... -1.269958   \n",
       "3  115.630440 -44.689743  40.499535  12.119360  -9.788790  ... -1.433162   \n",
       "4  118.041618 -61.199539  42.643768  14.546075 -13.713741  ... -0.783558   \n",
       "\n",
       "        111       112       113       114       115       116       117  \\\n",
       "0 -0.898110 -0.119338  0.555444  0.690031  0.893465  0.846773  0.283752   \n",
       "1 -0.857775 -0.163954  0.522544  0.864576  0.903463  0.971885  0.158906   \n",
       "2 -0.506434  0.136597  0.658416  1.204028  1.187821  1.145636  0.580611   \n",
       "3 -0.537758 -0.466619  0.289152  0.665391  0.794946  0.723460  1.131353   \n",
       "4 -0.262848 -0.175987  0.290252  0.595873  1.549510  1.445828  0.597592   \n",
       "\n",
       "        118       119  \n",
       "0 -0.185898 -0.130898  \n",
       "1  0.127875  0.256920  \n",
       "2  0.591504  0.303071  \n",
       "3  0.772526 -0.120861  \n",
       "4  0.366670  0.384863  \n",
       "\n",
       "[5 rows x 124 columns]"
      ]
     },
     "execution_count": 16,
     "metadata": {},
     "output_type": "execute_result"
    }
   ],
   "source": [
    "df.head()"
   ]
  },
  {
   "cell_type": "code",
   "execution_count": 17,
   "id": "48ba2fa2",
   "metadata": {},
   "outputs": [
    {
     "data": {
      "text/html": [
       "<div>\n",
       "<style scoped>\n",
       "    .dataframe tbody tr th:only-of-type {\n",
       "        vertical-align: middle;\n",
       "    }\n",
       "\n",
       "    .dataframe tbody tr th {\n",
       "        vertical-align: top;\n",
       "    }\n",
       "\n",
       "    .dataframe thead th {\n",
       "        text-align: right;\n",
       "    }\n",
       "</style>\n",
       "<table border=\"1\" class=\"dataframe\">\n",
       "  <thead>\n",
       "    <tr style=\"text-align: right;\">\n",
       "      <th></th>\n",
       "      <th>dataset</th>\n",
       "      <th>arquivo</th>\n",
       "      <th>enc emocao</th>\n",
       "      <th>enc intensidade</th>\n",
       "      <th>0</th>\n",
       "      <th>1</th>\n",
       "      <th>2</th>\n",
       "      <th>3</th>\n",
       "      <th>4</th>\n",
       "      <th>5</th>\n",
       "      <th>...</th>\n",
       "      <th>110</th>\n",
       "      <th>111</th>\n",
       "      <th>112</th>\n",
       "      <th>113</th>\n",
       "      <th>114</th>\n",
       "      <th>115</th>\n",
       "      <th>116</th>\n",
       "      <th>117</th>\n",
       "      <th>118</th>\n",
       "      <th>119</th>\n",
       "    </tr>\n",
       "  </thead>\n",
       "  <tbody>\n",
       "    <tr>\n",
       "      <th>1359</th>\n",
       "      <td>vivae</td>\n",
       "      <td>S11_surprise_low_03.wav</td>\n",
       "      <td>[0, 0, 0, 1]</td>\n",
       "      <td>[1, 0, 0, 0]</td>\n",
       "      <td>-429.589874</td>\n",
       "      <td>133.411682</td>\n",
       "      <td>-50.135876</td>\n",
       "      <td>-2.183036</td>\n",
       "      <td>-23.552435</td>\n",
       "      <td>16.127447</td>\n",
       "      <td>...</td>\n",
       "      <td>-0.795070</td>\n",
       "      <td>0.157299</td>\n",
       "      <td>0.090146</td>\n",
       "      <td>0.576436</td>\n",
       "      <td>1.159180</td>\n",
       "      <td>1.103799</td>\n",
       "      <td>0.661553</td>\n",
       "      <td>0.140108</td>\n",
       "      <td>0.453263</td>\n",
       "      <td>0.020251</td>\n",
       "    </tr>\n",
       "    <tr>\n",
       "      <th>1360</th>\n",
       "      <td>vivae</td>\n",
       "      <td>S11_surprise_moderate_01.wav</td>\n",
       "      <td>[0, 0, 0, 1]</td>\n",
       "      <td>[0, 1, 0, 0]</td>\n",
       "      <td>-464.718903</td>\n",
       "      <td>134.753693</td>\n",
       "      <td>-7.355528</td>\n",
       "      <td>23.141539</td>\n",
       "      <td>-41.095829</td>\n",
       "      <td>-12.439143</td>\n",
       "      <td>...</td>\n",
       "      <td>-1.048218</td>\n",
       "      <td>-0.272832</td>\n",
       "      <td>0.168958</td>\n",
       "      <td>1.216097</td>\n",
       "      <td>0.510907</td>\n",
       "      <td>1.668691</td>\n",
       "      <td>1.210157</td>\n",
       "      <td>0.402249</td>\n",
       "      <td>0.464015</td>\n",
       "      <td>0.366968</td>\n",
       "    </tr>\n",
       "    <tr>\n",
       "      <th>1361</th>\n",
       "      <td>vivae</td>\n",
       "      <td>S11_surprise_peak_04.wav</td>\n",
       "      <td>[0, 0, 0, 1]</td>\n",
       "      <td>[0, 0, 0, 1]</td>\n",
       "      <td>-335.451172</td>\n",
       "      <td>-14.470435</td>\n",
       "      <td>-37.541733</td>\n",
       "      <td>-11.240404</td>\n",
       "      <td>-18.821291</td>\n",
       "      <td>18.479385</td>\n",
       "      <td>...</td>\n",
       "      <td>-0.924553</td>\n",
       "      <td>-0.521500</td>\n",
       "      <td>0.106993</td>\n",
       "      <td>1.172357</td>\n",
       "      <td>0.177822</td>\n",
       "      <td>0.824761</td>\n",
       "      <td>0.322222</td>\n",
       "      <td>0.449780</td>\n",
       "      <td>-0.083279</td>\n",
       "      <td>0.350417</td>\n",
       "    </tr>\n",
       "    <tr>\n",
       "      <th>1362</th>\n",
       "      <td>vivae</td>\n",
       "      <td>S11_surprise_strong_011.wav</td>\n",
       "      <td>[0, 0, 0, 1]</td>\n",
       "      <td>[0, 0, 1, 0]</td>\n",
       "      <td>-282.711945</td>\n",
       "      <td>70.662437</td>\n",
       "      <td>-39.934624</td>\n",
       "      <td>-4.440723</td>\n",
       "      <td>-53.481644</td>\n",
       "      <td>-15.649154</td>\n",
       "      <td>...</td>\n",
       "      <td>-0.860059</td>\n",
       "      <td>-0.097698</td>\n",
       "      <td>-0.530347</td>\n",
       "      <td>0.453240</td>\n",
       "      <td>0.733536</td>\n",
       "      <td>1.460454</td>\n",
       "      <td>0.670619</td>\n",
       "      <td>0.250736</td>\n",
       "      <td>0.432736</td>\n",
       "      <td>0.565422</td>\n",
       "    </tr>\n",
       "    <tr>\n",
       "      <th>1363</th>\n",
       "      <td>vivae</td>\n",
       "      <td>S11_surprise_strong_012.wav</td>\n",
       "      <td>[0, 0, 0, 1]</td>\n",
       "      <td>[0, 0, 1, 0]</td>\n",
       "      <td>-399.486450</td>\n",
       "      <td>103.588158</td>\n",
       "      <td>-58.144569</td>\n",
       "      <td>-14.114857</td>\n",
       "      <td>-41.650688</td>\n",
       "      <td>10.208106</td>\n",
       "      <td>...</td>\n",
       "      <td>-1.260956</td>\n",
       "      <td>-1.087830</td>\n",
       "      <td>-0.027648</td>\n",
       "      <td>0.326400</td>\n",
       "      <td>0.896440</td>\n",
       "      <td>1.213963</td>\n",
       "      <td>0.212619</td>\n",
       "      <td>-0.231102</td>\n",
       "      <td>0.554575</td>\n",
       "      <td>-0.019772</td>\n",
       "    </tr>\n",
       "  </tbody>\n",
       "</table>\n",
       "<p>5 rows × 124 columns</p>\n",
       "</div>"
      ],
      "text/plain": [
       "     dataset                       arquivo    enc emocao enc intensidade  \\\n",
       "1359   vivae       S11_surprise_low_03.wav  [0, 0, 0, 1]    [1, 0, 0, 0]   \n",
       "1360   vivae  S11_surprise_moderate_01.wav  [0, 0, 0, 1]    [0, 1, 0, 0]   \n",
       "1361   vivae      S11_surprise_peak_04.wav  [0, 0, 0, 1]    [0, 0, 0, 1]   \n",
       "1362   vivae   S11_surprise_strong_011.wav  [0, 0, 0, 1]    [0, 0, 1, 0]   \n",
       "1363   vivae   S11_surprise_strong_012.wav  [0, 0, 0, 1]    [0, 0, 1, 0]   \n",
       "\n",
       "               0           1          2          3          4          5  ...  \\\n",
       "1359 -429.589874  133.411682 -50.135876  -2.183036 -23.552435  16.127447  ...   \n",
       "1360 -464.718903  134.753693  -7.355528  23.141539 -41.095829 -12.439143  ...   \n",
       "1361 -335.451172  -14.470435 -37.541733 -11.240404 -18.821291  18.479385  ...   \n",
       "1362 -282.711945   70.662437 -39.934624  -4.440723 -53.481644 -15.649154  ...   \n",
       "1363 -399.486450  103.588158 -58.144569 -14.114857 -41.650688  10.208106  ...   \n",
       "\n",
       "           110       111       112       113       114       115       116  \\\n",
       "1359 -0.795070  0.157299  0.090146  0.576436  1.159180  1.103799  0.661553   \n",
       "1360 -1.048218 -0.272832  0.168958  1.216097  0.510907  1.668691  1.210157   \n",
       "1361 -0.924553 -0.521500  0.106993  1.172357  0.177822  0.824761  0.322222   \n",
       "1362 -0.860059 -0.097698 -0.530347  0.453240  0.733536  1.460454  0.670619   \n",
       "1363 -1.260956 -1.087830 -0.027648  0.326400  0.896440  1.213963  0.212619   \n",
       "\n",
       "           117       118       119  \n",
       "1359  0.140108  0.453263  0.020251  \n",
       "1360  0.402249  0.464015  0.366968  \n",
       "1361  0.449780 -0.083279  0.350417  \n",
       "1362  0.250736  0.432736  0.565422  \n",
       "1363 -0.231102  0.554575 -0.019772  \n",
       "\n",
       "[5 rows x 124 columns]"
      ]
     },
     "execution_count": 17,
     "metadata": {},
     "output_type": "execute_result"
    }
   ],
   "source": [
    "df.tail()"
   ]
  },
  {
   "cell_type": "code",
   "execution_count": 18,
   "id": "c53fe67f",
   "metadata": {},
   "outputs": [
    {
     "data": {
      "text/plain": [
       "(1364, 120)"
      ]
     },
     "execution_count": 18,
     "metadata": {},
     "output_type": "execute_result"
    }
   ],
   "source": [
    "Xfeatures = df.values[:,4:].astype('float32')\n",
    "\n",
    "Xfeatures.shape"
   ]
  },
  {
   "cell_type": "code",
   "execution_count": 19,
   "id": "cb810608",
   "metadata": {},
   "outputs": [
    {
     "data": {
      "image/png": "[encoded data removed]",
      "text/plain": [
       "<Figure size 432x288 with 1 Axes>"
      ]
     },
     "metadata": {
      "needs_background": "light"
     },
     "output_type": "display_data"
    }
   ],
   "source": [
    "a = df['arquivo'].iloc[777]\n",
    "\n",
    "plt.plot(Xfeatures[777])\n",
    "\n",
    "plt.title(f'features de {a}')\n",
    "plt.xlabel('np.mean')\n",
    "plt.ylabel('valor')\n",
    "plt.grid()\n",
    "plt.show()"
   ]
  },
  {
   "cell_type": "code",
   "execution_count": 20,
   "id": "19fd21c5",
   "metadata": {},
   "outputs": [
    {
     "data": {
      "text/plain": [
       "((1023, 120), (341, 120))"
      ]
     },
     "execution_count": 20,
     "metadata": {},
     "output_type": "execute_result"
    }
   ],
   "source": [
    "xfeatures_train, xfeatures_test = train_test_split(Xfeatures)\n",
    "\n",
    "xfeatures_train.shape, xfeatures_test.shape"
   ]
  },
  {
   "cell_type": "code",
   "execution_count": 21,
   "id": "eab74b11",
   "metadata": {},
   "outputs": [
    {
     "data": {
      "text/plain": [
       "((120,), (120,))"
      ]
     },
     "execution_count": 21,
     "metadata": {},
     "output_type": "execute_result"
    }
   ],
   "source": [
    "xfeatures_train[0].shape, xfeatures_test[0].shape"
   ]
  },
  {
   "cell_type": "markdown",
   "id": "9259a2ed",
   "metadata": {},
   "source": [
    "## Autoencoder"
   ]
  },
  {
   "cell_type": "code",
   "execution_count": null,
   "id": "e5f7f5df",
   "metadata": {},
   "outputs": [],
   "source": []
  },
  {
   "cell_type": "code",
   "execution_count": null,
   "id": "bf4541bd",
   "metadata": {},
   "outputs": [],
   "source": []
  },
  {
   "cell_type": "code",
   "execution_count": 41,
   "id": "98e4f193",
   "metadata": {},
   "outputs": [
    {
     "name": "stdout",
     "output_type": "stream",
     "text": [
      "Model: \"autoencoder\"\n",
      "_________________________________________________________________\n",
      "Layer (type)                 Output Shape              Param #   \n",
      "=================================================================\n",
      "input_1 (InputLayer)         [(None, 120, 1)]          0         \n",
      "_________________________________________________________________\n",
      "conv1d (Conv1D)              (None, 120, 8)            32        \n",
      "_________________________________________________________________\n",
      "max_pooling1d (MaxPooling1D) (None, 60, 8)             0         \n",
      "_________________________________________________________________\n",
      "conv1d_1 (Conv1D)            (None, 60, 4)             100       \n",
      "_________________________________________________________________\n",
      "max_pooling1d_1 (MaxPooling1 (None, 30, 4)             0         \n",
      "_________________________________________________________________\n",
      "average_pooling1d (AveragePo (None, 15, 4)             0         \n",
      "_________________________________________________________________\n",
      "flatten (Flatten)            (None, 60)                0         \n",
      "_________________________________________________________________\n",
      "dense (Dense)                (None, 20)                1220      \n",
      "_________________________________________________________________\n",
      "dense_1 (Dense)              (None, 60)                1260      \n",
      "_________________________________________________________________\n",
      "reshape (Reshape)            (None, 15, 4)             0         \n",
      "_________________________________________________________________\n",
      "conv1d_2 (Conv1D)            (None, 15, 4)             20        \n",
      "_________________________________________________________________\n",
      "up_sampling1d (UpSampling1D) (None, 30, 4)             0         \n",
      "_________________________________________________________________\n",
      "conv1d_3 (Conv1D)            (None, 30, 8)             40        \n",
      "_________________________________________________________________\n",
      "up_sampling1d_1 (UpSampling1 (None, 60, 8)             0         \n",
      "_________________________________________________________________\n",
      "up_sampling1d_2 (UpSampling1 (None, 120, 8)            0         \n",
      "_________________________________________________________________\n",
      "conv1d_4 (Conv1D)            (None, 120, 1)            9         \n",
      "=================================================================\n",
      "Total params: 2,681\n",
      "Trainable params: 2,681\n",
      "Non-trainable params: 0\n",
      "_________________________________________________________________\n"
     ]
    }
   ],
   "source": [
    "K.backend.clear_session()\n",
    "\n",
    "input_sig = K.Input(batch_shape=(None,120,1))\n",
    "x = layers.Conv1D(8,3, activation='relu', padding='same',dilation_rate=2)(input_sig)\n",
    "x1 = layers.MaxPooling1D(2)(x)\n",
    "x2 = layers.Conv1D(4,3, activation='relu', padding='same',dilation_rate=2)(x1)\n",
    "x3 = layers.MaxPooling1D(2)(x2)\n",
    "x4 = layers.AveragePooling1D()(x3)\n",
    "flat = layers.Flatten()(x4)\n",
    "encoded = layers.Dense(20)(flat)\n",
    "\n",
    "d1 = layers.Dense(60)(encoded)\n",
    "d2 = layers.Reshape((15,4))(d1)\n",
    "d3 = layers.Conv1D(4,1,strides=1, activation='relu', padding='same')(d2)\n",
    "d4 = layers.UpSampling1D(2)(d3)\n",
    "d5 = layers.Conv1D(8,1,strides=1, activation='relu', padding='same')(d4)\n",
    "d6 = layers.UpSampling1D(2)(d5)\n",
    "d7 = layers.UpSampling1D(2)(d6)\n",
    "decoded = layers.Conv1D(1,1,strides=1, activation='sigmoid', padding='same')(d7)\n",
    "\n",
    "autoencoder = K.Model(input_sig, decoded, name='autoencoder')\n",
    "\n",
    "autoencoder.compile(optimizer='adam', loss='mse')\n",
    "\n",
    "autoencoder.summary()"
   ]
  },
  {
   "cell_type": "code",
   "execution_count": 44,
   "id": "5e23c332",
   "metadata": {
    "scrolled": false
   },
   "outputs": [
    {
     "name": "stdout",
     "output_type": "stream",
     "text": [
      "Epoch 1/20\n",
      "52/52 [==============================] - 1s 11ms/step - loss: 1309.7983 - val_loss: 1320.6200\n",
      "Epoch 2/20\n",
      "52/52 [==============================] - 1s 11ms/step - loss: 1309.7833 - val_loss: 1320.6058\n",
      "Epoch 3/20\n",
      "52/52 [==============================] - 1s 11ms/step - loss: 1309.7677 - val_loss: 1320.5894\n",
      "Epoch 4/20\n",
      "52/52 [==============================] - 1s 11ms/step - loss: 1309.7511 - val_loss: 1320.5708\n",
      "Epoch 5/20\n",
      "52/52 [==============================] - 1s 11ms/step - loss: 1309.7324 - val_loss: 1320.5609\n",
      "Epoch 6/20\n",
      "52/52 [==============================] - 1s 11ms/step - loss: 1309.7207 - val_loss: 1320.5511\n",
      "Epoch 7/20\n",
      "52/52 [==============================] - 1s 11ms/step - loss: 1309.7064 - val_loss: 1320.5448\n",
      "Epoch 8/20\n",
      "52/52 [==============================] - 1s 11ms/step - loss: 1309.6954 - val_loss: 1320.5367\n",
      "Epoch 9/20\n",
      "52/52 [==============================] - 1s 11ms/step - loss: 1309.6902 - val_loss: 1320.5311\n",
      "Epoch 10/20\n",
      "52/52 [==============================] - 1s 11ms/step - loss: 1309.6887 - val_loss: 1320.5273\n",
      "Epoch 11/20\n",
      "52/52 [==============================] - 1s 10ms/step - loss: 1309.6829 - val_loss: 1320.5299\n",
      "Epoch 12/20\n",
      "52/52 [==============================] - 1s 11ms/step - loss: 1309.6810 - val_loss: 1320.5242\n",
      "Epoch 13/20\n",
      "52/52 [==============================] - 1s 10ms/step - loss: 1309.6788 - val_loss: 1320.5210\n",
      "Epoch 14/20\n",
      "52/52 [==============================] - 1s 11ms/step - loss: 1309.6761 - val_loss: 1320.5244\n",
      "Epoch 15/20\n",
      "52/52 [==============================] - 1s 11ms/step - loss: 1309.6750 - val_loss: 1320.5190\n",
      "Epoch 16/20\n",
      "52/52 [==============================] - 1s 11ms/step - loss: 1309.6729 - val_loss: 1320.5178\n",
      "Epoch 17/20\n",
      "52/52 [==============================] - 1s 11ms/step - loss: 1309.6708 - val_loss: 1320.5149\n",
      "Epoch 18/20\n",
      "52/52 [==============================] - 1s 11ms/step - loss: 1309.6691 - val_loss: 1320.5109\n",
      "Epoch 19/20\n",
      "52/52 [==============================] - 1s 11ms/step - loss: 1309.6663 - val_loss: 1320.5101\n",
      "Epoch 20/20\n",
      "52/52 [==============================] - 1s 11ms/step - loss: 1309.6638 - val_loss: 1320.5079\n",
      "CPU times: user 15 s, sys: 555 ms, total: 15.6 s\n",
      "Wall time: 11.5 s\n"
     ]
    }
   ],
   "source": [
    "%%time\n",
    "\n",
    "with tf.device(PHYS_DEVICE_NAME):\n",
    "    K.backend.clear_session()\n",
    "    history = autoencoder.fit(x=xfeatures_train,\n",
    "                              y=xfeatures_train,\n",
    "                              epochs=20,\n",
    "                              batch_size=20,\n",
    "                              shuffle=True,\n",
    "                              validation_data=(xfeatures_test, xfeatures_test)\n",
    "                             )"
   ]
  },
  {
   "cell_type": "code",
   "execution_count": 45,
   "id": "938a058f",
   "metadata": {},
   "outputs": [
    {
     "data": {
      "image/png": "[encoded data removed]",
      "text/plain": [
       "<Figure size 864x432 with 1 Axes>"
      ]
     },
     "metadata": {
      "needs_background": "light"
     },
     "output_type": "display_data"
    }
   ],
   "source": [
    "plt.figure(figsize=(12, 6))\n",
    "\n",
    "plt.plot(history.history['loss'])\n",
    "plt.plot(history.history['val_loss'])\n",
    "plt.legend(['train', 'val'], loc='upper right')\n",
    "plt.xlabel('epoch')\n",
    "plt.ylabel('loss')\n",
    "\n",
    "plt.grid()\n",
    "plt.show()"
   ]
  },
  {
   "cell_type": "code",
   "execution_count": null,
   "id": "42c25996",
   "metadata": {},
   "outputs": [],
   "source": [
    "# K.backend.clear_session()\n",
    "\n",
    "# input_sig = K.Input(batch_shape=(None,xtrain.iloc[0].shape[0],1)) # 120x1\n",
    "\n",
    "# e = layers.Conv1D(30,4, activation='relu', padding='same')(input_sig)\n",
    "# __pool = 2\n",
    "# e = layers.AveragePooling1D(__pool)(e)\n",
    "# f = layers.Flatten()(e)\n",
    "# print(e.shape)\n",
    "# d = layers.Reshape((e.shape[1],e.shape[2]))(f)\n",
    "# d = layers.UpSampling1D(__pool)(d)\n",
    "# d = layers.Conv1D(1,1,strides=1, activation='linear', padding='same')(d)\n",
    "\n",
    "# autoencoder = K.Model(input_sig, d, name='autoencoder')\n",
    "# autoencoder.compile(optimizer='adam', loss='mse')\n",
    "# autoencoder.summary()\n",
    "\n",
    "# K.backend.clear_session()\n",
    "# history = autoencoder.fit(x=xtrain,\n",
    "#                           y=xtrain,\n",
    "#                           epochs=20,\n",
    "#                           batch_size=10,\n",
    "#                           shuffle=True,\n",
    "#                           validation_data=(xtest, xtest)\n",
    "#                          )\n",
    "\n",
    "# plt.figure(figsize=(12, 6))\n",
    "\n",
    "# plt.plot(history.history['loss'])\n",
    "# plt.plot(history.history['val_loss'])\n",
    "# plt.legend(['train', 'val'], loc='upper right')\n",
    "# plt.xlabel('epoch')\n",
    "# plt.ylabel('loss')\n",
    "\n",
    "# plt.grid()\n",
    "# plt.show()"
   ]
  },
  {
   "cell_type": "code",
   "execution_count": null,
   "id": "3f60648a",
   "metadata": {},
   "outputs": [],
   "source": [
    "K.backend.clear_session()\n",
    "\n",
    "input_sig = K.Input(batch_shape=(None,xtrain.iloc[0].shape[0],1)) # 120x1\n",
    "\n",
    "e = layers.Conv1D(30,4, activation='relu', padding='same')(input_sig)\n",
    "__pool = 2\n",
    "e = layers.AveragePooling1D(__pool)(e)\n",
    "f = layers.Flatten()(e)\n",
    "print(e.shape)\n",
    "d = layers.Reshape((e.shape[1],e.shape[2]))(f)\n",
    "d = layers.UpSampling1D(__pool)(d)\n",
    "d = layers.Conv1D(1,1,strides=1, activation='linear', padding='same')(d)\n",
    "\n",
    "\n",
    "autoencoder = K.Model(input_sig, d, name='autoencoder')\n",
    "autoencoder.compile(optimizer='adam', loss='mse')\n",
    "autoencoder.summary()\n",
    "\n",
    "K.backend.clear_session()\n",
    "history = autoencoder.fit(x=xtrain,\n",
    "                          y=xtrain,\n",
    "                          epochs=20,\n",
    "                          batch_size=10,\n",
    "                          shuffle=True,\n",
    "                          validation_data=(xtest, xtest)\n",
    "                         )\n",
    "\n",
    "plt.figure(figsize=(12, 6))\n",
    "\n",
    "plt.plot(history.history['loss'])\n",
    "plt.plot(history.history['val_loss'])\n",
    "plt.legend(['train', 'val'], loc='upper right')\n",
    "plt.xlabel('epoch')\n",
    "plt.ylabel('loss')\n",
    "\n",
    "plt.grid()\n",
    "plt.show()"
   ]
  },
  {
   "cell_type": "code",
   "execution_count": null,
   "id": "5eceadd9",
   "metadata": {},
   "outputs": [],
   "source": []
  },
  {
   "cell_type": "code",
   "execution_count": null,
   "id": "a4cc605d",
   "metadata": {},
   "outputs": [],
   "source": []
  },
  {
   "cell_type": "markdown",
   "id": "65268457",
   "metadata": {},
   "source": [
    "## Classificador"
   ]
  },
  {
   "cell_type": "code",
   "execution_count": null,
   "id": "747a1c9f",
   "metadata": {},
   "outputs": [],
   "source": [
    "Xvivae = df[df['dataset'] == 'vivae'].values[:,4:].astype('float32')\n",
    "Xverbo = df[df['dataset'] == 'verbo'].values[:,4:].astype('float32')\n",
    "\n",
    "Xverbo.shape, Xvivae.shape"
   ]
  },
  {
   "cell_type": "code",
   "execution_count": null,
   "id": "751898c9",
   "metadata": {},
   "outputs": [],
   "source": []
  },
  {
   "cell_type": "code",
   "execution_count": null,
   "id": "292edbd8",
   "metadata": {},
   "outputs": [],
   "source": []
  },
  {
   "cell_type": "code",
   "execution_count": null,
   "id": "03b10966",
   "metadata": {},
   "outputs": [],
   "source": []
  },
  {
   "cell_type": "markdown",
   "id": "018428ff",
   "metadata": {},
   "source": [
    "## Decomposição"
   ]
  },
  {
   "cell_type": "code",
   "execution_count": null,
   "id": "58174b62",
   "metadata": {},
   "outputs": [],
   "source": []
  },
  {
   "cell_type": "code",
   "execution_count": null,
   "id": "7f44228e",
   "metadata": {},
   "outputs": [],
   "source": []
  },
  {
   "cell_type": "code",
   "execution_count": null,
   "id": "ceabffb0",
   "metadata": {},
   "outputs": [],
   "source": []
  },
  {
   "cell_type": "code",
   "execution_count": null,
   "id": "61473a81",
   "metadata": {},
   "outputs": [],
   "source": []
  },
  {
   "cell_type": "code",
   "execution_count": null,
   "id": "dc260b65",
   "metadata": {},
   "outputs": [],
   "source": []
  },
  {
   "cell_type": "code",
   "execution_count": null,
   "id": "60eec292",
   "metadata": {},
   "outputs": [],
   "source": []
  },
  {
   "cell_type": "code",
   "execution_count": null,
   "id": "414bcabb",
   "metadata": {},
   "outputs": [],
   "source": []
  },
  {
   "cell_type": "code",
   "execution_count": null,
   "id": "dce20572",
   "metadata": {},
   "outputs": [],
   "source": []
  },
  {
   "cell_type": "markdown",
   "id": "519a5d52",
   "metadata": {},
   "source": [
    "___\n",
    "Refs:\n",
    "\n",
    "- [62] https://sci-hub.se/10.1109/tmm.2017.2766843\n",
    "- [63] https://sci-hub.se/10.1016/j.bspc.2018.08.035\n",
    "- [64] https://arxiv.org/pdf/1712.08708.pdf\n",
    "- [65] https://sci-hub.se/10.1109/icassp.2018.8462685\n",
    "- [66] https://ieeexplore.ieee.org/stamp/stamp.jsp?arnumber=9136653\n",
    "- [67] https://sci-hub.se/10.1109/ectidamtncon48261.2020.9090768\n",
    "- [68] https://www.isca-speech.org/archive_v0/Interspeech_2019/pdfs/2561.pdf\n",
    "- https://sci-hub.se/10.7717/peerj.488\n"
   ]
  }
 ],
 "metadata": {
  "kernelspec": {
   "display_name": "Python 3 (ipykernel)",
   "language": "python",
   "name": "python3"
  },
  "language_info": {
   "codemirror_mode": {
    "name": "ipython",
    "version": 3
   },
   "file_extension": ".py",
   "mimetype": "text/x-python",
   "name": "python",
   "nbconvert_exporter": "python",
   "pygments_lexer": "ipython3",
   "version": "3.8.10"
  }
 },
 "nbformat": 4,
 "nbformat_minor": 5
}
