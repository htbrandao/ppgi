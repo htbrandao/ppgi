{
 "cells": [
  {
   "cell_type": "markdown",
   "id": "2425972d",
   "metadata": {},
   "source": [
    "# # FUNDAMENTOS DE SISTEMAS COMPUTACIONAIS"
   ]
  },
  {
   "cell_type": "markdown",
   "id": "2fc4d3c2",
   "metadata": {},
   "source": [
    "*Arquitetura*:\n",
    "\n",
    "Refere-se a atributos do sistema que são visíveis ao programador (assembly).\n",
    "\n",
    "    e.g.: endereçamento de memória, conjunto de instruções.\n",
    "\n",
    "*Organização*:\n",
    "\n",
    "Refere-se à unidades operacionais do computador e interconexões entre as mesmas.\n",
    "\n",
    "    e.g.: sinais de controle, tecnologias de memória."
   ]
  },
  {
   "cell_type": "markdown",
   "id": "f65bcea6",
   "metadata": {},
   "source": [
    "Componentes básicos:\n",
    "\n",
    "CPU, Memória principal e módulo de I/O de periféricos:\n",
    "\n",
    "![](_/1.png)"
   ]
  },
  {
   "cell_type": "markdown",
   "id": "b9df9932",
   "metadata": {},
   "source": [
    "Execução de programas, é feita em ciclos:\n",
    "\n",
    "1- O processador busca da memória a (próxima) instrução cujo endereço está no `PC`;\n",
    "\n",
    "2- A instrução é carregada no `IR`;\n",
    "\n",
    "3- O processador decodifica a instrução"
   ]
  },
  {
   "cell_type": "markdown",
   "id": "e549a7b3",
   "metadata": {},
   "source": [
    "A instrução (decodificada) executada pode ser:\n",
    "\n",
    "1- Transferência de dados entre processador e memória;\n",
    "\n",
    "2- Transferência de dados entre periféricos e processador;\n",
    "\n",
    "3- Execução de operações lógicas e aritiméticas sobre os dados;\n",
    "\n",
    "4- Alterações na sequência de execução das instruções\n"
   ]
  },
  {
   "cell_type": "markdown",
   "id": "53b9eaed",
   "metadata": {},
   "source": [
    "Ciclo de instruções (6 erstágios):\n",
    "\n",
    "1- `IAC`: Determina o endereço da próxima instrução;\n",
    "\n",
    "2- `IF`: Carrega a instrução no processador;\n",
    "\n",
    "3- `ID`: Determina o tipo de instrução e os operandos necessários;\n",
    "\n",
    "4- `OF`: Busca o operando; \n",
    "\n",
    "5- `DO`: Executa a operação;\n",
    "\n",
    "6- `OS`: Escreve o resultado\n",
    "\n",
    "![](_/2.png)\n",
    "\n",
    "No caso da execução sequencial, o endereço da próxima instrução é obtido através de uma operação de soma (add) no `PC`. Infelizmente, em geral, a execução não é estritamente sequencial. Em alguns pontos do código, dicisões são tomadas que fazem com o que caminhos alternativos sejam seguidos. _ifs_ e _loops_ são exemplos dessas decisões; são taduzidos das linguagens de alto nível para *desvios* em assembly. As instruçõesd e máquina que implementam esses desvios são _banches_ ou _jumps_."
   ]
  },
  {
   "cell_type": "markdown",
   "id": "958bc081",
   "metadata": {},
   "source": [
    "e.g.: ![](_/3.png)\n",
    "\n",
    "    ac0: 10\n",
    "    ac1: 943\n",
    "    ac2: 943\n",
    "    ac3: 0\n",
    "\n",
    "    #940 = 1\n",
    "    #941 = 3\n",
    "    #942 = 6\n",
    "    #943 = 10"
   ]
  },
  {
   "cell_type": "markdown",
   "id": "c412f83d",
   "metadata": {},
   "source": [
    "## Lista 1\n",
    "\n",
    "1)\n",
    "\n",
    "a) Arquitetural. É um atribudo do sistema com o qual o programador irá interagir.\n",
    "\n",
    "b) Organizacional. Lida diretamente com o componente, sendo transparente para o programador.\n",
    "\n",
    "c) Organizacional. Lida diretamente com o componente, sendo transparente para o programador.\n",
    "\n",
    "2)\n",
    "```python\n",
    "while x != 0:\n",
    "    x += y\n",
    "```\n",
    "\n",
    "3) Complica. Não havendo desvios, o `PC` sempre receberá o valor atual incrementado de 1, com isso, é fácil saber qual foi a instrução anterior e qual será a próxima, sem precisar conhecer o código a ser executado.\n",
    "\n",
    "4) Acessar a tabela - através do índice - para recupera a instrução, e saber qual o endereço de memória que será lido."
   ]
  },
  {
   "cell_type": "code",
   "execution_count": null,
   "id": "2c44329e",
   "metadata": {},
   "outputs": [],
   "source": []
  },
  {
   "cell_type": "code",
   "execution_count": null,
   "id": "bcee08dd",
   "metadata": {},
   "outputs": [],
   "source": []
  },
  {
   "cell_type": "code",
   "execution_count": null,
   "id": "2b088d64",
   "metadata": {},
   "outputs": [],
   "source": []
  },
  {
   "cell_type": "code",
   "execution_count": null,
   "id": "241b8da9",
   "metadata": {},
   "outputs": [],
   "source": []
  },
  {
   "cell_type": "code",
   "execution_count": null,
   "id": "503d12eb",
   "metadata": {},
   "outputs": [],
   "source": []
  },
  {
   "cell_type": "code",
   "execution_count": null,
   "id": "08e9fe85",
   "metadata": {},
   "outputs": [],
   "source": []
  },
  {
   "cell_type": "code",
   "execution_count": null,
   "id": "611ea866",
   "metadata": {},
   "outputs": [],
   "source": []
  },
  {
   "cell_type": "code",
   "execution_count": null,
   "id": "9859def0",
   "metadata": {},
   "outputs": [],
   "source": []
  },
  {
   "cell_type": "code",
   "execution_count": null,
   "id": "599385ab",
   "metadata": {},
   "outputs": [],
   "source": []
  },
  {
   "cell_type": "code",
   "execution_count": null,
   "id": "2b10a076",
   "metadata": {},
   "outputs": [],
   "source": []
  },
  {
   "cell_type": "code",
   "execution_count": null,
   "id": "97e4ea83",
   "metadata": {},
   "outputs": [],
   "source": []
  },
  {
   "cell_type": "code",
   "execution_count": null,
   "id": "88192a8a",
   "metadata": {},
   "outputs": [],
   "source": []
  },
  {
   "cell_type": "code",
   "execution_count": null,
   "id": "c52bcdfe",
   "metadata": {},
   "outputs": [],
   "source": []
  },
  {
   "cell_type": "code",
   "execution_count": null,
   "id": "1e55ef47",
   "metadata": {},
   "outputs": [],
   "source": []
  },
  {
   "cell_type": "code",
   "execution_count": null,
   "id": "c7e21a00",
   "metadata": {},
   "outputs": [],
   "source": []
  },
  {
   "cell_type": "code",
   "execution_count": null,
   "id": "9ce0da0f",
   "metadata": {},
   "outputs": [],
   "source": []
  },
  {
   "cell_type": "code",
   "execution_count": null,
   "id": "a6aaa845",
   "metadata": {},
   "outputs": [],
   "source": []
  },
  {
   "cell_type": "code",
   "execution_count": null,
   "id": "3def92f6",
   "metadata": {},
   "outputs": [],
   "source": []
  },
  {
   "cell_type": "code",
   "execution_count": null,
   "id": "20d514d3",
   "metadata": {},
   "outputs": [],
   "source": []
  },
  {
   "cell_type": "code",
   "execution_count": null,
   "id": "b21b5e4c",
   "metadata": {},
   "outputs": [],
   "source": []
  },
  {
   "cell_type": "code",
   "execution_count": null,
   "id": "3ce6f2aa",
   "metadata": {},
   "outputs": [],
   "source": []
  },
  {
   "cell_type": "code",
   "execution_count": null,
   "id": "5208e944",
   "metadata": {},
   "outputs": [],
   "source": []
  },
  {
   "cell_type": "code",
   "execution_count": null,
   "id": "34e3f461",
   "metadata": {},
   "outputs": [],
   "source": []
  },
  {
   "cell_type": "code",
   "execution_count": null,
   "id": "64673d6f",
   "metadata": {},
   "outputs": [],
   "source": []
  }
 ],
 "metadata": {
  "kernelspec": {
   "display_name": "Python 3 (ipykernel)",
   "language": "python",
   "name": "python3"
  },
  "language_info": {
   "codemirror_mode": {
    "name": "ipython",
    "version": 3
   },
   "file_extension": ".py",
   "mimetype": "text/x-python",
   "name": "python",
   "nbconvert_exporter": "python",
   "pygments_lexer": "ipython3",
   "version": "3.8.10"
  }
 },
 "nbformat": 4,
 "nbformat_minor": 5
}
