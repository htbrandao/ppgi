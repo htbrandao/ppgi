{
 "cells": [
  {
   "cell_type": "markdown",
   "id": "4ef614f9",
   "metadata": {},
   "source": [
    "# # Preparação"
   ]
  },
  {
   "cell_type": "markdown",
   "id": "eb037e04",
   "metadata": {},
   "source": [
    "## Ambiente"
   ]
  },
  {
   "cell_type": "code",
   "execution_count": 1,
   "id": "77d78196",
   "metadata": {},
   "outputs": [
    {
     "name": "stdout",
     "output_type": "stream",
     "text": [
      "VERSION=\"20.04.6 LTS (Focal Fossa)\"\r\n",
      "VERSION_ID=\"20.04\"\r\n",
      "VERSION_CODENAME=focal\r\n"
     ]
    }
   ],
   "source": [
    "!cat /etc/os-release | grep \"VERSION\""
   ]
  },
  {
   "cell_type": "code",
   "execution_count": 2,
   "id": "bc71d949",
   "metadata": {},
   "outputs": [
    {
     "name": "stdout",
     "output_type": "stream",
     "text": [
      "Model name:                      AMD Ryzen 5 5600X 6-Core Processor\r\n"
     ]
    }
   ],
   "source": [
    "!lscpu | grep \"Model name\""
   ]
  },
  {
   "cell_type": "code",
   "execution_count": 3,
   "id": "851a04e3",
   "metadata": {},
   "outputs": [
    {
     "name": "stdout",
     "output_type": "stream",
     "text": [
      "Total online memory:      32G\r\n",
      "Total offline memory:      0B\r\n"
     ]
    }
   ],
   "source": [
    "!lsmem | grep \"memory\""
   ]
  },
  {
   "cell_type": "code",
   "execution_count": 4,
   "id": "2db6ac49",
   "metadata": {},
   "outputs": [
    {
     "name": "stdout",
     "output_type": "stream",
     "text": [
      "Wed Mar 15 23:29:05 2023       \r\n",
      "+-----------------------------------------------------------------------------+\r\n",
      "| NVIDIA-SMI 495.29.05    Driver Version: 495.29.05    CUDA Version: 11.5     |\r\n",
      "|-------------------------------+----------------------+----------------------+\r\n",
      "| GPU  Name        Persistence-M| Bus-Id        Disp.A | Volatile Uncorr. ECC |\r\n",
      "| Fan  Temp  Perf  Pwr:Usage/Cap|         Memory-Usage | GPU-Util  Compute M. |\r\n",
      "|                               |                      |               MIG M. |\r\n",
      "|===============================+======================+======================|\r\n",
      "|   0  NVIDIA GeForce ...  On   | 00000000:08:00.0  On |                  N/A |\r\n",
      "|  0%   47C    P5    22W / 170W |    668MiB / 12045MiB |     36%      Default |\r\n",
      "|                               |                      |                  N/A |\r\n",
      "+-------------------------------+----------------------+----------------------+\r\n"
     ]
    }
   ],
   "source": [
    "!nvidia-smi | head -n 12"
   ]
  },
  {
   "cell_type": "code",
   "execution_count": 5,
   "id": "d089a437",
   "metadata": {},
   "outputs": [
    {
     "name": "stdout",
     "output_type": "stream",
     "text": [
      "Python 3.8.10\r\n"
     ]
    }
   ],
   "source": [
    "!python3 --version"
   ]
  },
  {
   "cell_type": "markdown",
   "id": "d93c9d31",
   "metadata": {},
   "source": [
    "## Arquivos"
   ]
  },
  {
   "cell_type": "code",
   "execution_count": 6,
   "id": "4af0531f",
   "metadata": {},
   "outputs": [],
   "source": [
    "DIR_VERBO = '/media/hbrandao/STORAGE_HDD_1TB/PPGI/VERBO/Audios'\n",
    "DIR_VIVAE = '/media/hbrandao/STORAGE_HDD_1TB/PPGI/VIVAE/VIVAE/full_set'\n",
    "\n",
    "LISTA_VERBO = 'LISTA_ARQUIVOS_VERBO.txt'\n",
    "LISTA_VIVAE = 'LISTA_ARQUIVOS_VIVAE.txt' "
   ]
  },
  {
   "cell_type": "code",
   "execution_count": 7,
   "id": "99bf6a46",
   "metadata": {},
   "outputs": [
    {
     "name": "stdout",
     "output_type": "stream",
     "text": [
      "1167\n",
      "1167 LISTA_ARQUIVOS_VERBO.txt\n"
     ]
    }
   ],
   "source": [
    "!ls -d $(find $DIR_VERBO) | grep -P \"\\.wav\" | wc -l\n",
    "!ls -d $(find $DIR_VERBO) | grep -P \"\\.wav\" > LISTA_ARQUIVOS_VERBO.txt\n",
    "!wc -l LISTA_ARQUIVOS_VERBO.txt"
   ]
  },
  {
   "cell_type": "code",
   "execution_count": 8,
   "id": "4c28ff6a",
   "metadata": {},
   "outputs": [
    {
     "name": "stdout",
     "output_type": "stream",
     "text": [
      "1085\n",
      "1085 LISTA_ARQUIVOS_VIVAE.txt\n"
     ]
    }
   ],
   "source": [
    "!ls -d $(find $DIR_VIVAE) | grep -P \"\\.wav\" | wc -l\n",
    "!ls -d $(find $DIR_VIVAE) | grep -P \"\\.wav\" > LISTA_ARQUIVOS_VIVAE.txt\n",
    "!wc -l LISTA_ARQUIVOS_VIVAE.txt"
   ]
  },
  {
   "cell_type": "markdown",
   "id": "a42fa73f",
   "metadata": {},
   "source": [
    "## Data Frame"
   ]
  },
  {
   "cell_type": "code",
   "execution_count": 9,
   "id": "70db3a65",
   "metadata": {},
   "outputs": [],
   "source": [
    "import numpy as np\n",
    "import pandas as pd"
   ]
  },
  {
   "cell_type": "markdown",
   "id": "b38050ae",
   "metadata": {},
   "source": [
    "#### VERBO"
   ]
  },
  {
   "cell_type": "code",
   "execution_count": 10,
   "id": "2c09a6b6",
   "metadata": {},
   "outputs": [
    {
     "data": {
      "text/plain": [
       "['/media/hbrandao/STORAGE_HDD_1TB/PPGI/VERBO/Audios/f1/ale-f1-l1.wav',\n",
       " '/media/hbrandao/STORAGE_HDD_1TB/PPGI/VERBO/Audios/f2/neu-f2-q1.wav',\n",
       " '/media/hbrandao/STORAGE_HDD_1TB/PPGI/VERBO/Audios/f4/ale-f4-s2.wav',\n",
       " '/media/hbrandao/STORAGE_HDD_1TB/PPGI/VERBO/Audios/f5/rai-f5-ns5.wav',\n",
       " '/media/hbrandao/STORAGE_HDD_1TB/PPGI/VERBO/Audios/m1/des-m1-ns1.wav',\n",
       " '/media/hbrandao/STORAGE_HDD_1TB/PPGI/VERBO/Audios/m2/sur-m2-l4.wav',\n",
       " '/media/hbrandao/STORAGE_HDD_1TB/PPGI/VERBO/Audios/m4/des-m4-s2.wav',\n",
       " '/media/hbrandao/STORAGE_HDD_1TB/PPGI/VERBO/Audios/m5/sur-m5-ns5.wav']"
      ]
     },
     "execution_count": 10,
     "metadata": {},
     "output_type": "execute_result"
    }
   ],
   "source": [
    "_ = [_.replace('\\n', '') for _ in open(LISTA_VERBO, 'r').readlines()]\n",
    "_[::150]"
   ]
  },
  {
   "cell_type": "code",
   "execution_count": 11,
   "id": "d32e13c2",
   "metadata": {},
   "outputs": [],
   "source": [
    "def parse_path_verbo(path_reg: list):\n",
    "    genero, arquivo = path_reg.split('/')[-2:]\n",
    "    pessoa = genero\n",
    "    genero = 'f' if genero.startswith('f') else 'm'\n",
    "    emocao = arquivo.split('-')[0]\n",
    "    intensidade = None\n",
    "    return path_reg, 'verbo', arquivo, pessoa, genero, emocao, intensidade"
   ]
  },
  {
   "cell_type": "code",
   "execution_count": 12,
   "id": "2564bb51",
   "metadata": {},
   "outputs": [],
   "source": [
    "Xverbo = pd.DataFrame(data=[parse_path_verbo(reg) for reg in _],\n",
    "                      columns='path dataset arquivo pessoa genero emocao intensidade'.split()\n",
    "                     )"
   ]
  },
  {
   "cell_type": "code",
   "execution_count": 13,
   "id": "a192b745",
   "metadata": {},
   "outputs": [
    {
     "data": {
      "text/plain": [
       "(1167, 7)"
      ]
     },
     "execution_count": 13,
     "metadata": {},
     "output_type": "execute_result"
    }
   ],
   "source": [
    "Xverbo.shape"
   ]
  },
  {
   "cell_type": "code",
   "execution_count": 14,
   "id": "48376ad9",
   "metadata": {},
   "outputs": [
    {
     "data": {
      "text/html": [
       "<div>\n",
       "<style scoped>\n",
       "    .dataframe tbody tr th:only-of-type {\n",
       "        vertical-align: middle;\n",
       "    }\n",
       "\n",
       "    .dataframe tbody tr th {\n",
       "        vertical-align: top;\n",
       "    }\n",
       "\n",
       "    .dataframe thead th {\n",
       "        text-align: right;\n",
       "    }\n",
       "</style>\n",
       "<table border=\"1\" class=\"dataframe\">\n",
       "  <thead>\n",
       "    <tr style=\"text-align: right;\">\n",
       "      <th></th>\n",
       "      <th>path</th>\n",
       "      <th>dataset</th>\n",
       "      <th>arquivo</th>\n",
       "      <th>pessoa</th>\n",
       "      <th>genero</th>\n",
       "      <th>emocao</th>\n",
       "      <th>intensidade</th>\n",
       "    </tr>\n",
       "  </thead>\n",
       "  <tbody>\n",
       "    <tr>\n",
       "      <th>0</th>\n",
       "      <td>/media/hbrandao/STORAGE_HDD_1TB/PPGI/VERBO/Aud...</td>\n",
       "      <td>verbo</td>\n",
       "      <td>ale-f1-l1.wav</td>\n",
       "      <td>f1</td>\n",
       "      <td>f</td>\n",
       "      <td>ale</td>\n",
       "      <td>None</td>\n",
       "    </tr>\n",
       "    <tr>\n",
       "      <th>1</th>\n",
       "      <td>/media/hbrandao/STORAGE_HDD_1TB/PPGI/VERBO/Aud...</td>\n",
       "      <td>verbo</td>\n",
       "      <td>ale-f1-l2.wav</td>\n",
       "      <td>f1</td>\n",
       "      <td>f</td>\n",
       "      <td>ale</td>\n",
       "      <td>None</td>\n",
       "    </tr>\n",
       "    <tr>\n",
       "      <th>2</th>\n",
       "      <td>/media/hbrandao/STORAGE_HDD_1TB/PPGI/VERBO/Aud...</td>\n",
       "      <td>verbo</td>\n",
       "      <td>ale-f1-l3.wav</td>\n",
       "      <td>f1</td>\n",
       "      <td>f</td>\n",
       "      <td>ale</td>\n",
       "      <td>None</td>\n",
       "    </tr>\n",
       "    <tr>\n",
       "      <th>3</th>\n",
       "      <td>/media/hbrandao/STORAGE_HDD_1TB/PPGI/VERBO/Aud...</td>\n",
       "      <td>verbo</td>\n",
       "      <td>ale-f1-l4.wav</td>\n",
       "      <td>f1</td>\n",
       "      <td>f</td>\n",
       "      <td>ale</td>\n",
       "      <td>None</td>\n",
       "    </tr>\n",
       "    <tr>\n",
       "      <th>4</th>\n",
       "      <td>/media/hbrandao/STORAGE_HDD_1TB/PPGI/VERBO/Aud...</td>\n",
       "      <td>verbo</td>\n",
       "      <td>ale-f1-l5.wav</td>\n",
       "      <td>f1</td>\n",
       "      <td>f</td>\n",
       "      <td>ale</td>\n",
       "      <td>None</td>\n",
       "    </tr>\n",
       "  </tbody>\n",
       "</table>\n",
       "</div>"
      ],
      "text/plain": [
       "                                                path dataset        arquivo  \\\n",
       "0  /media/hbrandao/STORAGE_HDD_1TB/PPGI/VERBO/Aud...   verbo  ale-f1-l1.wav   \n",
       "1  /media/hbrandao/STORAGE_HDD_1TB/PPGI/VERBO/Aud...   verbo  ale-f1-l2.wav   \n",
       "2  /media/hbrandao/STORAGE_HDD_1TB/PPGI/VERBO/Aud...   verbo  ale-f1-l3.wav   \n",
       "3  /media/hbrandao/STORAGE_HDD_1TB/PPGI/VERBO/Aud...   verbo  ale-f1-l4.wav   \n",
       "4  /media/hbrandao/STORAGE_HDD_1TB/PPGI/VERBO/Aud...   verbo  ale-f1-l5.wav   \n",
       "\n",
       "  pessoa genero emocao intensidade  \n",
       "0     f1      f    ale        None  \n",
       "1     f1      f    ale        None  \n",
       "2     f1      f    ale        None  \n",
       "3     f1      f    ale        None  \n",
       "4     f1      f    ale        None  "
      ]
     },
     "execution_count": 14,
     "metadata": {},
     "output_type": "execute_result"
    }
   ],
   "source": [
    "Xverbo.head()"
   ]
  },
  {
   "cell_type": "markdown",
   "id": "c578b97b",
   "metadata": {},
   "source": [
    "#### VIVAE"
   ]
  },
  {
   "cell_type": "code",
   "execution_count": 15,
   "id": "45817c7f",
   "metadata": {},
   "outputs": [
    {
     "data": {
      "text/plain": [
       "['/media/hbrandao/STORAGE_HDD_1TB/PPGI/VIVAE/VIVAE/full_set/S01_achievement_low_01.wav',\n",
       " '/media/hbrandao/STORAGE_HDD_1TB/PPGI/VIVAE/VIVAE/full_set/S02_pain_peak_07.wav',\n",
       " '/media/hbrandao/STORAGE_HDD_1TB/PPGI/VIVAE/VIVAE/full_set/S04_achievement_moderate_021.wav',\n",
       " '/media/hbrandao/STORAGE_HDD_1TB/PPGI/VIVAE/VIVAE/full_set/S05_fear_moderate_08.wav',\n",
       " '/media/hbrandao/STORAGE_HDD_1TB/PPGI/VIVAE/VIVAE/full_set/S06_pleasure_strong_12.wav',\n",
       " '/media/hbrandao/STORAGE_HDD_1TB/PPGI/VIVAE/VIVAE/full_set/S08_anger_moderate_02.wav',\n",
       " '/media/hbrandao/STORAGE_HDD_1TB/PPGI/VIVAE/VIVAE/full_set/S09_pain_peak_15.wav',\n",
       " '/media/hbrandao/STORAGE_HDD_1TB/PPGI/VIVAE/VIVAE/full_set/S11_fear_peak_02.wav']"
      ]
     },
     "execution_count": 15,
     "metadata": {},
     "output_type": "execute_result"
    }
   ],
   "source": [
    "_ = [_.replace('\\n', '') for _ in open(LISTA_VIVAE, 'r').readlines()]\n",
    "_[::150]"
   ]
  },
  {
   "cell_type": "code",
   "execution_count": 16,
   "id": "173fb18f",
   "metadata": {},
   "outputs": [],
   "source": [
    "def parse_path_vivae(path_reg: list):\n",
    "    arquivo = path_reg.split('/')[-1]\n",
    "    pessoa, emocao, intensidade, *_ = arquivo.split('_')\n",
    "    return path_reg, 'vivae', arquivo, pessoa, None, emocao, intensidade"
   ]
  },
  {
   "cell_type": "code",
   "execution_count": 17,
   "id": "11b0b2b5",
   "metadata": {},
   "outputs": [],
   "source": [
    "Xvivae = pd.DataFrame(data=[parse_path_vivae(reg) for reg in _],\n",
    "                      columns='path dataset arquivo pessoa genero emocao intensidade'.split()\n",
    "                     )"
   ]
  },
  {
   "cell_type": "code",
   "execution_count": 18,
   "id": "9e2ce9b4",
   "metadata": {},
   "outputs": [
    {
     "data": {
      "text/plain": [
       "(1085, 7)"
      ]
     },
     "execution_count": 18,
     "metadata": {},
     "output_type": "execute_result"
    }
   ],
   "source": [
    "Xvivae.shape"
   ]
  },
  {
   "cell_type": "code",
   "execution_count": 19,
   "id": "5bb23ffe",
   "metadata": {},
   "outputs": [
    {
     "data": {
      "text/html": [
       "<div>\n",
       "<style scoped>\n",
       "    .dataframe tbody tr th:only-of-type {\n",
       "        vertical-align: middle;\n",
       "    }\n",
       "\n",
       "    .dataframe tbody tr th {\n",
       "        vertical-align: top;\n",
       "    }\n",
       "\n",
       "    .dataframe thead th {\n",
       "        text-align: right;\n",
       "    }\n",
       "</style>\n",
       "<table border=\"1\" class=\"dataframe\">\n",
       "  <thead>\n",
       "    <tr style=\"text-align: right;\">\n",
       "      <th></th>\n",
       "      <th>path</th>\n",
       "      <th>dataset</th>\n",
       "      <th>arquivo</th>\n",
       "      <th>pessoa</th>\n",
       "      <th>genero</th>\n",
       "      <th>emocao</th>\n",
       "      <th>intensidade</th>\n",
       "    </tr>\n",
       "  </thead>\n",
       "  <tbody>\n",
       "    <tr>\n",
       "      <th>0</th>\n",
       "      <td>/media/hbrandao/STORAGE_HDD_1TB/PPGI/VIVAE/VIV...</td>\n",
       "      <td>vivae</td>\n",
       "      <td>S01_achievement_low_01.wav</td>\n",
       "      <td>S01</td>\n",
       "      <td>None</td>\n",
       "      <td>achievement</td>\n",
       "      <td>low</td>\n",
       "    </tr>\n",
       "    <tr>\n",
       "      <th>1</th>\n",
       "      <td>/media/hbrandao/STORAGE_HDD_1TB/PPGI/VIVAE/VIV...</td>\n",
       "      <td>vivae</td>\n",
       "      <td>S01_achievement_low_02.wav</td>\n",
       "      <td>S01</td>\n",
       "      <td>None</td>\n",
       "      <td>achievement</td>\n",
       "      <td>low</td>\n",
       "    </tr>\n",
       "    <tr>\n",
       "      <th>2</th>\n",
       "      <td>/media/hbrandao/STORAGE_HDD_1TB/PPGI/VIVAE/VIV...</td>\n",
       "      <td>vivae</td>\n",
       "      <td>S01_achievement_low_03.wav</td>\n",
       "      <td>S01</td>\n",
       "      <td>None</td>\n",
       "      <td>achievement</td>\n",
       "      <td>low</td>\n",
       "    </tr>\n",
       "    <tr>\n",
       "      <th>3</th>\n",
       "      <td>/media/hbrandao/STORAGE_HDD_1TB/PPGI/VIVAE/VIV...</td>\n",
       "      <td>vivae</td>\n",
       "      <td>S01_achievement_low_04.wav</td>\n",
       "      <td>S01</td>\n",
       "      <td>None</td>\n",
       "      <td>achievement</td>\n",
       "      <td>low</td>\n",
       "    </tr>\n",
       "    <tr>\n",
       "      <th>4</th>\n",
       "      <td>/media/hbrandao/STORAGE_HDD_1TB/PPGI/VIVAE/VIV...</td>\n",
       "      <td>vivae</td>\n",
       "      <td>S01_achievement_low_05.wav</td>\n",
       "      <td>S01</td>\n",
       "      <td>None</td>\n",
       "      <td>achievement</td>\n",
       "      <td>low</td>\n",
       "    </tr>\n",
       "  </tbody>\n",
       "</table>\n",
       "</div>"
      ],
      "text/plain": [
       "                                                path dataset  \\\n",
       "0  /media/hbrandao/STORAGE_HDD_1TB/PPGI/VIVAE/VIV...   vivae   \n",
       "1  /media/hbrandao/STORAGE_HDD_1TB/PPGI/VIVAE/VIV...   vivae   \n",
       "2  /media/hbrandao/STORAGE_HDD_1TB/PPGI/VIVAE/VIV...   vivae   \n",
       "3  /media/hbrandao/STORAGE_HDD_1TB/PPGI/VIVAE/VIV...   vivae   \n",
       "4  /media/hbrandao/STORAGE_HDD_1TB/PPGI/VIVAE/VIV...   vivae   \n",
       "\n",
       "                      arquivo pessoa genero       emocao intensidade  \n",
       "0  S01_achievement_low_01.wav    S01   None  achievement         low  \n",
       "1  S01_achievement_low_02.wav    S01   None  achievement         low  \n",
       "2  S01_achievement_low_03.wav    S01   None  achievement         low  \n",
       "3  S01_achievement_low_04.wav    S01   None  achievement         low  \n",
       "4  S01_achievement_low_05.wav    S01   None  achievement         low  "
      ]
     },
     "execution_count": 19,
     "metadata": {},
     "output_type": "execute_result"
    }
   ],
   "source": [
    "Xvivae.head()"
   ]
  },
  {
   "cell_type": "markdown",
   "id": "d42eadfd",
   "metadata": {},
   "source": [
    "#### Data Fusion"
   ]
  },
  {
   "cell_type": "code",
   "execution_count": 20,
   "id": "88ad413d",
   "metadata": {},
   "outputs": [
    {
     "data": {
      "text/plain": [
       "(2252, 7)"
      ]
     },
     "execution_count": 20,
     "metadata": {},
     "output_type": "execute_result"
    }
   ],
   "source": [
    "X = pd.concat([Xverbo, Xvivae])\n",
    "X.reset_index(inplace=True)\n",
    "X.drop('index', axis=1, inplace=True)\n",
    "X.shape"
   ]
  },
  {
   "cell_type": "code",
   "execution_count": 21,
   "id": "d3a35ae3",
   "metadata": {},
   "outputs": [
    {
     "data": {
      "text/plain": [
       "True"
      ]
     },
     "execution_count": 21,
     "metadata": {},
     "output_type": "execute_result"
    }
   ],
   "source": [
    "Xverbo.shape[0] + Xvivae.shape[0] == X.shape[0]"
   ]
  },
  {
   "cell_type": "code",
   "execution_count": 22,
   "id": "f336ead3",
   "metadata": {},
   "outputs": [
    {
     "data": {
      "text/plain": [
       "pleasure       202\n",
       "surprise       187\n",
       "pain           185\n",
       "fear           176\n",
       "anger          174\n",
       "rai            167\n",
       "sur            167\n",
       "neu            167\n",
       "des            167\n",
       "tri            167\n",
       "med            166\n",
       "ale            166\n",
       "achievement    161\n",
       "Name: emocao, dtype: int64"
      ]
     },
     "execution_count": 22,
     "metadata": {},
     "output_type": "execute_result"
    }
   ],
   "source": [
    "X['emocao'].value_counts()"
   ]
  },
  {
   "cell_type": "code",
   "execution_count": 23,
   "id": "478b9d52",
   "metadata": {},
   "outputs": [
    {
     "data": {
      "text/plain": [
       "strong      282\n",
       "peak        272\n",
       "moderate    269\n",
       "low         262\n",
       "Name: intensidade, dtype: int64"
      ]
     },
     "execution_count": 23,
     "metadata": {},
     "output_type": "execute_result"
    }
   ],
   "source": [
    "X['intensidade'].value_counts()"
   ]
  },
  {
   "cell_type": "code",
   "execution_count": 24,
   "id": "9f4ef4e3",
   "metadata": {},
   "outputs": [],
   "source": [
    "EMOCOES_COMUNS = (\n",
    "    'achievement', 'fear', 'anger', 'surprise', \n",
    "    'ale', 'med', 'rai', 'sur'\n",
    ")"
   ]
  },
  {
   "cell_type": "code",
   "execution_count": 25,
   "id": "3fdf1dae",
   "metadata": {},
   "outputs": [
    {
     "data": {
      "text/plain": [
       "True     1364\n",
       "False     888\n",
       "Name: fusao, dtype: int64"
      ]
     },
     "execution_count": 25,
     "metadata": {},
     "output_type": "execute_result"
    }
   ],
   "source": [
    "X['fusao'] = X['emocao'].apply(lambda x: True if x in EMOCOES_COMUNS else False)\n",
    "X['fusao'].value_counts()"
   ]
  },
  {
   "cell_type": "code",
   "execution_count": 26,
   "id": "3e2c374d",
   "metadata": {},
   "outputs": [
    {
     "data": {
      "text/plain": [
       "(1364, 7)"
      ]
     },
     "execution_count": 26,
     "metadata": {},
     "output_type": "execute_result"
    }
   ],
   "source": [
    "Xfusao = X[X['fusao'] == True].copy()\n",
    "Xfusao.drop(labels='fusao', axis=1, inplace=True)\n",
    "Xfusao.shape"
   ]
  },
  {
   "cell_type": "code",
   "execution_count": 27,
   "id": "fd04ceb6",
   "metadata": {},
   "outputs": [],
   "source": [
    "Xfusao.reset_index(inplace=True)\n",
    "Xfusao.drop('index', axis=1, inplace=True)"
   ]
  },
  {
   "cell_type": "code",
   "execution_count": 28,
   "id": "f9f7c8c1",
   "metadata": {},
   "outputs": [
    {
     "data": {
      "text/html": [
       "<div>\n",
       "<style scoped>\n",
       "    .dataframe tbody tr th:only-of-type {\n",
       "        vertical-align: middle;\n",
       "    }\n",
       "\n",
       "    .dataframe tbody tr th {\n",
       "        vertical-align: top;\n",
       "    }\n",
       "\n",
       "    .dataframe thead th {\n",
       "        text-align: right;\n",
       "    }\n",
       "</style>\n",
       "<table border=\"1\" class=\"dataframe\">\n",
       "  <thead>\n",
       "    <tr style=\"text-align: right;\">\n",
       "      <th></th>\n",
       "      <th>path</th>\n",
       "      <th>dataset</th>\n",
       "      <th>arquivo</th>\n",
       "      <th>pessoa</th>\n",
       "      <th>genero</th>\n",
       "      <th>emocao</th>\n",
       "      <th>intensidade</th>\n",
       "    </tr>\n",
       "  </thead>\n",
       "  <tbody>\n",
       "    <tr>\n",
       "      <th>0</th>\n",
       "      <td>/media/hbrandao/STORAGE_HDD_1TB/PPGI/VERBO/Aud...</td>\n",
       "      <td>verbo</td>\n",
       "      <td>ale-f1-l1.wav</td>\n",
       "      <td>f1</td>\n",
       "      <td>f</td>\n",
       "      <td>ale</td>\n",
       "      <td>None</td>\n",
       "    </tr>\n",
       "    <tr>\n",
       "      <th>1</th>\n",
       "      <td>/media/hbrandao/STORAGE_HDD_1TB/PPGI/VERBO/Aud...</td>\n",
       "      <td>verbo</td>\n",
       "      <td>ale-f1-l2.wav</td>\n",
       "      <td>f1</td>\n",
       "      <td>f</td>\n",
       "      <td>ale</td>\n",
       "      <td>None</td>\n",
       "    </tr>\n",
       "    <tr>\n",
       "      <th>2</th>\n",
       "      <td>/media/hbrandao/STORAGE_HDD_1TB/PPGI/VERBO/Aud...</td>\n",
       "      <td>verbo</td>\n",
       "      <td>ale-f1-l3.wav</td>\n",
       "      <td>f1</td>\n",
       "      <td>f</td>\n",
       "      <td>ale</td>\n",
       "      <td>None</td>\n",
       "    </tr>\n",
       "    <tr>\n",
       "      <th>3</th>\n",
       "      <td>/media/hbrandao/STORAGE_HDD_1TB/PPGI/VERBO/Aud...</td>\n",
       "      <td>verbo</td>\n",
       "      <td>ale-f1-l4.wav</td>\n",
       "      <td>f1</td>\n",
       "      <td>f</td>\n",
       "      <td>ale</td>\n",
       "      <td>None</td>\n",
       "    </tr>\n",
       "    <tr>\n",
       "      <th>4</th>\n",
       "      <td>/media/hbrandao/STORAGE_HDD_1TB/PPGI/VERBO/Aud...</td>\n",
       "      <td>verbo</td>\n",
       "      <td>ale-f1-l5.wav</td>\n",
       "      <td>f1</td>\n",
       "      <td>f</td>\n",
       "      <td>ale</td>\n",
       "      <td>None</td>\n",
       "    </tr>\n",
       "  </tbody>\n",
       "</table>\n",
       "</div>"
      ],
      "text/plain": [
       "                                                path dataset        arquivo  \\\n",
       "0  /media/hbrandao/STORAGE_HDD_1TB/PPGI/VERBO/Aud...   verbo  ale-f1-l1.wav   \n",
       "1  /media/hbrandao/STORAGE_HDD_1TB/PPGI/VERBO/Aud...   verbo  ale-f1-l2.wav   \n",
       "2  /media/hbrandao/STORAGE_HDD_1TB/PPGI/VERBO/Aud...   verbo  ale-f1-l3.wav   \n",
       "3  /media/hbrandao/STORAGE_HDD_1TB/PPGI/VERBO/Aud...   verbo  ale-f1-l4.wav   \n",
       "4  /media/hbrandao/STORAGE_HDD_1TB/PPGI/VERBO/Aud...   verbo  ale-f1-l5.wav   \n",
       "\n",
       "  pessoa genero emocao intensidade  \n",
       "0     f1      f    ale        None  \n",
       "1     f1      f    ale        None  \n",
       "2     f1      f    ale        None  \n",
       "3     f1      f    ale        None  \n",
       "4     f1      f    ale        None  "
      ]
     },
     "execution_count": 28,
     "metadata": {},
     "output_type": "execute_result"
    }
   ],
   "source": [
    "Xfusao.head()"
   ]
  },
  {
   "cell_type": "code",
   "execution_count": 29,
   "id": "2234ce3d",
   "metadata": {},
   "outputs": [
    {
     "data": {
      "text/html": [
       "<div>\n",
       "<style scoped>\n",
       "    .dataframe tbody tr th:only-of-type {\n",
       "        vertical-align: middle;\n",
       "    }\n",
       "\n",
       "    .dataframe tbody tr th {\n",
       "        vertical-align: top;\n",
       "    }\n",
       "\n",
       "    .dataframe thead th {\n",
       "        text-align: right;\n",
       "    }\n",
       "</style>\n",
       "<table border=\"1\" class=\"dataframe\">\n",
       "  <thead>\n",
       "    <tr style=\"text-align: right;\">\n",
       "      <th></th>\n",
       "      <th>path</th>\n",
       "      <th>dataset</th>\n",
       "      <th>arquivo</th>\n",
       "      <th>pessoa</th>\n",
       "      <th>genero</th>\n",
       "      <th>emocao</th>\n",
       "      <th>intensidade</th>\n",
       "    </tr>\n",
       "  </thead>\n",
       "  <tbody>\n",
       "    <tr>\n",
       "      <th>1359</th>\n",
       "      <td>/media/hbrandao/STORAGE_HDD_1TB/PPGI/VIVAE/VIV...</td>\n",
       "      <td>vivae</td>\n",
       "      <td>S11_surprise_low_03.wav</td>\n",
       "      <td>S11</td>\n",
       "      <td>None</td>\n",
       "      <td>surprise</td>\n",
       "      <td>low</td>\n",
       "    </tr>\n",
       "    <tr>\n",
       "      <th>1360</th>\n",
       "      <td>/media/hbrandao/STORAGE_HDD_1TB/PPGI/VIVAE/VIV...</td>\n",
       "      <td>vivae</td>\n",
       "      <td>S11_surprise_moderate_01.wav</td>\n",
       "      <td>S11</td>\n",
       "      <td>None</td>\n",
       "      <td>surprise</td>\n",
       "      <td>moderate</td>\n",
       "    </tr>\n",
       "    <tr>\n",
       "      <th>1361</th>\n",
       "      <td>/media/hbrandao/STORAGE_HDD_1TB/PPGI/VIVAE/VIV...</td>\n",
       "      <td>vivae</td>\n",
       "      <td>S11_surprise_peak_04.wav</td>\n",
       "      <td>S11</td>\n",
       "      <td>None</td>\n",
       "      <td>surprise</td>\n",
       "      <td>peak</td>\n",
       "    </tr>\n",
       "    <tr>\n",
       "      <th>1362</th>\n",
       "      <td>/media/hbrandao/STORAGE_HDD_1TB/PPGI/VIVAE/VIV...</td>\n",
       "      <td>vivae</td>\n",
       "      <td>S11_surprise_strong_011.wav</td>\n",
       "      <td>S11</td>\n",
       "      <td>None</td>\n",
       "      <td>surprise</td>\n",
       "      <td>strong</td>\n",
       "    </tr>\n",
       "    <tr>\n",
       "      <th>1363</th>\n",
       "      <td>/media/hbrandao/STORAGE_HDD_1TB/PPGI/VIVAE/VIV...</td>\n",
       "      <td>vivae</td>\n",
       "      <td>S11_surprise_strong_012.wav</td>\n",
       "      <td>S11</td>\n",
       "      <td>None</td>\n",
       "      <td>surprise</td>\n",
       "      <td>strong</td>\n",
       "    </tr>\n",
       "  </tbody>\n",
       "</table>\n",
       "</div>"
      ],
      "text/plain": [
       "                                                   path dataset  \\\n",
       "1359  /media/hbrandao/STORAGE_HDD_1TB/PPGI/VIVAE/VIV...   vivae   \n",
       "1360  /media/hbrandao/STORAGE_HDD_1TB/PPGI/VIVAE/VIV...   vivae   \n",
       "1361  /media/hbrandao/STORAGE_HDD_1TB/PPGI/VIVAE/VIV...   vivae   \n",
       "1362  /media/hbrandao/STORAGE_HDD_1TB/PPGI/VIVAE/VIV...   vivae   \n",
       "1363  /media/hbrandao/STORAGE_HDD_1TB/PPGI/VIVAE/VIV...   vivae   \n",
       "\n",
       "                           arquivo pessoa genero    emocao intensidade  \n",
       "1359       S11_surprise_low_03.wav    S11   None  surprise         low  \n",
       "1360  S11_surprise_moderate_01.wav    S11   None  surprise    moderate  \n",
       "1361      S11_surprise_peak_04.wav    S11   None  surprise        peak  \n",
       "1362   S11_surprise_strong_011.wav    S11   None  surprise      strong  \n",
       "1363   S11_surprise_strong_012.wav    S11   None  surprise      strong  "
      ]
     },
     "execution_count": 29,
     "metadata": {},
     "output_type": "execute_result"
    }
   ],
   "source": [
    "Xfusao.tail()"
   ]
  },
  {
   "cell_type": "code",
   "execution_count": 30,
   "id": "e75f49bd",
   "metadata": {},
   "outputs": [],
   "source": [
    "NORMALIZA_EMOCAO = {\n",
    "    'achievement': 'alegria',\n",
    "    'fear': 'medo',\n",
    "    'anger': 'raiva',\n",
    "    'surprise': 'surpresa',\n",
    "    'ale': 'alegria',\n",
    "    'med': 'medo',\n",
    "    'rai': 'raiva',\n",
    "    'sur': 'surpresa'\n",
    "}\n",
    "\n",
    "NORMALIZA_INTENSIDADE = {\n",
    "    'low': 'fraca',\n",
    "    'moderate': 'moderada',\n",
    "    'strong': 'forte',\n",
    "    'peak': 'pico',\n",
    "}"
   ]
  },
  {
   "cell_type": "code",
   "execution_count": 31,
   "id": "01bf6b11",
   "metadata": {},
   "outputs": [],
   "source": [
    "Xfusao['emocao'] = Xfusao['emocao'].apply(lambda x: NORMALIZA_EMOCAO.get(x))"
   ]
  },
  {
   "cell_type": "code",
   "execution_count": 32,
   "id": "3925b1e5",
   "metadata": {},
   "outputs": [],
   "source": [
    "Xfusao['intensidade'] = Xfusao['intensidade'].apply(lambda x: NORMALIZA_INTENSIDADE.get(x, None))"
   ]
  },
  {
   "cell_type": "code",
   "execution_count": 33,
   "id": "4444d1b2",
   "metadata": {},
   "outputs": [
    {
     "data": {
      "text/plain": [
       "surpresa    354\n",
       "medo        342\n",
       "raiva       341\n",
       "alegria     327\n",
       "Name: emocao, dtype: int64"
      ]
     },
     "execution_count": 33,
     "metadata": {},
     "output_type": "execute_result"
    }
   ],
   "source": [
    "Xfusao['emocao'].value_counts()"
   ]
  },
  {
   "cell_type": "code",
   "execution_count": 34,
   "id": "b5cbbfc1",
   "metadata": {},
   "outputs": [
    {
     "data": {
      "text/plain": [
       "fraca       178\n",
       "forte       177\n",
       "pico        175\n",
       "moderada    168\n",
       "Name: intensidade, dtype: int64"
      ]
     },
     "execution_count": 34,
     "metadata": {},
     "output_type": "execute_result"
    }
   ],
   "source": [
    "Xfusao['intensidade'].value_counts()"
   ]
  },
  {
   "cell_type": "code",
   "execution_count": 35,
   "id": "09233828",
   "metadata": {},
   "outputs": [
    {
     "data": {
      "text/html": [
       "<div>\n",
       "<style scoped>\n",
       "    .dataframe tbody tr th:only-of-type {\n",
       "        vertical-align: middle;\n",
       "    }\n",
       "\n",
       "    .dataframe tbody tr th {\n",
       "        vertical-align: top;\n",
       "    }\n",
       "\n",
       "    .dataframe thead th {\n",
       "        text-align: right;\n",
       "    }\n",
       "</style>\n",
       "<table border=\"1\" class=\"dataframe\">\n",
       "  <thead>\n",
       "    <tr style=\"text-align: right;\">\n",
       "      <th></th>\n",
       "      <th>path</th>\n",
       "      <th>dataset</th>\n",
       "      <th>arquivo</th>\n",
       "      <th>pessoa</th>\n",
       "      <th>genero</th>\n",
       "      <th>emocao</th>\n",
       "      <th>intensidade</th>\n",
       "    </tr>\n",
       "  </thead>\n",
       "  <tbody>\n",
       "    <tr>\n",
       "      <th>0</th>\n",
       "      <td>/media/hbrandao/STORAGE_HDD_1TB/PPGI/VERBO/Aud...</td>\n",
       "      <td>verbo</td>\n",
       "      <td>ale-f1-l1.wav</td>\n",
       "      <td>f1</td>\n",
       "      <td>f</td>\n",
       "      <td>alegria</td>\n",
       "      <td>None</td>\n",
       "    </tr>\n",
       "    <tr>\n",
       "      <th>1</th>\n",
       "      <td>/media/hbrandao/STORAGE_HDD_1TB/PPGI/VERBO/Aud...</td>\n",
       "      <td>verbo</td>\n",
       "      <td>ale-f1-l2.wav</td>\n",
       "      <td>f1</td>\n",
       "      <td>f</td>\n",
       "      <td>alegria</td>\n",
       "      <td>None</td>\n",
       "    </tr>\n",
       "    <tr>\n",
       "      <th>2</th>\n",
       "      <td>/media/hbrandao/STORAGE_HDD_1TB/PPGI/VERBO/Aud...</td>\n",
       "      <td>verbo</td>\n",
       "      <td>ale-f1-l3.wav</td>\n",
       "      <td>f1</td>\n",
       "      <td>f</td>\n",
       "      <td>alegria</td>\n",
       "      <td>None</td>\n",
       "    </tr>\n",
       "    <tr>\n",
       "      <th>3</th>\n",
       "      <td>/media/hbrandao/STORAGE_HDD_1TB/PPGI/VERBO/Aud...</td>\n",
       "      <td>verbo</td>\n",
       "      <td>ale-f1-l4.wav</td>\n",
       "      <td>f1</td>\n",
       "      <td>f</td>\n",
       "      <td>alegria</td>\n",
       "      <td>None</td>\n",
       "    </tr>\n",
       "    <tr>\n",
       "      <th>4</th>\n",
       "      <td>/media/hbrandao/STORAGE_HDD_1TB/PPGI/VERBO/Aud...</td>\n",
       "      <td>verbo</td>\n",
       "      <td>ale-f1-l5.wav</td>\n",
       "      <td>f1</td>\n",
       "      <td>f</td>\n",
       "      <td>alegria</td>\n",
       "      <td>None</td>\n",
       "    </tr>\n",
       "  </tbody>\n",
       "</table>\n",
       "</div>"
      ],
      "text/plain": [
       "                                                path dataset        arquivo  \\\n",
       "0  /media/hbrandao/STORAGE_HDD_1TB/PPGI/VERBO/Aud...   verbo  ale-f1-l1.wav   \n",
       "1  /media/hbrandao/STORAGE_HDD_1TB/PPGI/VERBO/Aud...   verbo  ale-f1-l2.wav   \n",
       "2  /media/hbrandao/STORAGE_HDD_1TB/PPGI/VERBO/Aud...   verbo  ale-f1-l3.wav   \n",
       "3  /media/hbrandao/STORAGE_HDD_1TB/PPGI/VERBO/Aud...   verbo  ale-f1-l4.wav   \n",
       "4  /media/hbrandao/STORAGE_HDD_1TB/PPGI/VERBO/Aud...   verbo  ale-f1-l5.wav   \n",
       "\n",
       "  pessoa genero   emocao intensidade  \n",
       "0     f1      f  alegria        None  \n",
       "1     f1      f  alegria        None  \n",
       "2     f1      f  alegria        None  \n",
       "3     f1      f  alegria        None  \n",
       "4     f1      f  alegria        None  "
      ]
     },
     "execution_count": 35,
     "metadata": {},
     "output_type": "execute_result"
    }
   ],
   "source": [
    "Xfusao.head()"
   ]
  },
  {
   "cell_type": "code",
   "execution_count": 36,
   "id": "60ed7d6a",
   "metadata": {},
   "outputs": [
    {
     "data": {
      "text/html": [
       "<div>\n",
       "<style scoped>\n",
       "    .dataframe tbody tr th:only-of-type {\n",
       "        vertical-align: middle;\n",
       "    }\n",
       "\n",
       "    .dataframe tbody tr th {\n",
       "        vertical-align: top;\n",
       "    }\n",
       "\n",
       "    .dataframe thead th {\n",
       "        text-align: right;\n",
       "    }\n",
       "</style>\n",
       "<table border=\"1\" class=\"dataframe\">\n",
       "  <thead>\n",
       "    <tr style=\"text-align: right;\">\n",
       "      <th></th>\n",
       "      <th>path</th>\n",
       "      <th>dataset</th>\n",
       "      <th>arquivo</th>\n",
       "      <th>pessoa</th>\n",
       "      <th>genero</th>\n",
       "      <th>emocao</th>\n",
       "      <th>intensidade</th>\n",
       "    </tr>\n",
       "  </thead>\n",
       "  <tbody>\n",
       "    <tr>\n",
       "      <th>1359</th>\n",
       "      <td>/media/hbrandao/STORAGE_HDD_1TB/PPGI/VIVAE/VIV...</td>\n",
       "      <td>vivae</td>\n",
       "      <td>S11_surprise_low_03.wav</td>\n",
       "      <td>S11</td>\n",
       "      <td>None</td>\n",
       "      <td>surpresa</td>\n",
       "      <td>fraca</td>\n",
       "    </tr>\n",
       "    <tr>\n",
       "      <th>1360</th>\n",
       "      <td>/media/hbrandao/STORAGE_HDD_1TB/PPGI/VIVAE/VIV...</td>\n",
       "      <td>vivae</td>\n",
       "      <td>S11_surprise_moderate_01.wav</td>\n",
       "      <td>S11</td>\n",
       "      <td>None</td>\n",
       "      <td>surpresa</td>\n",
       "      <td>moderada</td>\n",
       "    </tr>\n",
       "    <tr>\n",
       "      <th>1361</th>\n",
       "      <td>/media/hbrandao/STORAGE_HDD_1TB/PPGI/VIVAE/VIV...</td>\n",
       "      <td>vivae</td>\n",
       "      <td>S11_surprise_peak_04.wav</td>\n",
       "      <td>S11</td>\n",
       "      <td>None</td>\n",
       "      <td>surpresa</td>\n",
       "      <td>pico</td>\n",
       "    </tr>\n",
       "    <tr>\n",
       "      <th>1362</th>\n",
       "      <td>/media/hbrandao/STORAGE_HDD_1TB/PPGI/VIVAE/VIV...</td>\n",
       "      <td>vivae</td>\n",
       "      <td>S11_surprise_strong_011.wav</td>\n",
       "      <td>S11</td>\n",
       "      <td>None</td>\n",
       "      <td>surpresa</td>\n",
       "      <td>forte</td>\n",
       "    </tr>\n",
       "    <tr>\n",
       "      <th>1363</th>\n",
       "      <td>/media/hbrandao/STORAGE_HDD_1TB/PPGI/VIVAE/VIV...</td>\n",
       "      <td>vivae</td>\n",
       "      <td>S11_surprise_strong_012.wav</td>\n",
       "      <td>S11</td>\n",
       "      <td>None</td>\n",
       "      <td>surpresa</td>\n",
       "      <td>forte</td>\n",
       "    </tr>\n",
       "  </tbody>\n",
       "</table>\n",
       "</div>"
      ],
      "text/plain": [
       "                                                   path dataset  \\\n",
       "1359  /media/hbrandao/STORAGE_HDD_1TB/PPGI/VIVAE/VIV...   vivae   \n",
       "1360  /media/hbrandao/STORAGE_HDD_1TB/PPGI/VIVAE/VIV...   vivae   \n",
       "1361  /media/hbrandao/STORAGE_HDD_1TB/PPGI/VIVAE/VIV...   vivae   \n",
       "1362  /media/hbrandao/STORAGE_HDD_1TB/PPGI/VIVAE/VIV...   vivae   \n",
       "1363  /media/hbrandao/STORAGE_HDD_1TB/PPGI/VIVAE/VIV...   vivae   \n",
       "\n",
       "                           arquivo pessoa genero    emocao intensidade  \n",
       "1359       S11_surprise_low_03.wav    S11   None  surpresa       fraca  \n",
       "1360  S11_surprise_moderate_01.wav    S11   None  surpresa    moderada  \n",
       "1361      S11_surprise_peak_04.wav    S11   None  surpresa        pico  \n",
       "1362   S11_surprise_strong_011.wav    S11   None  surpresa       forte  \n",
       "1363   S11_surprise_strong_012.wav    S11   None  surpresa       forte  "
      ]
     },
     "execution_count": 36,
     "metadata": {},
     "output_type": "execute_result"
    }
   ],
   "source": [
    "Xfusao.tail()"
   ]
  },
  {
   "cell_type": "code",
   "execution_count": 37,
   "id": "6111df2c",
   "metadata": {},
   "outputs": [
    {
     "data": {
      "text/plain": [
       "(1364, 7)"
      ]
     },
     "execution_count": 37,
     "metadata": {},
     "output_type": "execute_result"
    }
   ],
   "source": [
    "Xfusao.shape"
   ]
  },
  {
   "cell_type": "code",
   "execution_count": 38,
   "id": "6e060626",
   "metadata": {},
   "outputs": [],
   "source": [
    "import librosa"
   ]
  },
  {
   "cell_type": "code",
   "execution_count": 39,
   "id": "a898a937",
   "metadata": {},
   "outputs": [],
   "source": [
    "Xfusao['duracao'] = [librosa.get_duration(filename=_) for _ in Xfusao['path'].values]"
   ]
  },
  {
   "cell_type": "code",
   "execution_count": 40,
   "id": "6903d8d6",
   "metadata": {},
   "outputs": [
    {
     "data": {
      "text/plain": [
       "(1364, 8)"
      ]
     },
     "execution_count": 40,
     "metadata": {},
     "output_type": "execute_result"
    }
   ],
   "source": [
    "Xfusao.shape"
   ]
  },
  {
   "cell_type": "code",
   "execution_count": 41,
   "id": "2248e885",
   "metadata": {},
   "outputs": [],
   "source": [
    "ARQUIVO_SAIDA = 'DATAFRAMES/Xfusao.csv'"
   ]
  },
  {
   "cell_type": "code",
   "execution_count": 42,
   "id": "25f174a3",
   "metadata": {},
   "outputs": [],
   "source": [
    "Xfusao.to_csv(path_or_buf=ARQUIVO_SAIDA, sep=';', index=False, encoding='utf-8')"
   ]
  },
  {
   "cell_type": "code",
   "execution_count": 43,
   "id": "ed1a8b69",
   "metadata": {},
   "outputs": [
    {
     "name": "stdout",
     "output_type": "stream",
     "text": [
      "Xfusao.csv  Xmfcc.csv\n",
      "1365 DATAFRAMES/Xfusao.csv\n"
     ]
    }
   ],
   "source": [
    "!ls DATAFRAMES/\n",
    "!wc -l $ARQUIVO_SAIDA"
   ]
  },
  {
   "cell_type": "code",
   "execution_count": null,
   "id": "905d9bf2",
   "metadata": {},
   "outputs": [],
   "source": []
  }
 ],
 "metadata": {
  "kernelspec": {
   "display_name": "Python 3 (ipykernel)",
   "language": "python",
   "name": "python3"
  },
  "language_info": {
   "codemirror_mode": {
    "name": "ipython",
    "version": 3
   },
   "file_extension": ".py",
   "mimetype": "text/x-python",
   "name": "python",
   "nbconvert_exporter": "python",
   "pygments_lexer": "ipython3",
   "version": "3.8.10"
  }
 },
 "nbformat": 4,
 "nbformat_minor": 5
}
