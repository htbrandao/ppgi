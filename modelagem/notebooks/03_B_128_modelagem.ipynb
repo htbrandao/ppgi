{
 "cells": [
  {
   "cell_type": "markdown",
   "id": "874e224d",
   "metadata": {},
   "source": [
    "# # Modelagem 2-dim | 128 mfccs"
   ]
  },
  {
   "cell_type": "code",
   "execution_count": null,
   "id": "eb635dd0",
   "metadata": {},
   "outputs": [],
   "source": [
    "import keras as K\n",
    "import numpy as np\n",
    "import pandas as pd\n",
    "import seaborn as sns\n",
    "import tensorflow as tf\n",
    "import matplotlib.pyplot as plt\n",
    "\n",
    "from keras import layers\n",
    "from sklearn.model_selection import train_test_split\n",
    "\n",
    "%matplotlib inline"
   ]
  },
  {
   "cell_type": "code",
   "execution_count": 1,
   "id": "eaf102eb",
   "metadata": {},
   "outputs": [],
   "source": [
    "DIR_DATAFRAMES = '/media/hbrandao/STORAGE_HDD_1TB/PPGI/BRAVO-DATAFRAMES/DATAFRAMES'\n",
    "DIR_MFCC = '/media/hbrandao/STORAGE_HDD_1TB/PPGI/BRAVO-DATAFRAMES/MFCC'"
   ]
  },
  {
   "cell_type": "code",
   "execution_count": 4,
   "id": "82d5846e",
   "metadata": {},
   "outputs": [
    {
     "name": "stdout",
     "output_type": "stream",
     "text": [
      "total 4,1G\r\n",
      "drwxrwxrwx 1 hbrandao hbrandao 4,0K mar 21 23:15 .\r\n",
      "drwxrwxrwx 1 hbrandao hbrandao  248 mar 21 23:49 ..\r\n",
      "-rwxrwxrwx 1 hbrandao hbrandao 181K mar 21 23:27 Xfusao.csv\r\n",
      "-rwxrwxrwx 1 hbrandao hbrandao 1,3G mar 21 23:28 Xsinal_0padded.npy\r\n",
      "-rwxrwxrwx 1 hbrandao hbrandao 372M mar 21 23:28 Xsinal.npy\r\n",
      "-rwxrwxrwx 1 hbrandao hbrandao 1,3G mar 21 23:28 Xsinal_stretch_0padded.npy\r\n",
      "-rwxrwxrwx 1 hbrandao hbrandao 1,3G mar 21 23:28 Xsinal_tile_0padded.npy\r\n"
     ]
    }
   ],
   "source": [
    "!ls -lah $DIR_DATAFRAMES"
   ]
  },
  {
   "cell_type": "code",
   "execution_count": 3,
   "id": "085d2da4",
   "metadata": {},
   "outputs": [
    {
     "name": "stdout",
     "output_type": "stream",
     "text": [
      "/media/hbrandao/STORAGE_HDD_1TB/PPGI/BRAVO-DATAFRAMES/MFCC:\r\n",
      "total 0\r\n",
      "drwxrwxrwx 1 hbrandao hbrandao 320 mar 22 01:49 .\r\n",
      "drwxrwxrwx 1 hbrandao hbrandao 248 mar 21 23:49 ..\r\n",
      "drwxrwxrwx 1 hbrandao hbrandao 440 mar 22 01:55 128\r\n",
      "drwxrwxrwx 1 hbrandao hbrandao 440 mar 22 01:54 64\r\n",
      "drwxrwxrwx 1 hbrandao hbrandao 304 mar 22 01:53 mean\r\n",
      "\r\n",
      "/media/hbrandao/STORAGE_HDD_1TB/PPGI/BRAVO-DATAFRAMES/MFCC/128:\r\n",
      "total 944M\r\n",
      "drwxrwxrwx 1 hbrandao hbrandao  440 mar 22 01:55 .\r\n",
      "drwxrwxrwx 1 hbrandao hbrandao  320 mar 22 01:49 ..\r\n",
      "-rwxrwxrwx 1 hbrandao hbrandao 315M mar 22 02:10 Xsinal_pad_128mfcc.npy\r\n",
      "-rwxrwxrwx 1 hbrandao hbrandao 315M mar 22 02:10 Xsinal_stretch_128mfcc.npy\r\n",
      "-rwxrwxrwx 1 hbrandao hbrandao 315M mar 22 02:11 Xsinal_tile_128mfcc.npy\r\n",
      "\r\n",
      "/media/hbrandao/STORAGE_HDD_1TB/PPGI/BRAVO-DATAFRAMES/MFCC/64:\r\n",
      "total 472M\r\n",
      "drwxrwxrwx 1 hbrandao hbrandao  440 mar 22 01:54 .\r\n",
      "drwxrwxrwx 1 hbrandao hbrandao  320 mar 22 01:49 ..\r\n",
      "-rwxrwxrwx 1 hbrandao hbrandao 158M mar 22 02:05 Xsinal_pad_64mfcc.npy\r\n",
      "-rwxrwxrwx 1 hbrandao hbrandao 158M mar 22 02:05 Xsinal_stretch_64mfcc.npy\r\n",
      "-rwxrwxrwx 1 hbrandao hbrandao 158M mar 22 02:06 Xsinal_tile_64mfcc.npy\r\n",
      "\r\n",
      "/media/hbrandao/STORAGE_HDD_1TB/PPGI/BRAVO-DATAFRAMES/MFCC/mean:\r\n",
      "total 1,1M\r\n",
      "drwxrwxrwx 1 hbrandao hbrandao  304 mar 22 01:53 .\r\n",
      "drwxrwxrwx 1 hbrandao hbrandao  320 mar 22 01:49 ..\r\n",
      "-rwxrwxrwx 1 hbrandao hbrandao 683K mar 22 01:58 Xsinal_128mfcc_mean.npy\r\n",
      "-rwxrwxrwx 1 hbrandao hbrandao 342K mar 22 01:58 Xsinal_64mfcc_mean.npy\r\n"
     ]
    }
   ],
   "source": [
    "!ls -lahR $DIR_MFCC"
   ]
  },
  {
   "cell_type": "code",
   "execution_count": null,
   "id": "97bc970d",
   "metadata": {},
   "outputs": [],
   "source": []
  },
  {
   "cell_type": "code",
   "execution_count": null,
   "id": "59104e97",
   "metadata": {},
   "outputs": [],
   "source": []
  },
  {
   "cell_type": "code",
   "execution_count": null,
   "id": "81602dcf",
   "metadata": {},
   "outputs": [],
   "source": []
  },
  {
   "cell_type": "code",
   "execution_count": null,
   "id": "c321199a",
   "metadata": {},
   "outputs": [],
   "source": []
  },
  {
   "cell_type": "code",
   "execution_count": null,
   "id": "5b11e580",
   "metadata": {},
   "outputs": [],
   "source": []
  },
  {
   "cell_type": "code",
   "execution_count": null,
   "id": "389a7557",
   "metadata": {},
   "outputs": [],
   "source": []
  },
  {
   "cell_type": "code",
   "execution_count": null,
   "id": "4f5c72a3",
   "metadata": {},
   "outputs": [],
   "source": []
  },
  {
   "cell_type": "code",
   "execution_count": null,
   "id": "d9b522cc",
   "metadata": {},
   "outputs": [],
   "source": []
  },
  {
   "cell_type": "code",
   "execution_count": null,
   "id": "016726bf",
   "metadata": {},
   "outputs": [],
   "source": []
  },
  {
   "cell_type": "code",
   "execution_count": null,
   "id": "d103ec5e",
   "metadata": {},
   "outputs": [],
   "source": []
  },
  {
   "cell_type": "code",
   "execution_count": null,
   "id": "2817d4a2",
   "metadata": {},
   "outputs": [],
   "source": []
  },
  {
   "cell_type": "code",
   "execution_count": null,
   "id": "105d58d1",
   "metadata": {},
   "outputs": [],
   "source": []
  }
 ],
 "metadata": {
  "kernelspec": {
   "display_name": "Python 3 (ipykernel)",
   "language": "python",
   "name": "python3"
  },
  "language_info": {
   "codemirror_mode": {
    "name": "ipython",
    "version": 3
   },
   "file_extension": ".py",
   "mimetype": "text/x-python",
   "name": "python",
   "nbconvert_exporter": "python",
   "pygments_lexer": "ipython3",
   "version": "3.8.10"
  }
 },
 "nbformat": 4,
 "nbformat_minor": 5
}
