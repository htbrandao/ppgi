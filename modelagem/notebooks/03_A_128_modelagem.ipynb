{
 "cells": [
  {
   "cell_type": "markdown",
   "id": "874e224d",
   "metadata": {},
   "source": [
    "# # Modelagem 1-dim | 128 mfccs"
   ]
  },
  {
   "cell_type": "code",
   "execution_count": null,
   "id": "eb635dd0",
   "metadata": {},
   "outputs": [],
   "source": [
    "import keras as K\n",
    "import numpy as np\n",
    "import pandas as pd\n",
    "import seaborn as sns\n",
    "import tensorflow as tf\n",
    "import matplotlib.pyplot as plt\n",
    "\n",
    "from random import choice\n",
    "\n",
    "from keras import layers\n",
    "from keras.callbacks import EarlyStopping, ModelCheckpoint\n",
    "\n",
    "from sklearn.preprocessing import MinMaxScaler\n",
    "from sklearn.model_selection import train_test_split\n",
    "from sklearn.metrics import ConfusionMatrixDisplay, confusion_matrix, classification_report\n",
    "\n",
    "%matplotlib inline"
   ]
  },
  {
   "cell_type": "code",
   "execution_count": null,
   "id": "eaf102eb",
   "metadata": {},
   "outputs": [],
   "source": [
    "DIR_DATAFRAMES = '/media/hbrandao/STORAGE_HDD_1TB/PPGI/BRAVO-DATAFRAMES/DATAFRAMES'\n",
    "DIR_MFCC = '/media/hbrandao/STORAGE_HDD_1TB/PPGI/BRAVO-DATAFRAMES/MFCC'"
   ]
  },
  {
   "cell_type": "code",
   "execution_count": null,
   "id": "82d5846e",
   "metadata": {},
   "outputs": [],
   "source": [
    "!ls -lah $DIR_DATAFRAMES"
   ]
  },
  {
   "cell_type": "code",
   "execution_count": null,
   "id": "085d2da4",
   "metadata": {},
   "outputs": [],
   "source": [
    "!ls -lahR $DIR_MFCC"
   ]
  },
  {
   "cell_type": "code",
   "execution_count": null,
   "id": "97bc970d",
   "metadata": {},
   "outputs": [],
   "source": [
    "SEED = 42\n",
    "np.random.seed(SEED)\n",
    "tf.random.set_seed(SEED)"
   ]
  },
  {
   "cell_type": "code",
   "execution_count": null,
   "id": "3d76f7c2",
   "metadata": {},
   "outputs": [],
   "source": [
    "DIR_DATAFRAMES = '/media/hbrandao/STORAGE_HDD_1TB/PPGI/BRAVO-DATAFRAMES/DATAFRAMES'\n",
    "DIR_MFCC = '/media/hbrandao/STORAGE_HDD_1TB/PPGI/BRAVO-DATAFRAMES/MFCC'"
   ]
  },
  {
   "cell_type": "code",
   "execution_count": null,
   "id": "28de46ff",
   "metadata": {},
   "outputs": [],
   "source": [
    "!ls -lahR $DIR_MFCC"
   ]
  },
  {
   "cell_type": "code",
   "execution_count": null,
   "id": "0939e5fa",
   "metadata": {},
   "outputs": [],
   "source": [
    "PHYS_DEVICE_NAME = tf.config.list_physical_devices('GPU')[0].name[-5:]\n",
    "if PHYS_DEVICE_NAME:\n",
    "    print(PHYS_DEVICE_NAME)\n",
    "else:\n",
    "    raise Exception('GPU não encontrada')"
   ]
  },
  {
   "cell_type": "markdown",
   "id": "82a4085f",
   "metadata": {},
   "source": [
    "## Dados\n",
    "___"
   ]
  },
  {
   "cell_type": "code",
   "execution_count": null,
   "id": "4e159350",
   "metadata": {},
   "outputs": [],
   "source": [
    "X128 = np.load(f'{DIR_MFCC}/mean/Xsinal_128mfcc_mean.npy')\n",
    "\n",
    "x128train, x128test, *_ = train_test_split(X128)\n",
    "x128train.shape, x128test.shape"
   ]
  },
  {
   "cell_type": "markdown",
   "id": "4774454a",
   "metadata": {},
   "source": [
    "## Autoencoder\n",
    "___"
   ]
  },
  {
   "cell_type": "code",
   "execution_count": null,
   "id": "7ef3dcef",
   "metadata": {},
   "outputs": [],
   "source": [
    "dim = X128.shape[-1]"
   ]
  },
  {
   "cell_type": "code",
   "execution_count": null,
   "id": "bad30cb4",
   "metadata": {},
   "outputs": [],
   "source": [
    "def autoencoder128():\n",
    "    inp_enc = K.Input(batch_shape=(1,dim))\n",
    "    enc = layers.Dense(units=int(dim/2), activation='relu')(inp_enc)\n",
    "    encoder = K.Model(inp_enc, enc)\n",
    "\n",
    "    inp_dec = K.Input(batch_shape=(1,int(dim/2)))\n",
    "    dec = layers.Dense(units=dim, activation='linear')(inp_dec)\n",
    "    decoder = K.Model(inp_dec, dec)\n",
    "\n",
    "    inp_ae = K.Input(batch_shape=(1,dim))\n",
    "    enc_ae = encoder(inp_ae)\n",
    "    dec_ae = decoder(enc_ae)\n",
    "\n",
    "    ae = K.Model(inp_ae, dec_ae, name='autoencoder')\n",
    "    ae.compile(optimizer='adam', loss='mse', metrics=['mae'])\n",
    "\n",
    "    return ae, encoder, decoder"
   ]
  },
  {
   "cell_type": "markdown",
   "id": "380a5f16",
   "metadata": {},
   "source": [
    "### x128 train"
   ]
  },
  {
   "cell_type": "code",
   "execution_count": null,
   "id": "6a17cb0f",
   "metadata": {},
   "outputs": [],
   "source": [
    "epochs = 1000\n",
    "\n",
    "es = EarlyStopping(monitor='loss', mode='min', min_delta=0.01, patience=20, verbose=1)\n",
    "\n",
    "# mc = ModelCheckpoint('autoencoder_mean_128mfcc.hdf5',\n",
    "#                      monitor='loss', verbose=1, save_best_only=True, mode='min')\n",
    "\n",
    "with tf.device(PHYS_DEVICE_NAME):\n",
    "    K.backend.clear_session()\n",
    "    modelo128, encoder128, decoder128 = autoencoder128()\n",
    "    history = modelo128.fit(x=x128train,\n",
    "                           y=x128train,\n",
    "                           epochs=epochs,\n",
    "                           batch_size=10,\n",
    "                           shuffle=True,\n",
    "                           validation_data=(x128test, x128test),\n",
    "                           callbacks=[es]#, mc]\n",
    "                          )"
   ]
  },
  {
   "cell_type": "code",
   "execution_count": null,
   "id": "9af9e8ff",
   "metadata": {},
   "outputs": [],
   "source": [
    "plt.figure(figsize=(14, 12))\n",
    "\n",
    "row, col = 2, 2\n",
    "\n",
    "for i,r in enumerate((0, 50, 100, 150)):\n",
    "    plt.subplot(row,col,i+1)\n",
    "    plt.plot(history.history['loss'][r:])\n",
    "    plt.plot(history.history['val_loss'][r:])\n",
    "    plt.title(f'Loss[{r}:]')\n",
    "    plt.legend(['train loss', 'val loss'], loc='upper right')\n",
    "    plt.xlabel('epoch')\n",
    "    plt.ylabel('loss')\n",
    "    plt.grid()\n",
    "\n",
    "plt.tight_layout()\n",
    "plt.show()"
   ]
  },
  {
   "cell_type": "code",
   "execution_count": null,
   "id": "78090416",
   "metadata": {},
   "outputs": [],
   "source": [
    "plt.figure(figsize=(12,8))\n",
    "\n",
    "row, col, idx = 2, 2, 1\n",
    "\n",
    "for i in range(row*col):\n",
    "    reg = choice(x128train).reshape(1,dim)\n",
    "    pred = modelo128.predict(reg)\n",
    "    diff = reg - pred\n",
    "\n",
    "    plt.subplot(row, col, idx)\n",
    "    plt.plot(reg.flatten(), label='amostra')\n",
    "    plt.plot(pred.flatten(), label='predict', linestyle='--')\n",
    "    plt.plot(diff.flatten(), label='amostra - pred')\n",
    "    plt.legend()\n",
    "    plt.grid()\n",
    "    idx += 1\n",
    "\n",
    "plt.tight_layout()\n",
    "plt.show()"
   ]
  },
  {
   "cell_type": "code",
   "execution_count": null,
   "id": "d38966ed",
   "metadata": {},
   "outputs": [],
   "source": [
    "pred_x128 = modelo128.predict(x128test)\n",
    "loss_x128 = K.losses.mse(pred_x128, x128test)\n",
    "\n",
    "np.mean(loss_x128)"
   ]
  },
  {
   "cell_type": "code",
   "execution_count": null,
   "id": "9d231b1b",
   "metadata": {},
   "outputs": [],
   "source": [
    "#\n",
    "#\n",
    "modelo128 = K.models.load_model('autoencoder_mean_128mfcc.hdf5')\n",
    "#\n",
    "#"
   ]
  },
  {
   "cell_type": "markdown",
   "id": "ae758699",
   "metadata": {},
   "source": [
    "## Classificador"
   ]
  },
  {
   "cell_type": "code",
   "execution_count": null,
   "id": "85c79118",
   "metadata": {},
   "outputs": [],
   "source": [
    "X128.shape"
   ]
  },
  {
   "cell_type": "code",
   "execution_count": null,
   "id": "2e51f753",
   "metadata": {},
   "outputs": [],
   "source": [
    "Xfusao = pd.read_csv(f'{DIR_DATAFRAMES}/Xfusao.csv', delimiter=';')\n",
    "Xfusao.shape"
   ]
  },
  {
   "cell_type": "code",
   "execution_count": null,
   "id": "d793c596",
   "metadata": {},
   "outputs": [],
   "source": [
    "DE_PARA_EMOCAO = {\n",
    "    'alegria': np.array([1,0,0,0]),\n",
    "    'medo': np.array([0,1,0,0]),\n",
    "    'raiva': np.array([0,0,1,0]),\n",
    "    'surpresa': np.array([0,0,0,1]),\n",
    "}\n",
    "\n",
    "DE_PARA_INTENSIDADE = {\n",
    "    'fraca': np.array([1,0,0,0]),\n",
    "    'moderada': np.array([0,1,0,0]),\n",
    "    'forte': np.array([0,0,1,0]),\n",
    "    'pico': np.array([0,0,0,1]),\n",
    "}\n",
    "\n",
    "def encoding_emocao(emocao: str):\n",
    "    return DE_PARA_EMOCAO.get(emocao)\n",
    "\n",
    "def encoding_intensidade(intensidade: str):\n",
    "    return DE_PARA_INTENSIDADE.get(intensidade)"
   ]
  },
  {
   "cell_type": "code",
   "execution_count": null,
   "id": "1b05b113",
   "metadata": {},
   "outputs": [],
   "source": [
    "Xfusao['emo'] = Xfusao['emocao'].apply(encoding_emocao)\n",
    "Xfusao['int'] = Xfusao['intensidade'].apply(encoding_intensidade)"
   ]
  },
  {
   "cell_type": "code",
   "execution_count": null,
   "id": "59104e97",
   "metadata": {},
   "outputs": [],
   "source": [
    "Xfusao.drop(labels=['path', 'pessoa', 'genero', 'duracao', 'emocao', 'intensidade'],\n",
    "            axis=1, inplace=True)"
   ]
  },
  {
   "cell_type": "code",
   "execution_count": null,
   "id": "81602dcf",
   "metadata": {},
   "outputs": [],
   "source": [
    "Xfusao = pd.concat(objs=[Xfusao, pd.DataFrame(X128)], axis=1)\n",
    "Xfusao.tail()"
   ]
  },
  {
   "cell_type": "code",
   "execution_count": null,
   "id": "c321199a",
   "metadata": {},
   "outputs": [],
   "source": [
    "Xfusao_verbo = Xfusao[Xfusao['dataset'] == 'verbo']\n",
    "Xfusao_verbo.shape"
   ]
  },
  {
   "cell_type": "code",
   "execution_count": null,
   "id": "c415eeb7",
   "metadata": {},
   "outputs": [],
   "source": [
    "Xfusao_vivae = Xfusao[Xfusao['dataset'] == 'vivae']\n",
    "Xfusao_vivae.shape"
   ]
  },
  {
   "cell_type": "code",
   "execution_count": null,
   "id": "42d22dcb",
   "metadata": {},
   "outputs": [],
   "source": [
    "def realizar_encoding(x, dim=dim):\n",
    "    return encoder128(x.reshape(1,dim).astype('float32'))"
   ]
  },
  {
   "cell_type": "code",
   "execution_count": null,
   "id": "9ba93e14",
   "metadata": {},
   "outputs": [],
   "source": [
    "x128_vivae_enc = np.array([realizar_encoding(x) for x in Xfusao_vivae.values[:,4:]])\n",
    "x128_vivae_enc.shape"
   ]
  },
  {
   "cell_type": "code",
   "execution_count": null,
   "id": "b2e5f682",
   "metadata": {},
   "outputs": [],
   "source": [
    "y128_vivae = np.array([x.reshape(1,4) for x in Xfusao_vivae['int'].values])\n",
    "y128_vivae.shape"
   ]
  },
  {
   "cell_type": "code",
   "execution_count": null,
   "id": "d4dd10e8",
   "metadata": {},
   "outputs": [],
   "source": [
    "xtrain, xtest, ytrain, ytest = train_test_split(x128_vivae_enc, y128_vivae)\n",
    "\n",
    "xtrain.shape, ytrain.shape, xtest.shape, ytest.shape"
   ]
  },
  {
   "cell_type": "markdown",
   "id": "56021231",
   "metadata": {},
   "source": [
    "### Modelo"
   ]
  },
  {
   "cell_type": "code",
   "execution_count": null,
   "id": "afc3d624",
   "metadata": {},
   "outputs": [],
   "source": [
    "def modelo_clf_intensidade():\n",
    "    K.backend.clear_session()\n",
    "    modelo = K.Sequential()\n",
    "    modelo.add(layers.Dense(units=32, activation='relu', input_shape=(1,64)))\n",
    "    modelo.add(layers.Dense(units=16, activation='relu'))\n",
    "    modelo.add(layers.Dense(units=8, activation='relu'))\n",
    "    modelo.add(layers.Dense(units=4, activation='softmax'))\n",
    "\n",
    "    modelo.compile(optimizer='adam', loss='categorical_crossentropy', metrics=['accuracy'])\n",
    "\n",
    "    print(modelo.summary())\n",
    "    return modelo\n",
    "\n",
    "modelo_clf_intensidade()"
   ]
  },
  {
   "cell_type": "code",
   "execution_count": null,
   "id": "e7812dce",
   "metadata": {
    "scrolled": true
   },
   "outputs": [],
   "source": [
    "epochs = 1000\n",
    "\n",
    "es = EarlyStopping(monitor='val_accuracy', mode='max', min_delta=0.001, patience=20, verbose=1)\n",
    "\n",
    "# mc = ModelCheckpoint('classificador_intensidade_128mfcc_encoded.hdf5',\n",
    "#                      monitor='val_accuracy', verbose=1, save_best_only=True, mode='max')\n",
    "\n",
    "\n",
    "with tf.device(PHYS_DEVICE_NAME):\n",
    "    K.backend.clear_session()\n",
    "    clf_intensidade = modelo_clf_intensidade()\n",
    "    history = clf_intensidade.fit(x=xtrain,\n",
    "                                  y=ytrain,\n",
    "                                  epochs=epochs,\n",
    "                                  batch_size=2,\n",
    "                                  shuffle=True,\n",
    "                                  validation_data=(xtest, ytest),\n",
    "                                  callbacks=[es]#, mc]\n",
    "                                 )"
   ]
  },
  {
   "cell_type": "code",
   "execution_count": null,
   "id": "340585d8",
   "metadata": {},
   "outputs": [],
   "source": [
    "plt.figure(figsize=(10, 6))\n",
    "\n",
    "plt.plot(history.history['loss'])\n",
    "plt.plot(history.history['val_loss'])\n",
    "plt.legend(['train loss', 'val loss'], loc='upper right')\n",
    "plt.title('Classificador de Intensidade')\n",
    "plt.xlabel('epoch')\n",
    "plt.ylabel('loss')\n",
    "plt.grid()\n",
    "\n",
    "plt.tight_layout()\n",
    "plt.show()"
   ]
  },
  {
   "cell_type": "code",
   "execution_count": null,
   "id": "41cbfc36",
   "metadata": {},
   "outputs": [],
   "source": [
    "_ = classification_report(\n",
    "    y_true=[np.argmax(x) for x in ytest],\n",
    "    y_pred=[np.argmax(x) for x in clf_intensidade.predict(xtest)],\n",
    "    target_names=DE_PARA_INTENSIDADE.keys()\n",
    ")\n",
    "\n",
    "print(_)"
   ]
  },
  {
   "cell_type": "code",
   "execution_count": null,
   "id": "eab0d914",
   "metadata": {},
   "outputs": [],
   "source": [
    "#\n",
    "#\n",
    "clf_intensidade = K.models.load_model('classificador_intensidade_128mfcc_encoded.hdf5')\n",
    "#\n",
    "#"
   ]
  },
  {
   "cell_type": "code",
   "execution_count": null,
   "id": "047ff04d",
   "metadata": {},
   "outputs": [],
   "source": [
    "_ = classification_report(\n",
    "    y_true=[np.argmax(x) for x in ytest],\n",
    "    y_pred=[np.argmax(x) for x in clf_intensidade.predict(xtest)],\n",
    "    target_names=DE_PARA_INTENSIDADE.keys(),\n",
    "    zero_division=0\n",
    ")\n",
    "\n",
    "print(_)"
   ]
  },
  {
   "cell_type": "markdown",
   "id": "38173914",
   "metadata": {},
   "source": [
    "#### VERBO"
   ]
  },
  {
   "cell_type": "code",
   "execution_count": null,
   "id": "432894b5",
   "metadata": {},
   "outputs": [],
   "source": [
    "xtest_verbo = np.array([realizar_encoding(x) for x in Xfusao_verbo.values[:,4:]])\n",
    "pred_verbo = [np.argmax(x) for x in clf_intensidade.predict(xtest_verbo)]"
   ]
  },
  {
   "cell_type": "code",
   "execution_count": null,
   "id": "09f9fdae",
   "metadata": {},
   "outputs": [],
   "source": [
    "np.array(pred_verbo)\n",
    "xtest_verbo = np.array([realizar_encoding(x) for x in Xfusao_verbo.values[:,4:]])\n",
    "pred_verbo = [np.argmax(x) for x in clf_intensidade.predict(xtest_verbo)]\n",
    "In [42]:\n"
   ]
  },
  {
   "cell_type": "markdown",
   "id": "5d8dd503",
   "metadata": {},
   "source": [
    "## Decomposição"
   ]
  },
  {
   "cell_type": "code",
   "execution_count": null,
   "id": "5764198f",
   "metadata": {},
   "outputs": [],
   "source": [
    "LABEL_INTENSIDADE = {\n",
    "    0: 'fraca',\n",
    "    1: 'moderada',\n",
    "    2: 'forte',\n",
    "    3: 'pico'\n",
    "}"
   ]
  },
  {
   "cell_type": "code",
   "execution_count": null,
   "id": "c39ffd79",
   "metadata": {},
   "outputs": [],
   "source": [
    "pred_verbo_label = [LABEL_INTENSIDADE.get(_) for _ in pred_verbo]"
   ]
  },
  {
   "cell_type": "code",
   "execution_count": null,
   "id": "cf5b14d1",
   "metadata": {},
   "outputs": [],
   "source": [
    "pred_vivae_label = [\n",
    "        LABEL_INTENSIDADE.get(np.argmax(x)) for x in clf_intensidade.predict(x128_vivae_enc)\n",
    "]"
   ]
  },
  {
   "cell_type": "code",
   "execution_count": null,
   "id": "71258b09",
   "metadata": {},
   "outputs": [],
   "source": [
    "x128_vivae_enc.shape, xtest_verbo.shape"
   ]
  },
  {
   "cell_type": "code",
   "execution_count": null,
   "id": "6cc67889",
   "metadata": {},
   "outputs": [],
   "source": [
    "from sklearn.cluster import KMeans\n",
    "from sklearn.decomposition import PCA\n",
    "from sklearn.neighbors import KNeighborsClassifier"
   ]
  },
  {
   "cell_type": "markdown",
   "id": "86f50515",
   "metadata": {},
   "source": [
    "### PCA"
   ]
  },
  {
   "cell_type": "markdown",
   "id": "8dbc6045",
   "metadata": {},
   "source": [
    "@VIVAE MFCCs"
   ]
  },
  {
   "cell_type": "code",
   "execution_count": null,
   "id": "b5bceaf4",
   "metadata": {},
   "outputs": [],
   "source": [
    "pca = PCA(n_components=2)\n",
    "Xpca = pca.fit_transform(Xfusao_vivae.values[:,4:])\n",
    "Xpca.shape"
   ]
  },
  {
   "cell_type": "code",
   "execution_count": null,
   "id": "fa492b1e",
   "metadata": {},
   "outputs": [],
   "source": [
    "df_pca = pd.DataFrame(data=Xpca, columns=('c1', 'c2'))\n",
    "df_pca['label'] = [LABEL_INTENSIDADE.get(np.argmax(x)) for x in y128_vivae]\n",
    "df_pca.head()"
   ]
  },
  {
   "cell_type": "code",
   "execution_count": null,
   "id": "9b643b9f",
   "metadata": {},
   "outputs": [],
   "source": [
    "plt.figure(figsize=(16, 10))\n",
    "\n",
    "sns.scatterplot(data=df_pca, x='c1', y='c2', hue='label')\n",
    "plt.suptitle('PCA aplicado na média dos 64 MFCCs de VIVAE', fontsize=24)\n",
    "plt.title(f'{df_pca.shape[0]} registros', fontsize=18)\n",
    "plt.xlabel('componente 1')\n",
    "plt.ylabel('componente 2')\n",
    "\n",
    "plt.show()"
   ]
  },
  {
   "cell_type": "markdown",
   "id": "47304493",
   "metadata": {},
   "source": [
    "@VIVAE AE"
   ]
  },
  {
   "cell_type": "code",
   "execution_count": null,
   "id": "90a6d4c3",
   "metadata": {},
   "outputs": [],
   "source": [
    "pca = PCA(n_components=2)\n",
    "Xpca = pca.fit_transform([*x128_vivae_enc.reshape(698,64)])\n",
    "Xpca.shape"
   ]
  },
  {
   "cell_type": "code",
   "execution_count": null,
   "id": "28cabc15",
   "metadata": {},
   "outputs": [],
   "source": [
    "df_pca = pd.DataFrame(data=Xpca, columns=('c1', 'c2'))\n",
    "df_pca['label'] = [LABEL_INTENSIDADE.get(np.argmax(x)) for x in y128_vivae]\n",
    "df_pca.head()"
   ]
  },
  {
   "cell_type": "code",
   "execution_count": null,
   "id": "960e5abf",
   "metadata": {},
   "outputs": [],
   "source": [
    "plt.figure(figsize=(16, 10))\n",
    "\n",
    "sns.scatterplot(data=df_pca, x='c1', y='c2', hue='label')\n",
    "plt.suptitle('PCA aplicado ao resultado do AE em VIVAE', fontsize=24)\n",
    "plt.title(f'{df_pca.shape[0]} registros', fontsize=18)\n",
    "plt.xlabel('componente 1 - dado encoded')\n",
    "plt.ylabel('componente 2 - dado encoded')\n",
    "\n",
    "plt.show()"
   ]
  },
  {
   "cell_type": "markdown",
   "id": "cf90830f",
   "metadata": {},
   "source": [
    "@AE VERBO e VIVAE"
   ]
  },
  {
   "cell_type": "code",
   "execution_count": null,
   "id": "787f2138",
   "metadata": {},
   "outputs": [],
   "source": [
    "pca = PCA(n_components=2)\n",
    "Xpca = pca.fit_transform([*x128_vivae_enc.reshape(698,64), *xtest_verbo.reshape(666,64)])\n",
    "Xpca.shape"
   ]
  },
  {
   "cell_type": "code",
   "execution_count": null,
   "id": "1f5295a7",
   "metadata": {},
   "outputs": [],
   "source": [
    "df_pca = pd.DataFrame(data=Xpca, columns=('c1', 'c2'))\n",
    "df_pca['label'] = [*pred_vivae_label, *[_ + ' (verbo)' for _ in pred_verbo_label]]\n",
    "df_pca.head()"
   ]
  },
  {
   "cell_type": "code",
   "execution_count": null,
   "id": "1a61084c",
   "metadata": {},
   "outputs": [],
   "source": [
    "plt.figure(figsize=(16, 10))\n",
    "\n",
    "sns.scatterplot(data=df_pca, x='c1', y='c2', hue='label')\n",
    "plt.suptitle('PCA aplicado ao resultado do AE em VERBO e VIVAE', fontsize=24)\n",
    "plt.title(f'{df_pca.shape[0]} registros', fontsize=18)\n",
    "plt.xlabel('componente 1 - dado encoded')\n",
    "plt.ylabel('componente 2 - dado encoded')\n",
    "\n",
    "plt.show()"
   ]
  },
  {
   "cell_type": "markdown",
   "id": "a7074341",
   "metadata": {},
   "source": [
    "@AE VERBO e VIVAE - 2 Classes"
   ]
  },
  {
   "cell_type": "code",
   "execution_count": null,
   "id": "2817d4a2",
   "metadata": {},
   "outputs": [],
   "source": [
    "DE_PARA_LABEL_2_CLASSES = {\n",
    "    'fraca': 'baixa',\n",
    "    'moderada': 'baixa',\n",
    "    'forte': 'alta',\n",
    "    'pico': 'alta',\n",
    "\n",
    "    'fraca (verbo)': 'baixa (verbo)',\n",
    "    'moderada (verbo)': 'baixa (verbo)',\n",
    "    'forte (verbo)': 'alta (verbo)',\n",
    "    'pico (verbo)': 'alta (verbo)',\n",
    "}\n",
    "\n",
    "\n",
    "df_pca['label 2'] = df_pca['label'].apply(lambda x: DE_PARA_LABEL_2_CLASSES.get(x))"
   ]
  },
  {
   "cell_type": "code",
   "execution_count": null,
   "id": "5bbe3903",
   "metadata": {},
   "outputs": [],
   "source": [
    "plt.figure(figsize=(16, 10))\n",
    "\n",
    "sns.scatterplot(data=df_pca, x='c1', y='c2', hue='label 2')\n",
    "plt.suptitle('PCA aplicado ao resultado do AE em VERBO e VIVAE - 2 classes', fontsize=24)\n",
    "plt.title(f'{df_pca.shape[0]} registros', fontsize=18)\n",
    "plt.xlabel('componente 1 - dado encoded')\n",
    "plt.ylabel('componente 2 - dado encoded')\n",
    "\n",
    "plt.show()"
   ]
  },
  {
   "cell_type": "code",
   "execution_count": null,
   "id": "105d58d1",
   "metadata": {},
   "outputs": [],
   "source": []
  }
 ],
 "metadata": {
  "kernelspec": {
   "display_name": "Python 3 (ipykernel)",
   "language": "python",
   "name": "python3"
  },
  "language_info": {
   "codemirror_mode": {
    "name": "ipython",
    "version": 3
   },
   "file_extension": ".py",
   "mimetype": "text/x-python",
   "name": "python",
   "nbconvert_exporter": "python",
   "pygments_lexer": "ipython3",
   "version": "3.8.10"
  }
 },
 "nbformat": 4,
 "nbformat_minor": 5
}
