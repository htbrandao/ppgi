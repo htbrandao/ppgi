{
 "cells": [
  {
   "cell_type": "code",
   "execution_count": 1,
   "id": "1ad3d215",
   "metadata": {},
   "outputs": [],
   "source": [
    "import keras as K\n",
    "import numpy as np\n",
    "import pandas as pd\n",
    "import seaborn as sns\n",
    "import tensorflow as tf\n",
    "import matplotlib.pyplot as plt\n",
    "\n",
    "from keras import layers\n",
    "from sklearn.model_selection import train_test_split\n",
    "\n",
    "%matplotlib inline"
   ]
  },
  {
   "cell_type": "code",
   "execution_count": 2,
   "id": "e11e6a54",
   "metadata": {},
   "outputs": [
    {
     "data": {
      "text/plain": [
       "[PhysicalDevice(name='/physical_device:CPU:0', device_type='CPU')]"
      ]
     },
     "execution_count": 2,
     "metadata": {},
     "output_type": "execute_result"
    }
   ],
   "source": [
    "tf.config.list_physical_devices()"
   ]
  },
  {
   "cell_type": "code",
   "execution_count": 3,
   "id": "d054ddbb",
   "metadata": {},
   "outputs": [
    {
     "data": {
      "text/plain": [
       "(1364, 120)"
      ]
     },
     "execution_count": 3,
     "metadata": {},
     "output_type": "execute_result"
    }
   ],
   "source": [
    "X = pd.read_csv('Xmfcc_mean.csv', sep=';')\n",
    "X.shape"
   ]
  },
  {
   "cell_type": "code",
   "execution_count": 4,
   "id": "4e6ae04b",
   "metadata": {},
   "outputs": [
    {
     "data": {
      "text/html": [
       "<div>\n",
       "<style scoped>\n",
       "    .dataframe tbody tr th:only-of-type {\n",
       "        vertical-align: middle;\n",
       "    }\n",
       "\n",
       "    .dataframe tbody tr th {\n",
       "        vertical-align: top;\n",
       "    }\n",
       "\n",
       "    .dataframe thead th {\n",
       "        text-align: right;\n",
       "    }\n",
       "</style>\n",
       "<table border=\"1\" class=\"dataframe\">\n",
       "  <thead>\n",
       "    <tr style=\"text-align: right;\">\n",
       "      <th></th>\n",
       "      <th>0</th>\n",
       "      <th>1</th>\n",
       "      <th>2</th>\n",
       "      <th>3</th>\n",
       "      <th>4</th>\n",
       "      <th>5</th>\n",
       "      <th>6</th>\n",
       "      <th>7</th>\n",
       "      <th>8</th>\n",
       "      <th>9</th>\n",
       "      <th>...</th>\n",
       "      <th>110</th>\n",
       "      <th>111</th>\n",
       "      <th>112</th>\n",
       "      <th>113</th>\n",
       "      <th>114</th>\n",
       "      <th>115</th>\n",
       "      <th>116</th>\n",
       "      <th>117</th>\n",
       "      <th>118</th>\n",
       "      <th>119</th>\n",
       "    </tr>\n",
       "  </thead>\n",
       "  <tbody>\n",
       "    <tr>\n",
       "      <th>0</th>\n",
       "      <td>-264.792786</td>\n",
       "      <td>125.539139</td>\n",
       "      <td>-62.624714</td>\n",
       "      <td>28.315695</td>\n",
       "      <td>1.279387</td>\n",
       "      <td>-8.616631</td>\n",
       "      <td>-4.265706</td>\n",
       "      <td>12.050941</td>\n",
       "      <td>-27.621435</td>\n",
       "      <td>-7.861643</td>\n",
       "      <td>...</td>\n",
       "      <td>-1.748398</td>\n",
       "      <td>-0.898110</td>\n",
       "      <td>-0.119338</td>\n",
       "      <td>0.555444</td>\n",
       "      <td>0.690031</td>\n",
       "      <td>0.893465</td>\n",
       "      <td>0.846773</td>\n",
       "      <td>0.283752</td>\n",
       "      <td>-0.185898</td>\n",
       "      <td>-0.130898</td>\n",
       "    </tr>\n",
       "    <tr>\n",
       "      <th>1</th>\n",
       "      <td>-272.888550</td>\n",
       "      <td>121.097145</td>\n",
       "      <td>-41.149326</td>\n",
       "      <td>36.463421</td>\n",
       "      <td>7.565406</td>\n",
       "      <td>-16.098637</td>\n",
       "      <td>-6.408170</td>\n",
       "      <td>3.941464</td>\n",
       "      <td>-18.141294</td>\n",
       "      <td>-10.447558</td>\n",
       "      <td>...</td>\n",
       "      <td>-1.295892</td>\n",
       "      <td>-0.857775</td>\n",
       "      <td>-0.163954</td>\n",
       "      <td>0.522544</td>\n",
       "      <td>0.864576</td>\n",
       "      <td>0.903463</td>\n",
       "      <td>0.971885</td>\n",
       "      <td>0.158906</td>\n",
       "      <td>0.127875</td>\n",
       "      <td>0.256920</td>\n",
       "    </tr>\n",
       "    <tr>\n",
       "      <th>2</th>\n",
       "      <td>-252.119629</td>\n",
       "      <td>140.533325</td>\n",
       "      <td>-48.734734</td>\n",
       "      <td>25.311930</td>\n",
       "      <td>11.052135</td>\n",
       "      <td>-15.032625</td>\n",
       "      <td>-15.175117</td>\n",
       "      <td>-0.740196</td>\n",
       "      <td>-12.050269</td>\n",
       "      <td>-6.450643</td>\n",
       "      <td>...</td>\n",
       "      <td>-1.269958</td>\n",
       "      <td>-0.506434</td>\n",
       "      <td>0.136597</td>\n",
       "      <td>0.658416</td>\n",
       "      <td>1.204028</td>\n",
       "      <td>1.187821</td>\n",
       "      <td>1.145636</td>\n",
       "      <td>0.580611</td>\n",
       "      <td>0.591504</td>\n",
       "      <td>0.303071</td>\n",
       "    </tr>\n",
       "    <tr>\n",
       "      <th>3</th>\n",
       "      <td>-301.812012</td>\n",
       "      <td>115.630440</td>\n",
       "      <td>-44.689743</td>\n",
       "      <td>40.499535</td>\n",
       "      <td>12.119360</td>\n",
       "      <td>-9.788790</td>\n",
       "      <td>-14.219805</td>\n",
       "      <td>6.883999</td>\n",
       "      <td>-16.215971</td>\n",
       "      <td>-5.742364</td>\n",
       "      <td>...</td>\n",
       "      <td>-1.433162</td>\n",
       "      <td>-0.537758</td>\n",
       "      <td>-0.466619</td>\n",
       "      <td>0.289152</td>\n",
       "      <td>0.665391</td>\n",
       "      <td>0.794946</td>\n",
       "      <td>0.723460</td>\n",
       "      <td>1.131353</td>\n",
       "      <td>0.772526</td>\n",
       "      <td>-0.120861</td>\n",
       "    </tr>\n",
       "    <tr>\n",
       "      <th>4</th>\n",
       "      <td>-256.258118</td>\n",
       "      <td>118.041618</td>\n",
       "      <td>-61.199539</td>\n",
       "      <td>42.643768</td>\n",
       "      <td>14.546075</td>\n",
       "      <td>-13.713741</td>\n",
       "      <td>-13.657145</td>\n",
       "      <td>7.992791</td>\n",
       "      <td>-25.783739</td>\n",
       "      <td>-8.232481</td>\n",
       "      <td>...</td>\n",
       "      <td>-0.783558</td>\n",
       "      <td>-0.262848</td>\n",
       "      <td>-0.175987</td>\n",
       "      <td>0.290252</td>\n",
       "      <td>0.595873</td>\n",
       "      <td>1.549510</td>\n",
       "      <td>1.445828</td>\n",
       "      <td>0.597592</td>\n",
       "      <td>0.366670</td>\n",
       "      <td>0.384863</td>\n",
       "    </tr>\n",
       "  </tbody>\n",
       "</table>\n",
       "<p>5 rows × 120 columns</p>\n",
       "</div>"
      ],
      "text/plain": [
       "            0           1          2          3          4          5  \\\n",
       "0 -264.792786  125.539139 -62.624714  28.315695   1.279387  -8.616631   \n",
       "1 -272.888550  121.097145 -41.149326  36.463421   7.565406 -16.098637   \n",
       "2 -252.119629  140.533325 -48.734734  25.311930  11.052135 -15.032625   \n",
       "3 -301.812012  115.630440 -44.689743  40.499535  12.119360  -9.788790   \n",
       "4 -256.258118  118.041618 -61.199539  42.643768  14.546075 -13.713741   \n",
       "\n",
       "           6          7          8          9  ...       110       111  \\\n",
       "0  -4.265706  12.050941 -27.621435  -7.861643  ... -1.748398 -0.898110   \n",
       "1  -6.408170   3.941464 -18.141294 -10.447558  ... -1.295892 -0.857775   \n",
       "2 -15.175117  -0.740196 -12.050269  -6.450643  ... -1.269958 -0.506434   \n",
       "3 -14.219805   6.883999 -16.215971  -5.742364  ... -1.433162 -0.537758   \n",
       "4 -13.657145   7.992791 -25.783739  -8.232481  ... -0.783558 -0.262848   \n",
       "\n",
       "        112       113       114       115       116       117       118  \\\n",
       "0 -0.119338  0.555444  0.690031  0.893465  0.846773  0.283752 -0.185898   \n",
       "1 -0.163954  0.522544  0.864576  0.903463  0.971885  0.158906  0.127875   \n",
       "2  0.136597  0.658416  1.204028  1.187821  1.145636  0.580611  0.591504   \n",
       "3 -0.466619  0.289152  0.665391  0.794946  0.723460  1.131353  0.772526   \n",
       "4 -0.175987  0.290252  0.595873  1.549510  1.445828  0.597592  0.366670   \n",
       "\n",
       "        119  \n",
       "0 -0.130898  \n",
       "1  0.256920  \n",
       "2  0.303071  \n",
       "3 -0.120861  \n",
       "4  0.384863  \n",
       "\n",
       "[5 rows x 120 columns]"
      ]
     },
     "execution_count": 4,
     "metadata": {},
     "output_type": "execute_result"
    }
   ],
   "source": [
    "X.head()"
   ]
  },
  {
   "cell_type": "code",
   "execution_count": 5,
   "id": "79bc0f63",
   "metadata": {},
   "outputs": [
    {
     "data": {
      "text/plain": [
       "((1023, 120), (341, 120))"
      ]
     },
     "execution_count": 5,
     "metadata": {},
     "output_type": "execute_result"
    }
   ],
   "source": [
    "xtrain, xtest = train_test_split(X)\n",
    "\n",
    "xtrain.shape, xtest.shape"
   ]
  },
  {
   "cell_type": "code",
   "execution_count": 42,
   "id": "4d44548b",
   "metadata": {},
   "outputs": [
    {
     "data": {
      "text/plain": [
       "(120,)"
      ]
     },
     "execution_count": 42,
     "metadata": {},
     "output_type": "execute_result"
    }
   ],
   "source": [
    "xtrain.iloc[0].shape"
   ]
  },
  {
   "cell_type": "markdown",
   "id": "73259871",
   "metadata": {},
   "source": [
    "___"
   ]
  },
  {
   "cell_type": "code",
   "execution_count": 81,
   "id": "3ad36176",
   "metadata": {},
   "outputs": [
    {
     "name": "stdout",
     "output_type": "stream",
     "text": [
      "(None, 60, 30)\n",
      "Model: \"autoencoder\"\n",
      "_________________________________________________________________\n",
      "Layer (type)                 Output Shape              Param #   \n",
      "=================================================================\n",
      "input_1 (InputLayer)         [(None, 120, 1)]          0         \n",
      "_________________________________________________________________\n",
      "conv1d (Conv1D)              (None, 120, 30)           150       \n",
      "_________________________________________________________________\n",
      "average_pooling1d (AveragePo (None, 60, 30)            0         \n",
      "_________________________________________________________________\n",
      "flatten (Flatten)            (None, 1800)              0         \n",
      "_________________________________________________________________\n",
      "reshape (Reshape)            (None, 60, 30)            0         \n",
      "_________________________________________________________________\n",
      "up_sampling1d (UpSampling1D) (None, 120, 30)           0         \n",
      "_________________________________________________________________\n",
      "conv1d_1 (Conv1D)            (None, 120, 1)            31        \n",
      "=================================================================\n",
      "Total params: 181\n",
      "Trainable params: 181\n",
      "Non-trainable params: 0\n",
      "_________________________________________________________________\n"
     ]
    }
   ],
   "source": [
    "K.backend.clear_session()\n",
    "\n",
    "input_sig = K.Input(batch_shape=(None,xtrain.iloc[0].shape[0],1)) # 120x1\n",
    "\n",
    "e = layers.Conv1D(30,4, activation='relu', padding='same')(input_sig)\n",
    "__pool = 2\n",
    "e = layers.AveragePooling1D(__pool)(e)\n",
    "f = layers.Flatten()(e)\n",
    "print(e.shape)\n",
    "d = layers.Reshape((e.shape[1],e.shape[2]))(f)\n",
    "d = layers.UpSampling1D(__pool)(d)\n",
    "d = layers.Conv1D(1,1,strides=1, activation='linear', padding='same')(d)\n",
    "\n",
    "\n",
    "autoencoder = K.Model(input_sig, d, name='autoencoder')\n",
    "autoencoder.compile(optimizer='adam', loss='mse')\n",
    "autoencoder.summary()\n",
    "\n",
    "K.backend.clear_session()\n",
    "history = autoencoder.fit(x=xtrain,\n",
    "                          y=xtrain,\n",
    "                          epochs=20,\n",
    "                          batch_size=10,\n",
    "                          shuffle=True,\n",
    "                          validation_data=(xtest, xtest)\n",
    "                         )\n",
    "\n",
    "plt.figure(figsize=(12, 6))\n",
    "\n",
    "plt.plot(history.history['loss'])\n",
    "plt.plot(history.history['val_loss'])\n",
    "plt.legend(['train', 'val'], loc='upper right')\n",
    "plt.xlabel('epoch')\n",
    "plt.ylabel('loss')\n",
    "\n",
    "plt.grid()\n",
    "plt.show()"
   ]
  },
  {
   "cell_type": "code",
   "execution_count": 72,
   "id": "b198e6cc",
   "metadata": {
    "scrolled": true
   },
   "outputs": [
    {
     "name": "stdout",
     "output_type": "stream",
     "text": [
      "Epoch 1/20\n",
      "103/103 [==============================] - 1s 5ms/step - loss: 990.4271 - val_loss: 970.9852\n",
      "Epoch 2/20\n",
      "103/103 [==============================] - 0s 4ms/step - loss: 990.4207 - val_loss: 970.9803\n",
      "Epoch 3/20\n",
      "103/103 [==============================] - 0s 5ms/step - loss: 990.4158 - val_loss: 970.9750\n",
      "Epoch 4/20\n",
      "103/103 [==============================] - 0s 4ms/step - loss: 990.4116 - val_loss: 970.9711\n",
      "Epoch 5/20\n",
      "103/103 [==============================] - 1s 5ms/step - loss: 990.4081 - val_loss: 970.9671\n",
      "Epoch 6/20\n",
      "103/103 [==============================] - 0s 5ms/step - loss: 990.4045 - val_loss: 970.9636\n",
      "Epoch 7/20\n",
      "103/103 [==============================] - 0s 4ms/step - loss: 990.4021 - val_loss: 970.9631\n",
      "Epoch 8/20\n",
      "103/103 [==============================] - 0s 4ms/step - loss: 990.3999 - val_loss: 970.9589\n",
      "Epoch 9/20\n",
      "103/103 [==============================] - 0s 5ms/step - loss: 990.3979 - val_loss: 970.9570\n",
      "Epoch 10/20\n",
      "103/103 [==============================] - 0s 4ms/step - loss: 990.3959 - val_loss: 970.9559\n",
      "Epoch 11/20\n",
      "103/103 [==============================] - 0s 5ms/step - loss: 990.3947 - val_loss: 970.9536\n",
      "Epoch 12/20\n",
      "103/103 [==============================] - 1s 6ms/step - loss: 990.3926 - val_loss: 970.9523\n",
      "Epoch 13/20\n",
      "103/103 [==============================] - 1s 6ms/step - loss: 990.3919 - val_loss: 970.9517\n",
      "Epoch 14/20\n",
      "103/103 [==============================] - 1s 6ms/step - loss: 990.3906 - val_loss: 970.9505\n",
      "Epoch 15/20\n",
      "103/103 [==============================] - 0s 5ms/step - loss: 990.3902 - val_loss: 970.9497\n",
      "Epoch 16/20\n",
      "103/103 [==============================] - 1s 6ms/step - loss: 990.3890 - val_loss: 970.9492\n",
      "Epoch 17/20\n",
      "103/103 [==============================] - 1s 6ms/step - loss: 990.3882 - val_loss: 970.9484\n",
      "Epoch 18/20\n",
      "103/103 [==============================] - 0s 4ms/step - loss: 990.3878 - val_loss: 970.9477\n",
      "Epoch 19/20\n",
      "103/103 [==============================] - 0s 4ms/step - loss: 990.3873 - val_loss: 970.9478\n",
      "Epoch 20/20\n",
      "103/103 [==============================] - 0s 5ms/step - loss: 990.3870 - val_loss: 970.9467\n"
     ]
    },
    {
     "data": {
      "image/png": "[encoded data removed]",
      "text/plain": [
       "<Figure size 864x432 with 1 Axes>"
      ]
     },
     "metadata": {
      "needs_background": "light"
     },
     "output_type": "display_data"
    },
    {
     "name": "stdout",
     "output_type": "stream",
     "text": [
      "CPU times: user 10.1 s, sys: 737 ms, total: 10.9 s\n",
      "Wall time: 10.9 s\n"
     ]
    }
   ],
   "source": []
  },
  {
   "cell_type": "code",
   "execution_count": 73,
   "id": "17f4ed96",
   "metadata": {},
   "outputs": [
    {
     "data": {
      "image/png": "[encoded data removed]",
      "text/plain": [
       "<Figure size 864x432 with 1 Axes>"
      ]
     },
     "metadata": {
      "needs_background": "light"
     },
     "output_type": "display_data"
    }
   ],
   "source": []
  },
  {
   "cell_type": "code",
   "execution_count": null,
   "id": "c93bef3a",
   "metadata": {},
   "outputs": [],
   "source": []
  },
  {
   "cell_type": "code",
   "execution_count": null,
   "id": "b4b653e5",
   "metadata": {},
   "outputs": [],
   "source": []
  },
  {
   "cell_type": "code",
   "execution_count": null,
   "id": "b812df3e",
   "metadata": {},
   "outputs": [],
   "source": []
  },
  {
   "cell_type": "code",
   "execution_count": null,
   "id": "0e533c7a",
   "metadata": {},
   "outputs": [],
   "source": []
  },
  {
   "cell_type": "code",
   "execution_count": null,
   "id": "90f97088",
   "metadata": {},
   "outputs": [],
   "source": []
  },
  {
   "cell_type": "code",
   "execution_count": null,
   "id": "98b37016",
   "metadata": {},
   "outputs": [],
   "source": []
  },
  {
   "cell_type": "code",
   "execution_count": null,
   "id": "0b576da7",
   "metadata": {},
   "outputs": [],
   "source": []
  },
  {
   "cell_type": "code",
   "execution_count": null,
   "id": "5ae37418",
   "metadata": {},
   "outputs": [],
   "source": []
  }
 ],
 "metadata": {
  "kernelspec": {
   "display_name": "Python 3 (ipykernel)",
   "language": "python",
   "name": "python3"
  },
  "language_info": {
   "codemirror_mode": {
    "name": "ipython",
    "version": 3
   },
   "file_extension": ".py",
   "mimetype": "text/x-python",
   "name": "python",
   "nbconvert_exporter": "python",
   "pygments_lexer": "ipython3",
   "version": "3.8.10"
  }
 },
 "nbformat": 4,
 "nbformat_minor": 5
}
