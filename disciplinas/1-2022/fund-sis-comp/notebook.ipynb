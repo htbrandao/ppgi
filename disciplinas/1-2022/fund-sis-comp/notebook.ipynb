{
 "cells": [
  {
   "cell_type": "markdown",
   "id": "2425972d",
   "metadata": {},
   "source": [
    "# FUNDAMENTOS DE SISTEMAS COMPUTACIONAIS"
   ]
  },
  {
   "cell_type": "markdown",
   "id": "57f7502b",
   "metadata": {},
   "source": [
    "# Aula 01 ---------------------------------------- \\#"
   ]
  },
  {
   "cell_type": "markdown",
   "id": "2fc4d3c2",
   "metadata": {},
   "source": [
    "*Arquitetura*:\n",
    "\n",
    "Refere-se a atributos do sistema que são visíveis ao programador (assembly).\n",
    "\n",
    "    e.g.: endereçamento de memória, conjunto de instruções.\n",
    "\n",
    "*Organização*:\n",
    "\n",
    "Refere-se à unidades operacionais do computador e interconexões entre as mesmas.\n",
    "\n",
    "    e.g.: sinais de controle, tecnologias de memória."
   ]
  },
  {
   "cell_type": "markdown",
   "id": "f65bcea6",
   "metadata": {},
   "source": [
    "Componentes básicos:\n",
    "\n",
    "CPU, Memória principal e módulo de I/O de periféricos:\n",
    "\n",
    "![](_/1.png)"
   ]
  },
  {
   "cell_type": "markdown",
   "id": "b9df9932",
   "metadata": {},
   "source": [
    "Execução de programas, é feita em ciclos:\n",
    "\n",
    "- 1- O processador busca da memória a (próxima) instrução cujo endereço está no `PC`;\n",
    "- 2- A instrução é carregada no `IR`;\n",
    "- 3- O processador decodifica a instrução"
   ]
  },
  {
   "cell_type": "markdown",
   "id": "e549a7b3",
   "metadata": {},
   "source": [
    "A instrução (decodificada) executada pode ser:\n",
    "\n",
    "- 1- Transferência de dados entre processador e memória;\n",
    "- 2- Transferência de dados entre periféricos e processador;\n",
    "- 3- Execução de operações lógicas e aritiméticas sobre os dados;\n",
    "- 4- Alterações na sequência de execução das instruções"
   ]
  },
  {
   "cell_type": "markdown",
   "id": "53b9eaed",
   "metadata": {},
   "source": [
    "Ciclo de instruções (6 erstágios):\n",
    "\n",
    "- 1- `IAC`: Determina o endereço da próxima instrução;\n",
    "- 2- `IF`: Carrega a instrução no processador;\n",
    "- 3- `ID`: Determina o tipo de instrução e os operandos necessários;\n",
    "- 4- `OF`: Busca o operando; \n",
    "- 5- `DO`: Executa a operação;\n",
    "- 6- `OS`: Escreve o resultado\n",
    "\n",
    "![](_/2.png)\n",
    "\n",
    "No caso da execução sequencial, o endereço da próxima instrução é obtido através de uma operação de soma (add) no `PC`. Infelizmente, em geral, a execução não é estritamente sequencial. Em alguns pontos do código, dicisões são tomadas que fazem com o que caminhos alternativos sejam seguidos. _ifs_ e _loops_ são exemplos dessas decisões; são taduzidos das linguagens de alto nível para *desvios* em assembly. As instruçõesd e máquina que implementam esses desvios são _banches_ ou _jumps_."
   ]
  },
  {
   "cell_type": "markdown",
   "id": "958bc081",
   "metadata": {},
   "source": [
    "e.g.: ![](_/3.png)\n",
    "\n",
    "    ac0: 10\n",
    "    ac1: 943\n",
    "    ac2: 943\n",
    "    ac3: 0\n",
    "\n",
    "    #940 = 1\n",
    "    #941 = 3\n",
    "    #942 = 6\n",
    "    #943 = 10"
   ]
  },
  {
   "cell_type": "markdown",
   "id": "03833e94",
   "metadata": {},
   "source": [
    "## [Lista 1]\n",
    "\n",
    "1)\n",
    "\n",
    "a) Arquitetural. É um atribudo do sistema com o qual o programador irá interagir.\n",
    "\n",
    "b) Organizacional. Lida diretamente com o componente, sendo transparente para o programador.\n",
    "\n",
    "c) Arquitetural. É uma característica visível para o programador.\n",
    "\n",
    "2)\n",
    "```python\n",
    "a[1] = 1\n",
    "a[2] = 2\n",
    "a[3] = 3\n",
    "a[4] = 4\n",
    "para i=1 até 3, faça:\n",
    "    a[i+1] = a[i+1] + a[i]\n",
    "```\n",
    "\n",
    "3) Complica. Não havendo desvios, o `PC` sempre receberá o valor atual incrementado de 1. Com isso, por exemplo, é fácil saber qual foi a instrução anterior e qual será a próxima, sem precisar conhecer o código a ser executado.\n",
    "\n",
    "4) Determinar o que a instrução faz e quais são seus operandos."
   ]
  },
  {
   "cell_type": "markdown",
   "id": "23bbcfbe",
   "metadata": {},
   "source": [
    "# Aula 02 ---------------------------------------- \\#"
   ]
  },
  {
   "cell_type": "markdown",
   "id": "ec1d0233",
   "metadata": {},
   "source": [
    "Pipelining:\n",
    "\n",
    "Permite que a execução de múltiplas instruções seja sobreposta. A execução de uma instrução é dividida em estágios. Uma instruçao não é executada mais rápido, porém o programa como um todo, sim (maior _throughput_). A enorme maioria dos processadores atuais conta com esse recurso."
   ]
  },
  {
   "cell_type": "markdown",
   "id": "072e824d",
   "metadata": {},
   "source": [
    "Decomposição de execução em estágios (e.g.: DLX):\n",
    "\n",
    "- `IF`: Busca a instrução da memória e carrega no `IR`;\n",
    "- `ID`: Decodifica a instrução e acessa registradores;\n",
    "- `EX`: Executa operações;\n",
    "- `Mem`: Executa _loads_, _stores_ e _branches_;\n",
    "- `WB`: Escreve os valores nos registradores ou na memória"
   ]
  },
  {
   "cell_type": "markdown",
   "id": "bfbd1bbe",
   "metadata": {},
   "source": [
    " `IF`:\n",
    " \n",
    " ![](_/4.png)"
   ]
  },
  {
   "cell_type": "markdown",
   "id": "a2c77fd5",
   "metadata": {},
   "source": [
    " `ID`:\n",
    " \n",
    " ![](_/5.png)"
   ]
  },
  {
   "cell_type": "markdown",
   "id": "43812934",
   "metadata": {},
   "source": [
    " `EX`:\n",
    " \n",
    " ![](_/6.png)"
   ]
  },
  {
   "cell_type": "markdown",
   "id": "ea217cb1",
   "metadata": {},
   "source": [
    " `Mem`:\n",
    " \n",
    " ![](_/7.png)"
   ]
  },
  {
   "cell_type": "markdown",
   "id": "8248ded1",
   "metadata": {},
   "source": [
    " `WB`:\n",
    " \n",
    " ![](_/8.png)"
   ]
  },
  {
   "cell_type": "markdown",
   "id": "00f7baff",
   "metadata": {},
   "source": [
    "e.g.:\n",
    "![](_/9.png)\n",
    "![](_/10.png)\n",
    "![](_/11.png)\n",
    "![](_/12.png)\n",
    "![](_/13.png)\n",
    "![](_/14.png)\n",
    "![](_/15.png)\n"
   ]
  },
  {
   "cell_type": "markdown",
   "id": "48893668",
   "metadata": {},
   "source": [
    "![](_/16.png)\n",
    "\n",
    "*Pipeline ideal*: Todo estágio se completa em um ciclo de clock.\n",
    "\n",
    "Não podem haver estágios semelhantes sobrepostos no mesmo ciclo de clock, causaria confusão."
   ]
  },
  {
   "cell_type": "markdown",
   "id": "c28d1736",
   "metadata": {},
   "source": [
    "Executar o pipeline para 5 instruções com o EX demorando 2 ciclos:\n",
    "\n",
    "    instrução/ciclo  1  2  3  4  5  6  7  8  9  10  11  12  13  14\n",
    "    instrução 1      IF  ID  EX  EX  MEM  WD                \n",
    "    Instrução 2         IF  ID  --  EX  EX  MEM  WD            \n",
    "    Instrução 3            IF  ID  --  --  EX  EX  MEM  WD        \n",
    "    Instrução 4               IF  ID  --  --  --  EX  EX  MEM  WD    \n",
    "    Instrução 5                  IF  ID  --  --  --  --  EX  EX  MEM  WD\n",
    "\n",
    "![](_/17.png)"
   ]
  },
  {
   "cell_type": "markdown",
   "id": "da0deb6c",
   "metadata": {},
   "source": [
    "Perceba que o número de ciclos é dado por:\n",
    "\n",
    "$Nciclos(i) = Nciclos_{instruc_1} + ((i + 1) * max_{atraso})$"
   ]
  },
  {
   "cell_type": "markdown",
   "id": "c2b57c46",
   "metadata": {},
   "source": [
    "Desbalanceamento: O estágio mais lento do pipeline limita o seu desempenho.\n",
    "\n",
    "Estágios `EX` que incluem operações de ponto flutuante não se completam em um ciclo de clock.\n",
    "\n",
    "Para a implementação do pipeline, overhead é adicionado por registradores de pipeline (_latches_). Os dados e controles necessários são passados de um estágio para outro através de latches.\n",
    "\n",
    "![](_/18.png)"
   ]
  },
  {
   "cell_type": "markdown",
   "id": "a43098f7",
   "metadata": {},
   "source": [
    "Hazards:\n",
    "\n",
    "É uma propriedade um pipeline. São a maior fonte de limitação do pipeline. Situações que impedem que o próximo estágio seja executado no próximo ciclo de clock. Os hazerds fazem com que o pipeline seja atrasado (stall).\n",
    "\n",
    "Classes de hazards:\n",
    "\n",
    "- Estrutural: O hardware não é capaz de executar este passo de maneira sobreposta com outros passos que já estão no pipeline;\n",
    "- Dados: Uma instrução depende do resultado de uma instrução anterior que ainda não foi produzido;\n",
    "- Controle: Causados por desvios."
   ]
  },
  {
   "cell_type": "markdown",
   "id": "affbc4fb",
   "metadata": {},
   "source": [
    "Hazard estrutural:\n",
    "\n",
    "A execução sobreposta de instruções existe que as demais unidades funcionais sejam _pipelined_ e que haja duplicação de recursos de modo a permintir que qualquer combinação de instruções no pipeline. Quando isso acontece, ocorre um hazard estrutural e o pipeline é atrasado. Este atraso é feito pela inserção de ciclos de stall (_pipeline bubles_).\n",
    "\n",
    "Motivos:\n",
    "\n",
    "- Algumas unidades funcionais não foram totalmente pipelined;\n",
    "- Recursos não foram replicados de maneira suficiente:\n",
    "    - Neste caso, ocorre o conflito pela utilização de recursos;\n",
    "    - Exemplo de recursos: registradores, paths, portas para acesso à memória\n",
    "- Se a situação não for frequente, talvez o overhead e o custo introduzido não sejam compensados.\n",
    "\n",
    "e.g.:\n",
    "\n",
    "![](_/19.png)"
   ]
  },
  {
   "cell_type": "markdown",
   "id": "b0fd189d",
   "metadata": {},
   "source": [
    "# Aula 03 ---------------------------------------- \\#"
   ]
  },
  {
   "cell_type": "markdown",
   "id": "6f2ce51d",
   "metadata": {},
   "source": [
    "Hazard de dados:\n",
    "\n",
    "Ocorre porque o pipelining pode modificar a ordem dos acessos aos operandos.\n",
    "\n",
    "e.g.:\n",
    "\n",
    "![](_/20.png)\n",
    "![](_/21.png)"
   ]
  },
  {
   "cell_type": "markdown",
   "id": "fdc6b4a3",
   "metadata": {},
   "source": [
    "Tipos de dependências entre as instruções:\n",
    "\n",
    "- `RAW`: read after write\n",
    "- `WAW`: write after write\n",
    "- `WAR`: write after read"
   ]
  },
  {
   "cell_type": "markdown",
   "id": "de042e3c",
   "metadata": {},
   "source": [
    "O _Fowarding_ (_bypassing_ ou _shortcutting_) é uma técnica de **hardware** para solucionar alguns hazard de dados. Efetuando a transferência direta para a unidade funcional que requer o dado.\n",
    "\n",
    "Em alguns casos o fowarding não é suficiente, pois o dado pode ser necessário em um estágio da instrução $i + 1$ quando ainda não foi produzido pela instrução $i$. Geralmente, os loads são causadores desse tipo de hazard.\n",
    "\n",
    "Pipeline interlock: hardware que detecta o hazard e atrasa o pipeline, através da introdução de bubles, até que a execução possa continuar:\n",
    "\n",
    "![](_/22.png)\n",
    "![](_/23.png)\n",
    "\n",
    "Pipeline Scheduling: Técnica utilizada pelo compilador para reduzir o número de stalls. O compilador pode, ao gerar o código, tentar evitar certos padrões (e.g.: evitar colocar o load em um registrador muito próximo da instrução que usa este registrador).\n",
    "\n",
    "![](_/24.png)"
   ]
  },
  {
   "cell_type": "markdown",
   "id": "9dee72f2",
   "metadata": {},
   "source": [
    "Bloco básico: Sequência de instruções onde não há desvios e nem transferências de I/O. Num bloco básico, todas as instruções são executadas, caso a primeira seja. Uma técnica simples consiste em dividir o programa em blocos básicos e escalonar as instruções dentro de cada bloco."
   ]
  },
  {
   "cell_type": "markdown",
   "id": "95145f7a",
   "metadata": {},
   "source": [
    "Hazard de conrole:\n",
    "\n",
    "Mudanças no fluxo da execução que vão acontecer:\n",
    "- Branches (IF, loops)\n",
    "- Jumps (GOTO)\n",
    "- Procedure calls\n",
    "- Procedure returns\n",
    "\n",
    "Quando uma instrução de desvio muda o `PC`, diz-se que o desvio foi tomado (branch taken). Se a instrução $i$ for um desvio tomado, o novo endereço do `PC` somente será conhecido no final do estágio `Mem`:\n",
    "\n",
    "![](_/25.png)"
   ]
  },
  {
   "cell_type": "markdown",
   "id": "319a68de",
   "metadata": {},
   "source": [
    "O número de ciclos de clock atrasados por causa de uma brancho pode ser reduzido com duas técnicas combinadas:\n",
    "\n",
    "- 1- Descobrir, mais cedo, se o branch é tomado ou não;\n",
    "- 2- Calcular o novo valor `PC` antes\n",
    "\n",
    "Geralmente os branches são decididos através de uma comparação de um registrador com o valor zero. Pode-se, então, mover estre teste para o estágio `ID` através da inclusão de um adicionador e do teste de branch neste estágio. Neste caso, temos somente um ciclo de atraso (stall).\n",
    "\n",
    "![](_/26.png)"
   ]
  },
  {
   "cell_type": "markdown",
   "id": "a3a4e326",
   "metadata": {},
   "source": [
    "Técnica #1: Previsão \"Not Taken\"\n",
    "\n",
    "    Todos os branches são tratados como not taken e o pipeline é carregado com as instruções que imediatamente seguem o branch. O estado da máquina não pode ser alterado até que o resultado do desvio seja conhecido e, caso o desvio seja tomado, as eventuais mudanças devem ser desfeitas (back out).\n",
    "\n",
    "![](_/27.png)\n",
    "\n",
    "Técnica #2: Previsão \"Taken\"\n",
    "\n",
    "    Logo que a instrução de branch for decodificada e o alvo da branch for conhecido, começa-se a buscar instruções a partir do alvo. Em muitas arquiteturas, não se conhece o alvo da branch antes de se executar o branch. Para estas arquiteturas, este esquema não é efetivo."
   ]
  },
  {
   "cell_type": "markdown",
   "id": "60e356e1",
   "metadata": {},
   "source": [
    "Técnica #3: Delayed Branch\n",
    "\n",
    "![](_/28.png)\n",
    "\n",
    "    As instruções contidas no branch delay slot são executadas independente do resultado do branch (taken ou not taken). A grande maioria das máquinas que usam esta técnica tem 01 delay slot. O compilador faz um papel fundamental nesta ténica, pois faz o escalonamento de instruções.\n",
    "\n",
    "- From Before:\n",
    "![](_/29.png)\n",
    "\n",
    "- From Target:\n",
    "![](_/30.png)\n",
    "\n",
    "- From Fall through:\n",
    "![](_/31.png)\n",
    "\n",
    "    Muitas vezes, essa técnica não pode ser utilizada devido a:\n",
    "        - Restrições das próprias instruções que deverão ser escalonadas no delay slot (e.g.: dependências, branches); incapacidade de prever, em tempo de compilação, se um desvio será executado ou não.\n",
    "\n",
    "- Cancelling Branches:\n",
    "\n",
    "    Um cancelling branch contém a previsão daquele desvio. Se a previsão for correta, o delay slot é executado; caso seja incorreta, o delay slot é transformado em `no-op`. Elimina restrições sobre a instrução a ser colocada no delay slot.\n",
    "\n",
    "\n",
    "Atualmente, o hardware é responsável pela predição de desvios, então o compilador passou a não fazer mais essa tarefa."
   ]
  },
  {
   "cell_type": "markdown",
   "id": "80f5fe21",
   "metadata": {},
   "source": [
    "Medidas básicas de desempenho:\n",
    "\n",
    "- Tempo médio de execução de instrução (AIT):\n",
    "\n",
    "    $AIT = cicloDeClock * CPI_{média}$\n",
    "\n",
    "- Speedup do pipeline:\n",
    "\n",
    "    $S = \\frac{AIT_{semPipeline}}{AIT_{comPipeline}}$\n",
    "\n",
    "- Tempo total de execução de $n$ instruções com um pipeline de $k$ estágios:\n",
    "\n",
    "    $T_k = k + [(n - 1) * máximoAtrasoDoEstágio]$"
   ]
  },
  {
   "cell_type": "markdown",
   "id": "d8094a7b",
   "metadata": {},
   "source": [
    "Barramentos:\n",
    "\n",
    "É um meio de transmissão compartilhado que vai conectar vários dispositivos. Possui varias linhas:\n",
    "- Dados: Cada linha transporta 01 bit por vez\n",
    "- Endereço: Recebe o endereço da palavra a ser acessada\n",
    "- Controle: Controlam o uso das linhas\n",
    "\n",
    "![](_/32.png)\n",
    "\n",
    "Algumas linhas de controle: Memory write, Memory read, Transfer ACK, Bus request, Bus grant, Clock (barramentos síncronos), Reset.\n",
    "\n",
    "Arquiteturas de barramentos:\n",
    "\n",
    "![](_/33.png)\n",
    "\n",
    "A velocidade do barramento é limitada pelo:\n",
    "- Tamanho (físico) do barramento;\n",
    "- Números de dispositivos conectados\n",
    "\n",
    "Barramentos CPU-Memória: Pequenos e de alta velocidade.\n",
    "\n",
    "Barramentos de I/O: Maiores e devem acomodar diversos tipos de dispositivos, seguindo um padrão.\n",
    "\n",
    "- Leitura de dados na memória: O endereço e os sinais de controle indicando uma leitura são enviados no barramento (read e wait); a memória coloa o dado no barramento e retira (deasserts) o sinal de wait.\n",
    "\n",
    "- Escrita de dados na memória: A CPU coloca o endereço e o dado no barramento; A memória retira o dado e o seu endereço e faz a atualização; geralmente, a CPU não espera confirmação.\n",
    "\n",
    "Bus Masters: São dispositivos que podem iniciar transações no barramento. A CPU é sempre bus master.\n",
    "\n",
    "    Sistemas com vários Bus Masters:\n",
    "    - Várias CPUs e dispositivos de I/O específicos;\n",
    "    - Necessitam de um esquema de arbitragem para resolver conflitos, geralmente com prioridade fixa ou randômica."
   ]
  },
  {
   "cell_type": "markdown",
   "id": "71b894a0",
   "metadata": {},
   "source": [
    "Split transacion (pipelined ou packet-switched) buses:\n",
    "\n",
    "- As transições no barramento são divididas em etapas, não blocantes;\n",
    "\n",
    "e.g.: Uma transação read pode ser dividida em: Read-request e Memory-reply\n",
    "\n",
    "- A memória necessita participar da arbitragem\n",
    "- As transações possuem tags para serem identificadas\n"
   ]
  },
  {
   "cell_type": "markdown",
   "id": "2c8cb95e",
   "metadata": {},
   "source": [
    "Barramentos síncronos:\n",
    "- Uma das linhas de controle é um clock;\n",
    "- Os protocolos para endereço e dados são fixos e baseados neste clock;\n",
    "- Sào rápidos e baratos, porém, devido a distorções de clock (clock skew), não podem ser longos;\n",
    "- Os barramentos CPU-Memória costumam ser síncronos"
   ]
  },
  {
   "cell_type": "markdown",
   "id": "02d12a6a",
   "metadata": {},
   "source": [
    "Barramentos **a**ssíncronos:\n",
    "- Usam protocolos de handhsaking entre emissor e receptor;\n",
    "- Adicionam um overhead para sincronizar cada transaçao, se tornando mais lentos;\n",
    "- Permitem que mais tipos de dispositivos sejam conectados;\n",
    "- São geralmente utilizado em I/O buses\n"
   ]
  },
  {
   "cell_type": "markdown",
   "id": "5f518573",
   "metadata": {},
   "source": [
    "## [Lista 2]"
   ]
  },
  {
   "cell_type": "markdown",
   "id": "f7d22948",
   "metadata": {},
   "source": [
    "# Aula 04 ---------------------------------------- \\#"
   ]
  },
  {
   "cell_type": "markdown",
   "id": "71f9d1c6",
   "metadata": {},
   "source": []
  },
  {
   "cell_type": "markdown",
   "id": "9beb74d2",
   "metadata": {},
   "source": []
  },
  {
   "cell_type": "markdown",
   "id": "a9680caf",
   "metadata": {},
   "source": []
  },
  {
   "cell_type": "markdown",
   "id": "b119f1b2",
   "metadata": {},
   "source": []
  },
  {
   "cell_type": "markdown",
   "id": "e97cb512",
   "metadata": {},
   "source": []
  },
  {
   "cell_type": "markdown",
   "id": "fbfef131",
   "metadata": {},
   "source": []
  },
  {
   "cell_type": "markdown",
   "id": "dcf683b3",
   "metadata": {},
   "source": []
  },
  {
   "cell_type": "markdown",
   "id": "09d76ed5",
   "metadata": {},
   "source": []
  },
  {
   "cell_type": "markdown",
   "id": "f5d34879",
   "metadata": {},
   "source": []
  },
  {
   "cell_type": "markdown",
   "id": "c844b670",
   "metadata": {},
   "source": []
  },
  {
   "cell_type": "markdown",
   "id": "52354e42",
   "metadata": {},
   "source": []
  },
  {
   "cell_type": "markdown",
   "id": "48fd84cf",
   "metadata": {},
   "source": []
  }
 ],
 "metadata": {
  "kernelspec": {
   "display_name": "Python 3 (ipykernel)",
   "language": "python",
   "name": "python3"
  },
  "language_info": {
   "codemirror_mode": {
    "name": "ipython",
    "version": 3
   },
   "file_extension": ".py",
   "mimetype": "text/x-python",
   "name": "python",
   "nbconvert_exporter": "python",
   "pygments_lexer": "ipython3",
   "version": "3.8.10"
  }
 },
 "nbformat": 4,
 "nbformat_minor": 5
}
