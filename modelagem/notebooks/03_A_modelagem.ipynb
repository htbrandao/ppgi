{
 "cells": [
  {
   "cell_type": "markdown",
   "id": "1260bf99",
   "metadata": {},
   "source": [
    "# # Modelagem 1-dim"
   ]
  },
  {
   "cell_type": "code",
   "execution_count": 1,
   "id": "afd0e573",
   "metadata": {},
   "outputs": [],
   "source": [
    "import keras as K\n",
    "import numpy as np\n",
    "import pandas as pd\n",
    "import seaborn as sns\n",
    "import tensorflow as tf\n",
    "import matplotlib.pyplot as plt\n",
    "\n",
    "from keras import layers\n",
    "from sklearn.model_selection import train_test_split\n",
    "\n",
    "%matplotlib inline"
   ]
  },
  {
   "cell_type": "code",
   "execution_count": 4,
   "id": "707167fc",
   "metadata": {},
   "outputs": [],
   "source": [
    "DIR_DATAFRAMES = '/media/hbrandao/STORAGE_HDD_1TB/PPGI/BRAVO-DATAFRAMES/DATAFRAMES'\n",
    "DIR_MFCC = '/media/hbrandao/STORAGE_HDD_1TB/PPGI/BRAVO-DATAFRAMES/MFCC'"
   ]
  },
  {
   "cell_type": "code",
   "execution_count": 5,
   "id": "8ccfecf8",
   "metadata": {},
   "outputs": [
    {
     "name": "stdout",
     "output_type": "stream",
     "text": [
      "total 4,1G\r\n",
      "drwxrwxrwx 1 hbrandao hbrandao 4,0K mar 21 23:15 .\r\n",
      "drwxrwxrwx 1 hbrandao hbrandao  248 mar 21 23:49 ..\r\n",
      "-rwxrwxrwx 1 hbrandao hbrandao 181K mar 21 23:27 Xfusao.csv\r\n",
      "-rwxrwxrwx 1 hbrandao hbrandao 1,3G mar 21 23:28 Xsinal_0padded.npy\r\n",
      "-rwxrwxrwx 1 hbrandao hbrandao 372M mar 21 23:28 Xsinal.npy\r\n",
      "-rwxrwxrwx 1 hbrandao hbrandao 1,3G mar 21 23:28 Xsinal_stretch_0padded.npy\r\n",
      "-rwxrwxrwx 1 hbrandao hbrandao 1,3G mar 21 23:28 Xsinal_tile_0padded.npy\r\n"
     ]
    }
   ],
   "source": [
    "!ls -lah $DIR_DATAFRAMES"
   ]
  },
  {
   "cell_type": "code",
   "execution_count": 6,
   "id": "808ec2ae",
   "metadata": {},
   "outputs": [
    {
     "name": "stdout",
     "output_type": "stream",
     "text": [
      "/media/hbrandao/STORAGE_HDD_1TB/PPGI/BRAVO-DATAFRAMES/MFCC:\r\n",
      "total 0\r\n",
      "drwxrwxrwx 1 hbrandao hbrandao 320 mar 22 01:49 .\r\n",
      "drwxrwxrwx 1 hbrandao hbrandao 248 mar 21 23:49 ..\r\n",
      "drwxrwxrwx 1 hbrandao hbrandao 440 mar 22 01:55 128\r\n",
      "drwxrwxrwx 1 hbrandao hbrandao 440 mar 22 01:54 64\r\n",
      "drwxrwxrwx 1 hbrandao hbrandao 304 mar 22 01:53 mean\r\n",
      "\r\n",
      "/media/hbrandao/STORAGE_HDD_1TB/PPGI/BRAVO-DATAFRAMES/MFCC/128:\r\n",
      "total 944M\r\n",
      "drwxrwxrwx 1 hbrandao hbrandao  440 mar 22 01:55 .\r\n",
      "drwxrwxrwx 1 hbrandao hbrandao  320 mar 22 01:49 ..\r\n",
      "-rwxrwxrwx 1 hbrandao hbrandao 315M mar 22 02:10 Xsinal_pad_128mfcc.npy\r\n",
      "-rwxrwxrwx 1 hbrandao hbrandao 315M mar 22 02:10 Xsinal_stretch_128mfcc.npy\r\n",
      "-rwxrwxrwx 1 hbrandao hbrandao 315M mar 22 02:11 Xsinal_tile_128mfcc.npy\r\n",
      "\r\n",
      "/media/hbrandao/STORAGE_HDD_1TB/PPGI/BRAVO-DATAFRAMES/MFCC/64:\r\n",
      "total 472M\r\n",
      "drwxrwxrwx 1 hbrandao hbrandao  440 mar 22 01:54 .\r\n",
      "drwxrwxrwx 1 hbrandao hbrandao  320 mar 22 01:49 ..\r\n",
      "-rwxrwxrwx 1 hbrandao hbrandao 158M mar 22 02:05 Xsinal_pad_64mfcc.npy\r\n",
      "-rwxrwxrwx 1 hbrandao hbrandao 158M mar 22 02:05 Xsinal_stretch_64mfcc.npy\r\n",
      "-rwxrwxrwx 1 hbrandao hbrandao 158M mar 22 02:06 Xsinal_tile_64mfcc.npy\r\n",
      "\r\n",
      "/media/hbrandao/STORAGE_HDD_1TB/PPGI/BRAVO-DATAFRAMES/MFCC/mean:\r\n",
      "total 1,1M\r\n",
      "drwxrwxrwx 1 hbrandao hbrandao  304 mar 22 01:53 .\r\n",
      "drwxrwxrwx 1 hbrandao hbrandao  320 mar 22 01:49 ..\r\n",
      "-rwxrwxrwx 1 hbrandao hbrandao 683K mar 22 01:58 Xsinal_128mfcc_mean.npy\r\n",
      "-rwxrwxrwx 1 hbrandao hbrandao 342K mar 22 01:58 Xsinal_64mfcc_mean.npy\r\n"
     ]
    }
   ],
   "source": [
    "!ls -lahR $DIR_MFCC"
   ]
  },
  {
   "cell_type": "code",
   "execution_count": null,
   "id": "c0757fed",
   "metadata": {},
   "outputs": [],
   "source": []
  },
  {
   "cell_type": "code",
   "execution_count": null,
   "id": "b232fe9b",
   "metadata": {},
   "outputs": [],
   "source": []
  },
  {
   "cell_type": "code",
   "execution_count": null,
   "id": "ee33315e",
   "metadata": {},
   "outputs": [],
   "source": []
  },
  {
   "cell_type": "code",
   "execution_count": null,
   "id": "ec728180",
   "metadata": {},
   "outputs": [],
   "source": [
    "PHYS_DEVICE_NAME = tf.config.list_physical_devices('GPU')[0].name[-5:]\n",
    "if PHYS_DEVICE_NAME:\n",
    "    print(PHYS_DEVICE_NAME)\n",
    "else:\n",
    "    raise Exception('GPU não encontrada')"
   ]
  },
  {
   "cell_type": "markdown",
   "id": "a0ea4cb6",
   "metadata": {},
   "source": [
    "## Dados"
   ]
  },
  {
   "cell_type": "code",
   "execution_count": null,
   "id": "6bfdef71",
   "metadata": {},
   "outputs": [],
   "source": [
    "!ls DATAFRAMES/"
   ]
  },
  {
   "cell_type": "markdown",
   "id": "8e8ea7c2",
   "metadata": {},
   "source": [
    "Iremos organizar os conjuntos a serem utilizados, onde:\n",
    "\n",
    "- $X$ é formado pelos dados de entrada, que representam os arquivos de áudio;\n",
    "- $Y$ é formado pelas emoções;\n",
    "- $Z$ é formado pelas intensidades"
   ]
  },
  {
   "cell_type": "code",
   "execution_count": null,
   "id": "8d52b751",
   "metadata": {},
   "outputs": [],
   "source": [
    "X = pd.read_csv('DATAFRAMES/Xmfcc.csv', sep=';')\n",
    "X.shape"
   ]
  },
  {
   "cell_type": "code",
   "execution_count": null,
   "id": "c2d78d3b",
   "metadata": {},
   "outputs": [],
   "source": [
    "X.head()"
   ]
  },
  {
   "cell_type": "code",
   "execution_count": null,
   "id": "8f5ddbf0",
   "metadata": {},
   "outputs": [],
   "source": [
    "Y = pd.read_csv('DATAFRAMES/Xfusao.csv', sep=';')\n",
    "Y.drop(labels=['path', 'pessoa', 'genero', 'duracao'], axis=1, inplace=True)\n",
    "Y.shape"
   ]
  },
  {
   "cell_type": "code",
   "execution_count": null,
   "id": "62d2556b",
   "metadata": {},
   "outputs": [],
   "source": [
    "Y.tail()"
   ]
  },
  {
   "cell_type": "code",
   "execution_count": null,
   "id": "e0d4efbb",
   "metadata": {},
   "outputs": [],
   "source": [
    "Y['emocao'].value_counts()"
   ]
  },
  {
   "cell_type": "code",
   "execution_count": null,
   "id": "761ba008",
   "metadata": {},
   "outputs": [],
   "source": [
    "Y['intensidade'].value_counts()"
   ]
  },
  {
   "cell_type": "code",
   "execution_count": null,
   "id": "d2384647",
   "metadata": {},
   "outputs": [],
   "source": [
    "DE_PARA_EMOCAO = {\n",
    "    'alegria': np.array([1,0,0,0]),\n",
    "    'medo': np.array([0,1,0,0]),\n",
    "    'raiva': np.array([0,0,1,0]),\n",
    "    'surpresa': np.array([0,0,0,1]),\n",
    "}\n",
    "\n",
    "DE_PARA_INTENSIDADE = {\n",
    "    'fraca': np.array([1,0,0,0]),\n",
    "    'moderada': np.array([0,1,0,0]),\n",
    "    'forte': np.array([0,0,1,0]),\n",
    "    'pico': np.array([0,0,0,1]),\n",
    "}\n",
    "\n",
    "def encoding_emocao(emocao: str):\n",
    "    return DE_PARA_EMOCAO.get(emocao)\n",
    "\n",
    "def encoding_intensidade(intensidade: str):\n",
    "    return DE_PARA_INTENSIDADE.get(intensidade)"
   ]
  },
  {
   "cell_type": "code",
   "execution_count": null,
   "id": "b4046f81",
   "metadata": {},
   "outputs": [],
   "source": [
    "Y['enc emocao'] = Y['emocao'].apply(encoding_emocao)"
   ]
  },
  {
   "cell_type": "code",
   "execution_count": null,
   "id": "ce205370",
   "metadata": {},
   "outputs": [],
   "source": [
    "Y['enc intensidade'] = Y['intensidade'].apply(encoding_intensidade)  # que é nosso Z"
   ]
  },
  {
   "cell_type": "code",
   "execution_count": null,
   "id": "02a1f7c6",
   "metadata": {},
   "outputs": [],
   "source": [
    "Y.tail()"
   ]
  },
  {
   "cell_type": "markdown",
   "id": "ab9fbda3",
   "metadata": {},
   "source": [
    "## Data Frame"
   ]
  },
  {
   "cell_type": "code",
   "execution_count": null,
   "id": "95aea6d8",
   "metadata": {},
   "outputs": [],
   "source": [
    "df = pd.concat(objs=[Y, X], axis=1)\n",
    "df.drop(labels=['emocao', 'intensidade'], axis=1, inplace=True)\n",
    "df.shape"
   ]
  },
  {
   "cell_type": "code",
   "execution_count": null,
   "id": "57eae214",
   "metadata": {},
   "outputs": [],
   "source": [
    "del X, Y"
   ]
  },
  {
   "cell_type": "code",
   "execution_count": null,
   "id": "fd2c95d8",
   "metadata": {},
   "outputs": [],
   "source": [
    "df.head()"
   ]
  },
  {
   "cell_type": "code",
   "execution_count": null,
   "id": "48ba2fa2",
   "metadata": {},
   "outputs": [],
   "source": [
    "df.tail()"
   ]
  },
  {
   "cell_type": "code",
   "execution_count": null,
   "id": "c53fe67f",
   "metadata": {},
   "outputs": [],
   "source": [
    "Xfeatures = df.values[:,4:].astype('float32')\n",
    "\n",
    "Xfeatures.shape"
   ]
  },
  {
   "cell_type": "code",
   "execution_count": null,
   "id": "cb810608",
   "metadata": {},
   "outputs": [],
   "source": [
    "a = df['arquivo'].iloc[777]\n",
    "\n",
    "plt.plot(Xfeatures[777])\n",
    "\n",
    "plt.title(f'features de {a}')\n",
    "plt.xlabel('np.mean')\n",
    "plt.ylabel('valor')\n",
    "plt.grid()\n",
    "plt.show()"
   ]
  },
  {
   "cell_type": "code",
   "execution_count": null,
   "id": "19fd21c5",
   "metadata": {},
   "outputs": [],
   "source": [
    "xfeatures_train, xfeatures_test = train_test_split(Xfeatures)\n",
    "\n",
    "xfeatures_train.shape, xfeatures_test.shape"
   ]
  },
  {
   "cell_type": "code",
   "execution_count": null,
   "id": "eab74b11",
   "metadata": {},
   "outputs": [],
   "source": [
    "xfeatures_train[0].shape, xfeatures_test[0].shape"
   ]
  },
  {
   "cell_type": "markdown",
   "id": "9259a2ed",
   "metadata": {},
   "source": [
    "## Autoencoder"
   ]
  },
  {
   "cell_type": "code",
   "execution_count": null,
   "id": "e5f7f5df",
   "metadata": {},
   "outputs": [],
   "source": []
  },
  {
   "cell_type": "code",
   "execution_count": null,
   "id": "bf4541bd",
   "metadata": {},
   "outputs": [],
   "source": []
  },
  {
   "cell_type": "code",
   "execution_count": null,
   "id": "98e4f193",
   "metadata": {},
   "outputs": [],
   "source": [
    "K.backend.clear_session()\n",
    "\n",
    "input_sig = K.Input(batch_shape=(None,120,1))\n",
    "x = layers.Conv1D(8,3, activation='relu', padding='same',dilation_rate=2)(input_sig)\n",
    "x1 = layers.MaxPooling1D(2)(x)\n",
    "x2 = layers.Conv1D(4,3, activation='relu', padding='same',dilation_rate=2)(x1)\n",
    "x3 = layers.MaxPooling1D(2)(x2)\n",
    "x4 = layers.AveragePooling1D()(x3)\n",
    "flat = layers.Flatten()(x4)\n",
    "encoded = layers.Dense(20)(flat)\n",
    "\n",
    "d1 = layers.Dense(60)(encoded)\n",
    "d2 = layers.Reshape((15,4))(d1)\n",
    "d3 = layers.Conv1D(4,1,strides=1, activation='relu', padding='same')(d2)\n",
    "d4 = layers.UpSampling1D(2)(d3)\n",
    "d5 = layers.Conv1D(8,1,strides=1, activation='relu', padding='same')(d4)\n",
    "d6 = layers.UpSampling1D(2)(d5)\n",
    "d7 = layers.UpSampling1D(2)(d6)\n",
    "decoded = layers.Conv1D(1,1,strides=1, activation='sigmoid', padding='same')(d7)\n",
    "\n",
    "autoencoder = K.Model(input_sig, decoded, name='autoencoder')\n",
    "\n",
    "autoencoder.compile(optimizer='adam', loss='mse')\n",
    "\n",
    "autoencoder.summary()"
   ]
  },
  {
   "cell_type": "code",
   "execution_count": null,
   "id": "5e23c332",
   "metadata": {
    "scrolled": false
   },
   "outputs": [],
   "source": [
    "%%time\n",
    "\n",
    "with tf.device(PHYS_DEVICE_NAME):\n",
    "    K.backend.clear_session()\n",
    "    history = autoencoder.fit(x=xfeatures_train,\n",
    "                              y=xfeatures_train,\n",
    "                              epochs=20,\n",
    "                              batch_size=20,\n",
    "                              shuffle=True,\n",
    "                              validation_data=(xfeatures_test, xfeatures_test)\n",
    "                             )"
   ]
  },
  {
   "cell_type": "code",
   "execution_count": null,
   "id": "938a058f",
   "metadata": {},
   "outputs": [],
   "source": [
    "plt.figure(figsize=(12, 6))\n",
    "\n",
    "plt.plot(history.history['loss'])\n",
    "plt.plot(history.history['val_loss'])\n",
    "plt.legend(['train', 'val'], loc='upper right')\n",
    "plt.xlabel('epoch')\n",
    "plt.ylabel('loss')\n",
    "\n",
    "plt.grid()\n",
    "plt.show()"
   ]
  },
  {
   "cell_type": "code",
   "execution_count": null,
   "id": "42c25996",
   "metadata": {},
   "outputs": [],
   "source": [
    "# K.backend.clear_session()\n",
    "\n",
    "# input_sig = K.Input(batch_shape=(None,xtrain.iloc[0].shape[0],1)) # 120x1\n",
    "\n",
    "# e = layers.Conv1D(30,4, activation='relu', padding='same')(input_sig)\n",
    "# __pool = 2\n",
    "# e = layers.AveragePooling1D(__pool)(e)\n",
    "# f = layers.Flatten()(e)\n",
    "# print(e.shape)\n",
    "# d = layers.Reshape((e.shape[1],e.shape[2]))(f)\n",
    "# d = layers.UpSampling1D(__pool)(d)\n",
    "# d = layers.Conv1D(1,1,strides=1, activation='linear', padding='same')(d)\n",
    "\n",
    "# autoencoder = K.Model(input_sig, d, name='autoencoder')\n",
    "# autoencoder.compile(optimizer='adam', loss='mse')\n",
    "# autoencoder.summary()\n",
    "\n",
    "# K.backend.clear_session()\n",
    "# history = autoencoder.fit(x=xtrain,\n",
    "#                           y=xtrain,\n",
    "#                           epochs=20,\n",
    "#                           batch_size=10,\n",
    "#                           shuffle=True,\n",
    "#                           validation_data=(xtest, xtest)\n",
    "#                          )\n",
    "\n",
    "# plt.figure(figsize=(12, 6))\n",
    "\n",
    "# plt.plot(history.history['loss'])\n",
    "# plt.plot(history.history['val_loss'])\n",
    "# plt.legend(['train', 'val'], loc='upper right')\n",
    "# plt.xlabel('epoch')\n",
    "# plt.ylabel('loss')\n",
    "\n",
    "# plt.grid()\n",
    "# plt.show()"
   ]
  },
  {
   "cell_type": "code",
   "execution_count": null,
   "id": "3f60648a",
   "metadata": {},
   "outputs": [],
   "source": [
    "K.backend.clear_session()\n",
    "\n",
    "input_sig = K.Input(batch_shape=(None,xtrain.iloc[0].shape[0],1)) # 120x1\n",
    "\n",
    "e = layers.Conv1D(30,4, activation='relu', padding='same')(input_sig)\n",
    "__pool = 2\n",
    "e = layers.AveragePooling1D(__pool)(e)\n",
    "f = layers.Flatten()(e)\n",
    "print(e.shape)\n",
    "d = layers.Reshape((e.shape[1],e.shape[2]))(f)\n",
    "d = layers.UpSampling1D(__pool)(d)\n",
    "d = layers.Conv1D(1,1,strides=1, activation='linear', padding='same')(d)\n",
    "\n",
    "\n",
    "autoencoder = K.Model(input_sig, d, name='autoencoder')\n",
    "autoencoder.compile(optimizer='adam', loss='mse')\n",
    "autoencoder.summary()\n",
    "\n",
    "K.backend.clear_session()\n",
    "history = autoencoder.fit(x=xtrain,\n",
    "                          y=xtrain,\n",
    "                          epochs=20,\n",
    "                          batch_size=10,\n",
    "                          shuffle=True,\n",
    "                          validation_data=(xtest, xtest)\n",
    "                         )\n",
    "\n",
    "plt.figure(figsize=(12, 6))\n",
    "\n",
    "plt.plot(history.history['loss'])\n",
    "plt.plot(history.history['val_loss'])\n",
    "plt.legend(['train', 'val'], loc='upper right')\n",
    "plt.xlabel('epoch')\n",
    "plt.ylabel('loss')\n",
    "\n",
    "plt.grid()\n",
    "plt.show()"
   ]
  },
  {
   "cell_type": "code",
   "execution_count": null,
   "id": "5eceadd9",
   "metadata": {},
   "outputs": [],
   "source": []
  },
  {
   "cell_type": "code",
   "execution_count": null,
   "id": "a4cc605d",
   "metadata": {},
   "outputs": [],
   "source": []
  },
  {
   "cell_type": "markdown",
   "id": "65268457",
   "metadata": {},
   "source": [
    "## Classificador"
   ]
  },
  {
   "cell_type": "code",
   "execution_count": null,
   "id": "747a1c9f",
   "metadata": {},
   "outputs": [],
   "source": [
    "Xvivae = df[df['dataset'] == 'vivae'].values[:,4:].astype('float32')\n",
    "Xverbo = df[df['dataset'] == 'verbo'].values[:,4:].astype('float32')\n",
    "\n",
    "Xverbo.shape, Xvivae.shape"
   ]
  },
  {
   "cell_type": "code",
   "execution_count": null,
   "id": "751898c9",
   "metadata": {},
   "outputs": [],
   "source": []
  },
  {
   "cell_type": "code",
   "execution_count": null,
   "id": "292edbd8",
   "metadata": {},
   "outputs": [],
   "source": []
  },
  {
   "cell_type": "code",
   "execution_count": null,
   "id": "03b10966",
   "metadata": {},
   "outputs": [],
   "source": []
  },
  {
   "cell_type": "markdown",
   "id": "018428ff",
   "metadata": {},
   "source": [
    "## Decomposição"
   ]
  },
  {
   "cell_type": "code",
   "execution_count": null,
   "id": "58174b62",
   "metadata": {},
   "outputs": [],
   "source": []
  },
  {
   "cell_type": "code",
   "execution_count": null,
   "id": "7f44228e",
   "metadata": {},
   "outputs": [],
   "source": []
  },
  {
   "cell_type": "code",
   "execution_count": null,
   "id": "ceabffb0",
   "metadata": {},
   "outputs": [],
   "source": []
  },
  {
   "cell_type": "code",
   "execution_count": null,
   "id": "61473a81",
   "metadata": {},
   "outputs": [],
   "source": []
  },
  {
   "cell_type": "code",
   "execution_count": null,
   "id": "dc260b65",
   "metadata": {},
   "outputs": [],
   "source": []
  },
  {
   "cell_type": "code",
   "execution_count": null,
   "id": "60eec292",
   "metadata": {},
   "outputs": [],
   "source": []
  },
  {
   "cell_type": "code",
   "execution_count": null,
   "id": "414bcabb",
   "metadata": {},
   "outputs": [],
   "source": []
  },
  {
   "cell_type": "code",
   "execution_count": null,
   "id": "dce20572",
   "metadata": {},
   "outputs": [],
   "source": []
  },
  {
   "cell_type": "markdown",
   "id": "519a5d52",
   "metadata": {},
   "source": [
    "___\n",
    "Refs:\n",
    "\n",
    "- [62] https://sci-hub.se/10.1109/tmm.2017.2766843\n",
    "- [63] https://sci-hub.se/10.1016/j.bspc.2018.08.035\n",
    "- [64] https://arxiv.org/pdf/1712.08708.pdf\n",
    "- [65] https://sci-hub.se/10.1109/icassp.2018.8462685\n",
    "- [66] https://ieeexplore.ieee.org/stamp/stamp.jsp?arnumber=9136653\n",
    "- [67] https://sci-hub.se/10.1109/ectidamtncon48261.2020.9090768\n",
    "- [68] https://www.isca-speech.org/archive_v0/Interspeech_2019/pdfs/2561.pdf\n",
    "- https://sci-hub.se/10.7717/peerj.488\n"
   ]
  }
 ],
 "metadata": {
  "kernelspec": {
   "display_name": "Python 3 (ipykernel)",
   "language": "python",
   "name": "python3"
  },
  "language_info": {
   "codemirror_mode": {
    "name": "ipython",
    "version": 3
   },
   "file_extension": ".py",
   "mimetype": "text/x-python",
   "name": "python",
   "nbconvert_exporter": "python",
   "pygments_lexer": "ipython3",
   "version": "3.8.10"
  }
 },
 "nbformat": 4,
 "nbformat_minor": 5
}
